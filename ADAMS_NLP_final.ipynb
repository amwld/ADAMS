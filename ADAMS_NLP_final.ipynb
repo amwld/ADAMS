{
 "cells": [
  {
   "cell_type": "markdown",
   "metadata": {},
   "source": [
    "*Amanda Maiwald - maiwald@posteo.de - Mat.-No.599665*\n",
    "\n",
    "------"
   ]
  },
  {
   "cell_type": "markdown",
   "metadata": {},
   "source": [
    "# ADAMS NLP SS2019\n",
    "--------\n"
   ]
  },
  {
   "cell_type": "markdown",
   "metadata": {},
   "source": [
    "## Introduction"
   ]
  },
  {
   "cell_type": "markdown",
   "metadata": {},
   "source": [
    "In the past few years, data science has become an increasingly popular area of research. When studying data science it is almost impossible not to read articles published on Medium on a regular basis, as the website stores an extremely large amount of articles about this topic. Medium works with \"claps\" to enable readers to show their appreciation of an article. Machine learning algorithms can be applied to predict the claps an article received, given the text and meta information.\n",
    "\n",
    "The following report describes the procedure of solving this natural language processing task with a neural network. Two different data sets are available to build and train the model. An unlabelled smaller data set is then used to make predictions. These predictions are uploaded to a Kaggle challenge and benchmarked against the predictions of other students. The report on the methodology and results is divided into the following sections:\n",
    "1. Exploratory Data Analysis\n",
    "2. Data Preparation\n",
    "3. Model Tuning and Selection\n",
    "4. Model Evaluation\n",
    "5. Discussion and outlook"
   ]
  },
  {
   "cell_type": "markdown",
   "metadata": {},
   "source": [
    "---"
   ]
  },
  {
   "cell_type": "markdown",
   "metadata": {},
   "source": [
    "## 1. Exploratory Data Analysis"
   ]
  },
  {
   "cell_type": "markdown",
   "metadata": {},
   "source": [
    "There are three data sets that are available for the following task. Two data sets containing articles, meta information and claps and a third data set without claps, which the prediction will be made on. The two training data sets differe significantly in their lenght and width. Furthermore the test data set contains a different number of columns than both of them.  \n",
    "\n",
    "In the end only the features present in the test data set can be used for predictions. Therefore any additional columns in the training data sets can be discarded. The columns from test are all present in the aggr data set. Therefore the aggr data set is reduced to these features.  \n",
    "\n",
    "However the articles data set contains fewer columns than the test data set. These values could be imputed on the basis of the aggr data sets values for the missing columns. However the articles data set only contains 287 unique rows that are not already present in the aggr data. As this represent less than 1% of the data already present in aggr it will not impact the the model in any relevant way. The articles data set will therefore not be used."
   ]
  },
  {
   "cell_type": "markdown",
   "metadata": {},
   "source": [
    "| Data Set                  | Variable Name | # Original Rows |  # Unique Rows | # Columns | Contains Claps |\n",
    "| ------------------------- | --------------| --------------- | -------------- | --------- | -------------- |\n",
    "| Medium_AggregatedData.csv | aggr          |279,577         | 72,285         | 50        | Yes            |\n",
    "| Articles.csv              | articles      |337             | 287            | 6         | Yes            |\n",
    "| test.csv                  | test          |514             | 514            | 8         | No             |"
   ]
  },
  {
   "cell_type": "markdown",
   "metadata": {},
   "source": [
    "The following independant variables are present in the test data set and the aggr data set and will be explored in more detail:\n",
    "```Author```  ```PublicationDetails```  ```Responses```  ```Header```  ```Text```  ```Length```  \n",
    "Before diving into the data analysis some preliminary thoughts and hypotheses on the topic should be noted: Medium articles can only receive 'positive' claps. This means that the more people read an article, the more likely it is to have a high clap rating. Important factors on the amount claps will therefore be characteristics that lead to a large reader group. It could be possible that certain author have a loyal fan base. Moreover popular topics will attract large numbers of readers. It is also conceivable that the length of the article or the header influence the number of peaople reading an article. In general articles that are older will have more claps than articles that were posted very recently, as they have had more time to collect claps. The weekday that an article was published on might also impact the amount of claps as it it conceivable that people primarily read on certain weekdays for example the weekend. It might also be of interest to look at the different websites that articles were published on, as larger websites have a larger group of possible readers that can be reached. These hypotheses will be insepcted and tested during the following data analysis."
   ]
  },
  {
   "cell_type": "code",
   "execution_count": null,
   "metadata": {},
   "outputs": [],
   "source": [
    "import tensorflow as tf\n",
    "import pandas as pd\n",
    "import numpy as np\n",
    "import io\n",
    "import matplotlib.pyplot as plt\n",
    "%matplotlib inline\n",
    "import seaborn as sns\n",
    "import copy\n",
    "import re\n",
    "import collections\n",
    "import h5py\n",
    "\n",
    "import keras as keras\n",
    "from keras import backend as K\n",
    "from keras.utils import np_utils, multi_gpu_model\n",
    "from keras.utils.np_utils import to_categorical\n",
    "from keras.models import Sequential, load_model, Model\n",
    "from keras.callbacks import ModelCheckpoint, EarlyStopping\n",
    "from keras.optimizers import SGD\n",
    "from keras.layers import Dropout, Activation, Flatten, Dense, Embedding, LSTM, GRU, Input, Bidirectional\n",
    "from keras.layers.embeddings import Embedding\n",
    "from keras.initializers import Constant\n",
    "from keras.applications import Xception\n",
    "from keras.preprocessing.sequence import pad_sequences\n",
    "from keras.preprocessing.text import Tokenizer\n",
    "\n",
    "import sklearn\n",
    "from sklearn import model_selection\n",
    "from sklearn.preprocessing import LabelEncoder\n",
    "from sklearn.model_selection import train_test_split, GridSearchCV\n",
    "from sklearn.metrics import classification_report, confusion_matrix, mean_squared_error, mean_squared_log_error\n",
    "from sklearn.linear_model import LogisticRegression, SGDRegressor\n",
    "from sklearn.feature_extraction.text import CountVectorizer\n",
    "from sklearn.experimental import enable_iterative_imputer\n",
    "from sklearn.impute import IterativeImputer\n",
    "\n",
    "import nltk\n",
    "from nltk.tokenize import word_tokenize\n",
    "from nltk.corpus import stopwords\n",
    "from nltk.stem import WordNetLemmatizer\n",
    "from nltk.corpus import wordnet\n",
    "nltk.download('punkt')\n",
    "nltk.download('averaged_perceptron_tagger')\n",
    "nltk.download('wordnet')\n",
    "\n",
    "import gensim\n",
    "from gensim.models import Word2Vec \n",
    "\n",
    "import time\n",
    "from datetime import datetime as dt\n",
    "\n",
    "import pickle\n",
    "\n",
    "import warnings\n",
    "warnings.filterwarnings(\"ignore\", category=UserWarning, module='bs4')\n",
    "\n",
    "from scipy import sparse"
   ]
  },
  {
   "cell_type": "code",
   "execution_count": 6,
   "metadata": {},
   "outputs": [],
   "source": [
    "# Load data\n",
    "articles = pd.read_csv('articles.csv')\n",
    "aggr = pd.read_csv('Medium_AggregatedData.csv')\n",
    "test = pd.read_csv('test.csv')"
   ]
  },
  {
   "cell_type": "code",
   "execution_count": 7,
   "metadata": {},
   "outputs": [],
   "source": [
    "ran = 42"
   ]
  },
  {
   "cell_type": "markdown",
   "metadata": {},
   "source": [
    "### Independent Variable: Author"
   ]
  },
  {
   "cell_type": "markdown",
   "metadata": {},
   "source": [
    "The variable ```Author``` names the author of the respective article. The articles in the training data set aggr are written by 31,021 different authors. The author with the highest number of published articles is 'Synced' with 378 published articles. The articles in the test data set are written by 225 different authors. The most active author in this data set is the 'Netflix Technology Blog' with 175 published articles. The scatterplot below shows the relation between the number of articles an author published and the amount of claps that the respective article got. It appears that articles by very active authors do often receive very little claps. On the other hand may authors only published a handful of articles and received a large number of claps. Figure 2 shows the claps that authors who published between 1 and 11 articles received on average on their articles. As 50% of all authors published 11 articles or less, this shows an interesting part of the data. Here it can be observed that authors who published more articles receved on average more claps."
   ]
  },
  {
   "cell_type": "code",
   "execution_count": 92,
   "metadata": {},
   "outputs": [
    {
     "data": {
      "image/png": "[encoded data removed]",
      "text/plain": [
       "<Figure size 432x288 with 1 Axes>"
      ]
     },
     "metadata": {
      "needs_background": "light"
     },
     "output_type": "display_data"
    }
   ],
   "source": [
    "import matplotlib.pylab as plb\n",
    "x = aggr_clean2['Author_count']\n",
    "y = aggr_clean2['Claps']\n",
    "plt.scatter(x, y, c=\"g\", alpha=0.5)\n",
    "plt.xlabel(\"Published articles per author\")\n",
    "plt.ylabel(\"Claps\")\n",
    "plt.title('Figure 1: Articles per author in relation to claps (aggr)')\n",
    "axes = plt.gca()\n",
    "#axes.set_xlim([xmin,xmax])\n",
    "axes.set_ylim([0,50000])\n",
    "plt.show()"
   ]
  },
  {
   "cell_type": "code",
   "execution_count": 95,
   "metadata": {},
   "outputs": [
    {
     "data": {
      "image/png": "[encoded data removed]",
      "text/plain": [
       "<Figure size 432x288 with 1 Axes>"
      ]
     },
     "metadata": {
      "needs_background": "light"
     },
     "output_type": "display_data"
    }
   ],
   "source": [
    "author_count_mean_claps = aggr_clean2.groupby(['Author_count']).mean()\n",
    "x = author_count_mean_claps.index\n",
    "y = author_count_mean_claps['Claps']\n",
    "plt.scatter(x, y, c=\"g\", alpha=0.5)\n",
    "plt.xlabel(\"Published articles per author\")\n",
    "plt.ylabel(\"Average claps\")\n",
    "plt.title('Figure 2: Articles grouped by published articles per author')\n",
    "axes = plt.gca()\n",
    "axes.set_xlim([1,11])\n",
    "axes.set_ylim([0,400])\n",
    "plt.show()"
   ]
  },
  {
   "cell_type": "markdown",
   "metadata": {},
   "source": [
    "### Independent Variable: PublicationDetails"
   ]
  },
  {
   "cell_type": "markdown",
   "metadata": {},
   "source": [
    "The variable PublicationDetails from the test data set is an aggregate of the publish date, the authors name and the website the article was published on. The publication date will be extracted from it as it can be found in the training data as well. The publishing date of the training and the test data set stretch from 2010-12-01 untill the 2018-12-28. Figure 3 shows that the older the article is, the more claps is received. This is in accordance with the hypotheses that was stated in the introduction.  "
   ]
  },
  {
   "cell_type": "code",
   "execution_count": 105,
   "metadata": {},
   "outputs": [
    {
     "data": {
      "image/png": "[encoded data removed]",
      "text/plain": [
       "<Figure size 432x288 with 1 Axes>"
      ]
     },
     "metadata": {
      "needs_background": "light"
     },
     "output_type": "display_data"
    }
   ],
   "source": [
    "x = aggr_clean2['Day_nr']\n",
    "y = aggr_clean2['Claps']\n",
    "plt.scatter(x, y, c=\"g\", alpha=0.5)\n",
    "plt.xlabel(\"Age of article in days\")\n",
    "plt.ylabel(\"Average claps\")\n",
    "plt.title('Figure 3: Age of article in relation to claps (aggr)')\n",
    "axes = plt.gca()\n",
    "#axes.set_xlim([1,11])\n",
    "#axes.set_ylim([0,400])\n",
    "plt.show()"
   ]
  },
  {
   "cell_type": "markdown",
   "metadata": {},
   "source": [
    "Another hypotheses that was stated in the introduction is that the weekday that an article was published, influences the amount of claps it receives. This is based on the assumption that it matters how many claps an article receives right after it was published. This might be the case if Medium works with an algorithm that promotes articles that have a high engagement rate right after beeing published (similiar to some social media websites). Figure 4 does show that articles first published on a sunday do indeed receive on average more claps than articles piblished on other days."
   ]
  },
  {
   "cell_type": "code",
   "execution_count": 109,
   "metadata": {},
   "outputs": [
    {
     "data": {
      "image/png": "[encoded data removed]",
      "text/plain": [
       "<Figure size 432x288 with 1 Axes>"
      ]
     },
     "metadata": {
      "needs_background": "light"
     },
     "output_type": "display_data"
    }
   ],
   "source": [
    "weekday_mean_claps = aggr_clean2.groupby(['Weekday']).mean()\n",
    "x = weekday_mean_claps.index\n",
    "y = weekday_mean_claps['Claps']\n",
    "plt.scatter(x, y, c=\"g\", alpha=0.5)\n",
    "plt.xlabel(\"Weekday\")\n",
    "plt.ylabel(\"Average claps\")\n",
    "plt.title('Figure 4: Average claps for articles posted on a certain weekday')\n",
    "axes = plt.gca()\n",
    "axes.set_xlim([0,6])\n",
    "axes.set_ylim([0,250])\n",
    "plt.show()"
   ]
  },
  {
   "cell_type": "markdown",
   "metadata": {},
   "source": [
    "### Independent Variable: Responses"
   ]
  },
  {
   "cell_type": "markdown",
   "metadata": {},
   "source": [
    "The variable 'Responses' counts the number of comments an article received. Most of the articles did not receive any claps, as the avery number of responses per articles is 0.85. Figure 5 shows an excerpt of the responses until 200 as less than 1% of the articles received more than 200 responses. In this excerpt it can be observed that the number of responses correlates positively with the number of claps an article got."
   ]
  },
  {
   "cell_type": "code",
   "execution_count": 114,
   "metadata": {},
   "outputs": [
    {
     "data": {
      "image/png": "[encoded data removed]",
      "text/plain": [
       "<Figure size 432x288 with 1 Axes>"
      ]
     },
     "metadata": {
      "needs_background": "light"
     },
     "output_type": "display_data"
    }
   ],
   "source": [
    "x = aggr_clean2['Responses']\n",
    "y = aggr_clean2['Claps']\n",
    "plt.scatter(x, y, c=\"g\", alpha=0.5)\n",
    "plt.xlabel(\"Responses\")\n",
    "plt.ylabel(\"Claps\")\n",
    "plt.title('Figure 5: Responses in relation to claps (aggr)')\n",
    "axes = plt.gca()\n",
    "axes.set_xlim([0,200])\n",
    "axes.set_ylim([0,100000])\n",
    "plt.show()"
   ]
  },
  {
   "cell_type": "markdown",
   "metadata": {},
   "source": [
    "### Independent Variables Header"
   ]
  },
  {
   "cell_type": "markdown",
   "metadata": {},
   "source": [
    "The variable ```Header``` is a textual variable containing the title of the respective article. It is one of two variables that will be used during the process of natural language processing. Before dinving into NLP another feature will be created from it: ```Header length```, which is the number of words the header has. Figure 6 shows that articles with very short or very long titles seem to receive fewer claps. Intuitively this seems to make sense as a very short title is uninformative and a very long on might not be very appealing."
   ]
  },
  {
   "cell_type": "code",
   "execution_count": 158,
   "metadata": {},
   "outputs": [
    {
     "data": {
      "image/png": "[encoded data removed]",
      "text/plain": [
       "<Figure size 432x288 with 1 Axes>"
      ]
     },
     "metadata": {
      "needs_background": "light"
     },
     "output_type": "display_data"
    }
   ],
   "source": [
    "x = aggr_clean2['Header_length']\n",
    "y = aggr_clean2['Claps']\n",
    "plt.scatter(x, y, c=\"g\", alpha=0.5)\n",
    "plt.xlabel(\"Header length\")\n",
    "plt.ylabel(\"Claps\")\n",
    "plt.title('Figure 6: Header length in relation to claps (aggr)')\n",
    "axes = plt.gca()\n",
    "axes.set_xlim([0,25])\n",
    "axes.set_ylim([0,100000])\n",
    "plt.show()"
   ]
  },
  {
   "cell_type": "markdown",
   "metadata": {},
   "source": [
    "### Independent Variables: Text and Text Length"
   ]
  },
  {
   "cell_type": "markdown",
   "metadata": {},
   "source": [
    "The feature ```Text``` contains the article itself. It will be anaylsed using NLP techniques. The variable ```Text length``` contains the number of words the article has. Figure seven shows that articles that received a lot of claps were seldom longer than 5000 words long."
   ]
  },
  {
   "cell_type": "code",
   "execution_count": 165,
   "metadata": {},
   "outputs": [
    {
     "data": {
      "text/plain": [
       "1119.0"
      ]
     },
     "execution_count": 165,
     "metadata": {},
     "output_type": "execute_result"
    }
   ],
   "source": [
    "np.percentile(aggr_clean2['Text_length'], 75)"
   ]
  },
  {
   "cell_type": "code",
   "execution_count": 172,
   "metadata": {},
   "outputs": [
    {
     "data": {
      "image/png": "[encoded data removed]",
      "text/plain": [
       "<Figure size 432x288 with 1 Axes>"
      ]
     },
     "metadata": {
      "needs_background": "light"
     },
     "output_type": "display_data"
    }
   ],
   "source": [
    "x = aggr_clean2['Text_length']\n",
    "y = aggr_clean2['Claps']\n",
    "plt.scatter(x, y, c=\"g\", alpha=0.5)\n",
    "plt.xlabel(\"Text length\")\n",
    "plt.ylabel(\"Claps\")\n",
    "plt.title('Figure 7: Text length in relation to claps (aggr)')\n",
    "axes = plt.gca()\n",
    "#axes.set_xlim([0,np.percentile(aggr_clean2['Text_length'], 75)])\n",
    "#axes.set_ylim([0,25000])\n",
    "plt.show()"
   ]
  },
  {
   "cell_type": "markdown",
   "metadata": {},
   "source": [
    "### Dependant Variable: Count of claps for articles"
   ]
  },
  {
   "cell_type": "markdown",
   "metadata": {},
   "source": [
    "The table below shows the distribution of the dependent variable claps per article. The highest number of claps an article got in our training data is 291,706 claps and the lowest 0 claps. However 75% of the articles in the training data set have 72 or less claps. 50% of all articles have 8 claps or less. And 25% of the articles did not receive any claps."
   ]
  },
  {
   "cell_type": "code",
   "execution_count": 147,
   "metadata": {},
   "outputs": [
    {
     "name": "stdout",
     "output_type": "stream",
     "text": [
      "count    279577.000000\n",
      "mean        184.963473\n",
      "std        1985.353004\n",
      "min           0.000000\n",
      "25%           0.000000\n",
      "50%           8.000000\n",
      "75%          72.000000\n",
      "max      291706.000000\n",
      "Name: totalClapCount, dtype: float64\n"
     ]
    }
   ],
   "source": [
    "print(aggr['totalClapCount'].describe())"
   ]
  },
  {
   "cell_type": "markdown",
   "metadata": {},
   "source": [
    "### Correlation Matrix"
   ]
  },
  {
   "cell_type": "markdown",
   "metadata": {},
   "source": [
    "Figure 8 shows a correlation matrix of all numeric features. It shows a relatively high positive correlation between the number of responses anf the number of claps. Furthermore a small positive correlation between text length and claps can be observed. It can also be deduced that there is a small correlation between responses and text length, header length and text length and author cound and header length."
   ]
  },
  {
   "cell_type": "code",
   "execution_count": 156,
   "metadata": {},
   "outputs": [
    {
     "data": {
      "image/png": "[encoded data removed]",
      "text/plain": [
       "<Figure size 576x576 with 2 Axes>"
      ]
     },
     "metadata": {
      "needs_background": "light"
     },
     "output_type": "display_data"
    }
   ],
   "source": [
    "aggr_clean_int = copy.copy(aggr_clean2)\n",
    "aggr_clean_int = aggr_clean_int[['Author_count', 'Responses', 'Header_length', 'Text_length', 'Day_nr', 'Claps']]\n",
    "\n",
    "# Plot correlation of numeric variables\n",
    "f = plt.figure(figsize=(8, 8))\n",
    "plt.matshow(aggr_clean_int.corr(), fignum=f.number)\n",
    "plt.title('Figure 8: Correlation matrix (aggr)')\n",
    "plt.xticks(range(aggr_clean_int.shape[1]), aggr_clean_int.columns, fontsize=8)\n",
    "plt.yticks(range(aggr_clean_int.shape[1]), aggr_clean_int.columns, fontsize=8)\n",
    "cb = plt.colorbar()\n",
    "cb.ax.tick_params(labelsize=8)\n",
    "#plt.title('Correlation Matrix', fontsize=8)"
   ]
  },
  {
   "cell_type": "markdown",
   "metadata": {},
   "source": [
    "## Data cleaning"
   ]
  },
  {
   "cell_type": "markdown",
   "metadata": {},
   "source": [
    "There are three data sets that are being used for the task. Two training data sets and the test data set that the prediction will be made on. The smaller training data set contains 337 oberservations and features the variables author, claps, readingtime, link, title and text. The other training data set is much larger with 279,577 observations and 50 variables.\n",
    "The test data set contains 514 rows and 8 variables.\n",
    "For training purposes the larger data set will be used as the small one does not contain enough data."
   ]
  },
  {
   "cell_type": "markdown",
   "metadata": {},
   "source": [
    "### Cleaning test data"
   ]
  },
  {
   "cell_type": "code",
   "execution_count": 17,
   "metadata": {},
   "outputs": [
    {
     "name": "stdout",
     "output_type": "stream",
     "text": [
      "Frequency of the elements in the List :  Counter({'2018': 196, '2017': 122, '2016': 72, None: 71, '2015': 30, '2012': 8, '2011': 6, '2014': 4, '2013': 3, '2010': 2})\n",
      "Frequency of the elements :  Counter({nan: 82, '1 ': 62, '4 ': 45, '3 ': 44, '2 ': 44, '7 ': 28, '5 ': 22, '8 ': 17, '13 ': 13, '10 ': 12, '6 ': 12, '9 ': 9, '15 ': 8, '18 ': 6, '14 ': 6, '17 ': 6, '11 ': 5, '20 ': 4, '76 ': 4, '23 ': 3, '31 ': 3, '116 ': 3, '26 ': 3, '53 ': 3, '49 ': 2, '36 ': 2, '22 ': 2, '33 ': 2, '12 ': 2, '1,263 ': 2, '190 ': 2, '16 ': 2, '55 ': 2, '61 ': 2, '42 ': 2, '21 ': 2, '34 ': 2, '24 ': 2, '627 ': 1, '156 ': 1, '176 ': 1, '72 ': 1, '19 ': 1, '67 ': 1, '355 ': 1, '323 ': 1, '113 ': 1, '108 ': 1, '77 ': 1, '48 ': 1, '70 ': 1, '25 ': 1, '59 ': 1, '27 ': 1, '827 ': 1, '175 ': 1, '65 ': 1, '107 ': 1, '35 ': 1, '183 ': 1, '41 ': 1, '1,056 ': 1, '221 ': 1, '161 ': 1, '92 ': 1, '157 ': 1, '146 ': 1, '44 ': 1, '426 ': 1, '163 ': 1, '60 ': 1, '191 ': 1, '51 ': 1, '96 ': 1, '123 ': 1, '39 ': 1, '30 ': 1, '56 ': 1, '47 ': 1, '181 ': 1})\n"
     ]
    }
   ],
   "source": [
    "test_clean = copy.copy(test) # safety copy\n",
    "\n",
    "# remove unecessary columns\n",
    "test_clean = test_clean.drop(['Unnamed: 0','index'], axis = 1)\n",
    "test_cols = list(test_clean.columns.values)\n",
    "\n",
    "# Split publication details before date\n",
    "new = test_clean['PublicationDetails'].str[-13:].str.split('(Jan|Feb|Mar|Apr|May|Jun|Jul|Aug|Sep|Oct|Nov|Dec)', n = 1, expand = True)\n",
    "new = new.drop([0], axis = 1)\n",
    "new2 = new[2].str.split(', ', expand = True)\n",
    "d = {'month': new[1], 'day': new2[0], 'year' : new2[1]}\n",
    "published = pd.DataFrame(d)\n",
    "print(\"Frequency of the elements in the List : \",collections.Counter(published['year'])) # Most frequent year: 2018\n",
    "# Set missing year to most frequent year\n",
    "published = published.replace([None], '2018') \n",
    "published['date'] = published['day']+'-'+published['month']+'-'+published['year']\n",
    "published['date'] = pd.to_datetime(published['date'])\n",
    "published['date_num'] = pd.to_datetime(published['date'], format = '%Y%m%d')\n",
    "published['Weekday'] = published['date'].dt.dayofweek\n",
    "#print(min(aggr['latestPublishedDate'])) #find earliest date to count days from there on\n",
    "#print(min(published['date_num']))\n",
    "start_date = min(published['date_num'])\n",
    "published['start_date'] = start_date\n",
    "\n",
    "# Get number of days since earliest date\n",
    "published['Day_nr'] = published['date_num']-published['start_date']\n",
    "published['Day_nr'] = published['Day_nr']/np.timedelta64(1, 'D')\n",
    "published['Day_nr'] = published['Day_nr'].astype(int)\n",
    "\n",
    "# Create variable for published on which weekday\n",
    "test_clean['Weekday'] = published['Weekday']\n",
    "test_clean['Day_nr'] = published['Day_nr']\n",
    "\n",
    "# Clean up variable for responses\n",
    "test_clean2 = copy.copy(test_clean)\n",
    "new4 = test_clean2['Responses'].str.split('(responses|response)', n = 1, expand = True) # rem\n",
    "test_clean2['Responses'] = new4[0]\n",
    "print(\"Frequency of the elements : \",collections.Counter(test_clean2['Responses'])) #Problem with NaN and commas\n",
    "# remove commas in 1,000\n",
    "test_clean2['Responses'] = test_clean2['Responses'].str.replace(',','')\n",
    "# Replace NaN values with 0 and convert to int\n",
    "test_clean2['Responses'] = test_clean2['Responses'].fillna(0).astype(int)\n",
    "\n",
    "# Clean header variable\n",
    "test_clean2['Header'] = test_clean2['Header'].fillna('').astype(str) # replace nan with 0 and convert to string\n",
    "test_clean2['Header'] = test_clean2['Header'].astype(str)\n",
    "\n",
    "# Create variable for header length\n",
    "test_clean2['Header_length'] = test_clean2['Header'].apply(lambda x: len(x.split()))\n",
    "\n",
    "# Combine header and text body\n",
    "test_clean2['Text_complete'] = test_clean2['Header'] + test_clean2['Text']\n",
    "\n",
    "# Drop unnecessary columns\n",
    "test_clean2 = test_clean2.drop(['PublicationDetails'], axis = 1)\n",
    "\n",
    "# Count published articles per author\n",
    "test_author_count = test_clean2['Author'].value_counts().reset_index(name='Author_count').rename(columns={'index': 'Author'})\n",
    "test_author_count\n",
    "test_clean2 = pd.merge(test_clean2,test_author_count,on=['Author'], how='left' )\n",
    "\n",
    "# Rename and reorder columns\n",
    "test_clean2.columns = ['Author', 'Responses', 'Header', 'Text', 'Text_length', 'Weekday','Day_nr',\n",
    "                       'Header_length', 'Text_complete', 'Author_count']\n",
    "test_clean2 = test_clean2[['Author_count', 'Responses', 'Header', 'Text', 'Text_complete', 'Header_length',\n",
    "                           'Text_length', 'Day_nr', 'Weekday']]"
   ]
  },
  {
   "cell_type": "markdown",
   "metadata": {},
   "source": [
    "### Design the training data the same ways as the test data e.g. same features, types etc."
   ]
  },
  {
   "cell_type": "code",
   "execution_count": 18,
   "metadata": {},
   "outputs": [],
   "source": [
    "aggr_clean = copy.copy(aggr)\n",
    "aggr_cols_drop = list(aggr_clean.columns.values)\n",
    "\n",
    "for col in ('author','responsesCreatedCount', 'title', 'text', 'latestPublishedDate', 'totalClapCount'):\n",
    "    aggr_cols_drop.remove(col)\n",
    "\n",
    "# Remove columns that are not in test data\n",
    "aggr_clean = aggr_clean.drop(aggr_cols_drop, axis = 1)\n",
    "\n",
    "# Remove duplicates\n",
    "aggr_clean.drop_duplicates(keep='first',inplace=True)\n",
    "\n",
    "# Rename and reorder columns like test data\n",
    "aggr_clean.columns = ['date', 'Responses', 'Text', 'Header', 'Claps', 'Author']\n",
    "\n",
    "aggr_clean2 = copy.copy(aggr_clean) # Safety copy\n",
    "\n",
    "aggr_clean2['date'] = pd.to_datetime(aggr_clean2['date'])\n",
    "aggr_clean2['Weekday'] = aggr_clean2['date'].dt.dayofweek\n",
    "aggr_clean2['start_date'] = start_date\n",
    "aggr_clean2['Day_nr'] = aggr_clean2['date']-aggr_clean2['start_date'] \n",
    "aggr_clean2['Day_nr'] = aggr_clean2['Day_nr']/np.timedelta64(1, 'D')\n",
    "aggr_clean2['Day_nr'] = aggr_clean2['Day_nr'].astype(int)\n",
    "\n",
    "aggr_clean2['Header'] = aggr_clean2['Header'].fillna('').astype(str) # replace nan with 0 and convert to string\n",
    "aggr_clean2['Header'] = aggr_clean2['Header'].astype(str)\n",
    "aggr_clean2['Header_length'] = aggr_clean2['Header'].apply(lambda x: len(x.split())) # count words of header\n",
    "\n",
    "aggr_clean2['Text_length'] = aggr_clean2['Text'].apply(lambda x: len(x.split())) # count words of text body\n",
    "\n",
    "aggr_clean2['Text_complete'] = aggr_clean2['Header'] + aggr_clean2['Text'] # combine header and text body\n",
    "\n",
    "aggr_clean2 = aggr_clean2.drop(['date', 'start_date', ], axis = 1) # remove columns that are not in test data\n",
    "\n",
    "# Replace author names with count of their articles\n",
    "aggr_author_count = aggr_clean2['Author'].value_counts().reset_index(name='Author_count').rename(columns={'index': 'Author'})\n",
    "aggr_clean2 = pd.merge(aggr_clean2,aggr_author_count,on=['Author'], how='left' )\n",
    "aggr_clean2 = aggr_clean2[['Author_count', 'Responses', 'Header', 'Text', 'Text_complete', 'Header_length',\n",
    "                           'Text_length', 'Day_nr', 'Weekday', 'Claps']]"
   ]
  },
  {
   "cell_type": "code",
   "execution_count": 8,
   "metadata": {},
   "outputs": [
    {
     "data": {
      "image/png": "[encoded data removed]",
      "text/plain": [
       "<Figure size 360x360 with 2 Axes>"
      ]
     },
     "metadata": {
      "needs_background": "light"
     },
     "output_type": "display_data"
    }
   ],
   "source": [
    "aggr_clean_int = copy.copy(aggr_clean2)\n",
    "aggr_clean_int = aggr_clean_int[['Author_count', 'Responses', 'Header_length', 'Text_length', 'Day_nr', 'Claps']]\n",
    "\n",
    "# Plot correlation of numeric variables\n",
    "f = plt.figure(figsize=(5, 5))\n",
    "plt.matshow(aggr_clean_int.corr(), fignum=f.number)\n",
    "plt.xticks(range(aggr_clean_int.shape[1]), aggr_clean_int.columns, fontsize=8, rotation=45)\n",
    "plt.yticks(range(aggr_clean_int.shape[1]), aggr_clean_int.columns, fontsize=8)\n",
    "cb = plt.colorbar()\n",
    "cb.ax.tick_params(labelsize=8)\n",
    "#plt.title('Correlation Matrix', fontsize=8)"
   ]
  },
  {
   "cell_type": "markdown",
   "metadata": {},
   "source": [
    "-------------"
   ]
  },
  {
   "cell_type": "markdown",
   "metadata": {},
   "source": [
    "## Inspect articles data set"
   ]
  },
  {
   "cell_type": "markdown",
   "metadata": {},
   "source": [
    "Besides the large data set there also exists a much smaller data set called articles.csv. At first glimpse it looks like it contains 337 additional rows. however after closer inspection it becomes obvious, that there are 50 articles that exist in the large and the small data set, only differing slightly in their clap counts. The articles data set therefore only contains 287 additional articles. The small data set lacks other important features that are present in the larger data set like publishing date. As the number of articles is very long and will not have an impact of the results made on models on the large data set these articles will not be used in this analysis."
   ]
  },
  {
   "cell_type": "code",
   "execution_count": 102,
   "metadata": {},
   "outputs": [
    {
     "data": {
      "text/plain": [
       "287"
      ]
     },
     "execution_count": 102,
     "metadata": {},
     "output_type": "execute_result"
    }
   ],
   "source": [
    "# Check big and small data sets for duplicates\n",
    "duplicates_df = pd.merge(articles[['author','title', 'claps']], aggr_clean[['Author','Header','Claps']],\n",
    "                         left_on=('author','title'), right_on=('Author','Header'), how='inner')\n",
    "duplicates_df = duplicates_df[['author', 'title', 'claps']]\n",
    "\n",
    "# Remove duplicates\n",
    "duplicates_df_clean = duplicates_df.drop_duplicates(keep='first',inplace=False) \n",
    "\n",
    "# Compare lengths without duplicates\n",
    "#len(articles.index)- len(duplicates_df_clean.index)"
   ]
  },
  {
   "cell_type": "markdown",
   "metadata": {},
   "source": [
    "-----------"
   ]
  },
  {
   "cell_type": "markdown",
   "metadata": {},
   "source": [
    "# Preparation for models"
   ]
  },
  {
   "cell_type": "code",
   "execution_count": 110,
   "metadata": {},
   "outputs": [],
   "source": [
    "train = copy.copy(aggr_clean2)\n",
    "pred_data = copy.copy(test_clean2)"
   ]
  },
  {
   "cell_type": "code",
   "execution_count": 111,
   "metadata": {},
   "outputs": [
    {
     "data": {
      "text/plain": [
       "(72285, 10)"
      ]
     },
     "execution_count": 111,
     "metadata": {},
     "output_type": "execute_result"
    }
   ],
   "source": [
    "pred_data.shape\n",
    "train.shape"
   ]
  },
  {
   "cell_type": "code",
   "execution_count": 112,
   "metadata": {},
   "outputs": [],
   "source": [
    "#train = train.sample(frac=0.02, random_state=ran) # Use small sample for coding to speed up\n",
    "#train.shape"
   ]
  },
  {
   "cell_type": "code",
   "execution_count": 113,
   "metadata": {},
   "outputs": [],
   "source": [
    "y = train.pop('Claps')\n",
    "X = train"
   ]
  },
  {
   "cell_type": "markdown",
   "metadata": {},
   "source": [
    "### Prepare non textual training data"
   ]
  },
  {
   "cell_type": "code",
   "execution_count": 259,
   "metadata": {},
   "outputs": [],
   "source": [
    "# Safety copy\n",
    "meta_data = copy.copy(aggr_clean2)\n",
    "\n",
    "# Get one hot encoding of columns weekday\n",
    "one_hot = pd.get_dummies(meta_data['Weekday'])\n",
    "\n",
    "# Drop column B as it is now encoded\n",
    "meta_data = meta_data.drop('Weekday',axis = 1)\n",
    "\n",
    "# Join the encoded df\n",
    "meta_data = meta_data.join(one_hot)\n",
    "\n",
    "# Remove text features\n",
    "meta_data = meta_data.drop(['Header', 'Text', 'Text_complete'],axis = 1)\n",
    "\n",
    "# Remove predictor variable\n",
    "meta_data = meta_data.drop(['Claps'], axis = 1)\n",
    "\n",
    "# Save as matrix for benchmark model\n",
    "meta_data_matrix = meta_data.values\n",
    "\n",
    "# Split into training and test data\n",
    "X_train_meta, X_test_meta, y_train_meta, y_test_meta = train_test_split(meta_data, y, test_size=0.25, random_state=ran)\n"
   ]
  },
  {
   "cell_type": "code",
   "execution_count": 276,
   "metadata": {},
   "outputs": [],
   "source": [
    "# Use small sample for coding, remove later\n",
    "X_train_meta = X_train_meta[0:7500]\n",
    "y_train_meta = y_train_meta[0:7500]\n",
    "\n",
    "X_test_meta = X_test_meta[0:2500]\n",
    "y_test_meta = y_test_meta[0:2500]"
   ]
  },
  {
   "cell_type": "markdown",
   "metadata": {},
   "source": [
    "### Prepare non textual test data for prediction"
   ]
  },
  {
   "cell_type": "code",
   "execution_count": 116,
   "metadata": {},
   "outputs": [],
   "source": [
    "# Safety copy\n",
    "pred_meta_data = copy.copy(pred_data)\n",
    "\n",
    "# Get one hot encoding of columns weekday \n",
    "one_hot_pred = pd.get_dummies(pred_meta_data['Weekday'])\n",
    "pred_meta_data = pred_meta_data.join(one_hot_pred)\n",
    "\n",
    "# Remove text features\n",
    "pred_meta_data = pred_meta_data.drop(['Header', 'Text', 'Text_complete', 'Weekday'],axis = 1)\n",
    "\n",
    "# Save as matrix for benchmark model\n",
    "pred_meta_data_matrix = pred_meta_data.values"
   ]
  },
  {
   "cell_type": "markdown",
   "metadata": {},
   "source": [
    "# Model Building: Neural Network"
   ]
  },
  {
   "cell_type": "markdown",
   "metadata": {},
   "source": [
    "## Word processing"
   ]
  },
  {
   "cell_type": "markdown",
   "metadata": {},
   "source": [
    "### Text cleaning"
   ]
  },
  {
   "cell_type": "code",
   "execution_count": 117,
   "metadata": {},
   "outputs": [],
   "source": [
    "# Lemmatize with POS Tag\n",
    "lemmatizer = WordNetLemmatizer()\n",
    "\n",
    "def get_wordnet_pos(word):\n",
    "    \"\"\"Map POS tag to first character lemmatize() accepts\"\"\"\n",
    "    tag = nltk.pos_tag([word])[0][1][0].upper()\n",
    "    tag_dict = {\"J\": wordnet.ADJ,\n",
    "                \"N\": wordnet.NOUN,\n",
    "                \"V\": wordnet.VERB,\n",
    "                \"R\": wordnet.ADV}\n",
    "\n",
    "    return tag_dict.get(tag, wordnet.NOUN)"
   ]
  },
  {
   "cell_type": "code",
   "execution_count": 118,
   "metadata": {},
   "outputs": [],
   "source": [
    "def clean_sentences(df):\n",
    "    reviews = []\n",
    "\n",
    "    for sent in df:\n",
    "        review_text = re.sub(\"[^a-zA-Z]\",\" \", sent)\n",
    "    \n",
    "        # Tokenize the sentences\n",
    "        words = word_tokenize(review_text.lower())\n",
    "  \n",
    "        # Lemmatize each word to its lemma\n",
    "        lemma_words =[lemmatizer.lemmatize(i, get_wordnet_pos(i)) for i in words]\n",
    "    \n",
    "        reviews.append(lemma_words)\n",
    "\n",
    "    return(reviews)"
   ]
  },
  {
   "cell_type": "code",
   "execution_count": null,
   "metadata": {},
   "outputs": [],
   "source": [
    "### Saved externally, just load it\n",
    "#start = time.time()\n",
    "#X_text_clean = clean_sentences(train['Text_complete'])\n",
    "#end = time.time()\n",
    "#print('Time for tokenization with 100% of data:', (end-start)/60)"
   ]
  },
  {
   "cell_type": "code",
   "execution_count": 121,
   "metadata": {},
   "outputs": [],
   "source": [
    "#with open('X_text_clean.pkl','wb') as path_name:\n",
    "    #pickle.dump(X_text_clean, path_name)\n",
    "    \n",
    "with open('X_text_clean.pkl','rb') as path_name:\n",
    "    X_text_clean = pickle.load(path_name)\n",
    "    #print(X_text_clean[10000])"
   ]
  },
  {
   "cell_type": "code",
   "execution_count": null,
   "metadata": {},
   "outputs": [],
   "source": [
    "#start = time.time()\n",
    "#pred_data_text_clean = clean_sentences(pred_data['Text_complete'])\n",
    "#end = time.time()\n",
    "#print('Time for tokenization of unknown data in min.:', round((end-start)/60,2))"
   ]
  },
  {
   "cell_type": "code",
   "execution_count": 122,
   "metadata": {},
   "outputs": [],
   "source": [
    "#with open('pred_data_text_clean.pkl','wb') as path_name:\n",
    "    #pickle.dump(pred_data_text_clean, path_name)\n",
    "\n",
    "with open('pred_data_text_clean.pkl','rb') as path_name:\n",
    "    pred_data_text_clean = pickle.load(path_name)\n",
    "    #print(pred_data_text_clean[1000])"
   ]
  },
  {
   "cell_type": "markdown",
   "metadata": {},
   "source": [
    "### Word2vec"
   ]
  },
  {
   "cell_type": "code",
   "execution_count": 123,
   "metadata": {},
   "outputs": [],
   "source": [
    "emb=100 # size of embedding dimension. 100 because thats what google does"
   ]
  },
  {
   "cell_type": "code",
   "execution_count": null,
   "metadata": {},
   "outputs": [],
   "source": [
    "# Train a Word2Vec model\n",
    "#start = time.time()\n",
    "#word2vec = Word2Vec(X_text_clean, \n",
    "                 min_count=2, # min_count means the frequency benchmark, if =2 and word is used only once - it's not included\n",
    "                 window=5, #the size of context\n",
    "                 iter =100, #how many times the training code will run through the data set, same as epochs (first pass is to create dict)\n",
    "                 size=emb, #size of embedding\n",
    "                 workers=3)#for parallel computing\n",
    "#end = time.time()\n",
    "#print('Time for word2vec for 100% of data in min.:', round((end-start)/60,2))\n",
    "# summarize the loaded model\n",
    "#print(word2vec)\n",
    "#words=list(word2vec.wv.vocab)\n",
    "\n",
    "#with open('word2vec.pkl','wb') as path_name:\n",
    "    #pickle.dump(word2vec, path_name)\n",
    "\n",
    "#with open('word2vec.pkl','rb') as path_name:\n",
    "    #word2vec = pickle.load(path_name)\n",
    "    #print(word2vec[10])"
   ]
  },
  {
   "cell_type": "code",
   "execution_count": 125,
   "metadata": {},
   "outputs": [],
   "source": [
    "embs=\"text_embeddings.txt\"\n",
    "#word2vec.wv.save_word2vec_format(embs, binary=False) #has already been saved\n",
    "\n",
    "embeddings_index={}\n",
    "with open(\"text_embeddings.txt\") as loaded_embs:\n",
    "    for line in loaded_embs:\n",
    "        values=line.split()\n",
    "        word=values[0]\n",
    "        coefs=np.asarray(values[1:])\n",
    "        embeddings_index[word]=coefs"
   ]
  },
  {
   "cell_type": "markdown",
   "metadata": {},
   "source": [
    "Transform training text to numbers"
   ]
  },
  {
   "cell_type": "code",
   "execution_count": null,
   "metadata": {},
   "outputs": [],
   "source": [
    "##### Saved externally, just load it\n",
    "#start = time.time()\n",
    "#tokenizer_obj=Tokenizer()\n",
    "#tokenizer_obj.fit_on_texts(X_text_clean)\n",
    "#seq = tokenizer_obj.texts_to_sequences(X_text_clean) \n",
    "#end = time.time()\n",
    "#print('Time for transforming words to number for 100% of data in min.:', round((end-start)/60,2))"
   ]
  },
  {
   "cell_type": "code",
   "execution_count": 126,
   "metadata": {},
   "outputs": [],
   "source": [
    "#with open('tokenizer_obj.pkl','wb') as path_name:\n",
    "    #pickle.dump(tokenizer_obj, path_name)\n",
    "\n",
    "with open('tokenizer_obj.pkl','rb') as path_name:\n",
    "    tokenizer_obj = pickle.load(path_name)"
   ]
  },
  {
   "cell_type": "code",
   "execution_count": 127,
   "metadata": {},
   "outputs": [],
   "source": [
    "#with open('seq.pkl','wb') as path_name:\n",
    "    #pickle.dump(seq, path_name)\n",
    "\n",
    "with open('seq.pkl','rb') as path_name:\n",
    "    seq = pickle.load(path_name)\n",
    "    #print(seq[1000])"
   ]
  },
  {
   "cell_type": "markdown",
   "metadata": {},
   "source": [
    "Transform unknown text data to numbers"
   ]
  },
  {
   "cell_type": "code",
   "execution_count": null,
   "metadata": {},
   "outputs": [],
   "source": [
    "##### Saved externally, just load it\n",
    "#start = time.time() \n",
    "#tokenizer_obj_pred = Tokenizer()\n",
    "#tokenizer_obj_pred.fit_on_texts(pred_data_text_clean)\n",
    "#seq_pred = tokenizer_obj_pred.texts_to_sequences(pred_data_text_clean)\n",
    "#end = time.time()\n",
    "#print('Time for transforming words to number for 100% of unknown data in min.:', round((end-start)/60,2))"
   ]
  },
  {
   "cell_type": "code",
   "execution_count": 128,
   "metadata": {},
   "outputs": [],
   "source": [
    "#with open('seq_pred.pkl','wb') as path_name:\n",
    "    #pickle.dump(seq_pred, path_name)\n",
    "\n",
    "with open('seq_pred.pkl','rb') as path_name:\n",
    "    seq_pred = pickle.load(path_name)\n",
    "    #print(seq_pred[10])"
   ]
  },
  {
   "cell_type": "markdown",
   "metadata": {},
   "source": [
    "### Create embedding matrix"
   ]
  },
  {
   "cell_type": "code",
   "execution_count": 129,
   "metadata": {},
   "outputs": [
    {
     "data": {
      "text/plain": [
       "389226"
      ]
     },
     "execution_count": 129,
     "metadata": {},
     "output_type": "execute_result"
    }
   ],
   "source": [
    "word_index=tokenizer_obj.word_index\n",
    "len(word_index) # size of vocab/number of unique tokens: 389,226"
   ]
  },
  {
   "cell_type": "code",
   "execution_count": 130,
   "metadata": {},
   "outputs": [
    {
     "name": "stdout",
     "output_type": "stream",
     "text": [
      "Time for creating embedding matrix for 100% of data in min.: 0.16\n",
      "(389227, 100)\n",
      "389227\n"
     ]
    }
   ],
   "source": [
    "num_words=len(word_index)+1\n",
    "embedding_matrix=np.zeros((num_words, emb))\n",
    "start = time.time()\n",
    "for word, i in word_index.items():\n",
    "    if i > num_words:\n",
    "        continue\n",
    "    try:\n",
    "        embedding_vector=embeddings_index[word]\n",
    "    except KeyError:\n",
    "        \"Do nothing\"\n",
    "    else:\n",
    "    #dealing with words that we have not embeddings for\n",
    "        if embedding_vector is not None:\n",
    "            embedding_matrix[i]=embedding_vector\n",
    "#embedding_matrix is our lookup table\n",
    "end = time.time()\n",
    "print('Time for creating embedding matrix for 100% of data in min.:', round((end-start)/60,2))\n",
    "print(embedding_matrix.shape) # \n",
    "print(num_words) # "
   ]
  },
  {
   "cell_type": "markdown",
   "metadata": {},
   "source": [
    "Find out on which length the sequences should be cut of. "
   ]
  },
  {
   "cell_type": "code",
   "execution_count": 131,
   "metadata": {},
   "outputs": [
    {
     "name": "stdout",
     "output_type": "stream",
     "text": [
      "300\n"
     ]
    }
   ],
   "source": [
    "major_sen = np.percentile([len(s.split()) for s in train['Text_complete']], 50) # cut of text at the length of 50% of the articles\n",
    "major_sen = int(major_sen)\n",
    "major_sen = 300 # Assumption, that first 300 words are enough\n",
    "print(major_sen) "
   ]
  },
  {
   "cell_type": "markdown",
   "metadata": {},
   "source": [
    "Cut of sequences at determined length."
   ]
  },
  {
   "cell_type": "code",
   "execution_count": 132,
   "metadata": {},
   "outputs": [
    {
     "name": "stdout",
     "output_type": "stream",
     "text": [
      "(72285, 300)\n"
     ]
    }
   ],
   "source": [
    "#padded = pad_sequences(seq, major_sen)\n",
    "padded = pad_sequences(seq, major_sen)\n",
    "print(padded.shape) "
   ]
  },
  {
   "cell_type": "code",
   "execution_count": 133,
   "metadata": {},
   "outputs": [
    {
     "name": "stdout",
     "output_type": "stream",
     "text": [
      "(514, 300)\n"
     ]
    }
   ],
   "source": [
    "#padded_pred = pad_sequences(seq_pred, major_sen)\n",
    "padded_pred = pad_sequences(seq_pred, major_sen)\n",
    "print(padded_pred.shape) # 212,849 reviews with length 557"
   ]
  },
  {
   "cell_type": "code",
   "execution_count": 260,
   "metadata": {},
   "outputs": [],
   "source": [
    "X_train_nn1, X_test_nn1, y_train_nn1, y_test_nn1 = train_test_split(padded, y, test_size=0.25, random_state=ran)"
   ]
  },
  {
   "cell_type": "code",
   "execution_count": 275,
   "metadata": {},
   "outputs": [],
   "source": [
    "X_train_nn1 = X_train_nn1[0:7500]\n",
    "y_train_nn1 = y_train_nn1[0:7500]\n",
    "\n",
    "X_test_nn1 = X_test_nn1[0:2500]\n",
    "y_test_nn1 = y_test_nn1[0:2500]"
   ]
  },
  {
   "cell_type": "markdown",
   "metadata": {},
   "source": [
    "---------"
   ]
  },
  {
   "cell_type": "markdown",
   "metadata": {},
   "source": [
    "# Set up network"
   ]
  },
  {
   "cell_type": "markdown",
   "metadata": {},
   "source": [
    "# Build multi input model with functional API"
   ]
  },
  {
   "cell_type": "markdown",
   "metadata": {},
   "source": [
    "### Benchmark"
   ]
  },
  {
   "cell_type": "code",
   "execution_count": 218,
   "metadata": {},
   "outputs": [],
   "source": [
    "epochs = 25"
   ]
  },
  {
   "cell_type": "code",
   "execution_count": 219,
   "metadata": {},
   "outputs": [],
   "source": [
    "# Input for NLP branch of model\n",
    "text_input = Input(shape=(major_sen,), dtype='int32', name='text_input')\n",
    "\n",
    "# Embedding layer\n",
    "x = Embedding(input_dim = num_words, output_dim = 512, embeddings_initializer=Constant(embedding_matrix),input_length=major_sen,trainable=False)(text_input)\n",
    "\n",
    "# LSTM layer\n",
    "text_out = LSTM(32)(x)\n",
    "\n",
    "# Extra output from text branch\n",
    "auxiliary_output = Dense(1, activation='relu', name='aux_output')(text_out)\n",
    "\n",
    "# Extra input from non textual data (meta data)\n",
    "auxiliary_input = Input(shape=(12,), name='aux_input')\n",
    "\n",
    "# Concatenate branches\n",
    "x = keras.layers.concatenate([text_out, auxiliary_input])\n",
    "\n",
    "# One layer with relu function\n",
    "x = Dense(16, activation='relu')(x)\n",
    "\n",
    "# Main layer with relu activation function\n",
    "main_output = Dense(1, activation='relu', name='main_output')(x)\n",
    "\n",
    "model_bench = Model(inputs=[text_input, auxiliary_input], outputs=[main_output, auxiliary_output])\n",
    "\n",
    "# Compile model\n",
    "model_bench.compile(optimizer='adam',\n",
    "              loss={'main_output': 'mean_squared_error', 'aux_output': 'mean_squared_error'})\n",
    "\n",
    "# Define early stopping with callbacks\n",
    "es = EarlyStopping(monitor='val_main_output_loss', mode='min', min_delta=1, patience=20,\n",
    "                   restore_best_weights=True,\n",
    "                   verbose = 1) # Stop training when loss decreases less than 1%\n",
    "mc = ModelCheckpoint('best_bench_model.h5', monitor='val_main_output_loss', mode='min', verbose=1)"
   ]
  },
  {
   "cell_type": "code",
   "execution_count": 220,
   "metadata": {},
   "outputs": [
    {
     "name": "stdout",
     "output_type": "stream",
     "text": [
      "Train on 7500 samples, validate on 2500 samples\n",
      "Epoch 1/25\n",
      "7500/7500 [==============================] - 84s 11ms/step - loss: 1618915.2125 - main_output_loss: 797969.4108 - aux_output_loss: 820945.8249 - val_loss: 6147100.7608 - val_main_output_loss: 3044963.9024 - val_aux_output_loss: 3102136.8796\n",
      "\n",
      "Epoch 00001: saving model to best_bench_model.h5\n",
      "Epoch 2/25\n",
      "7500/7500 [==============================] - 32s 4ms/step - loss: 1610923.2419 - main_output_loss: 790360.9579 - aux_output_loss: 820562.2864 - val_loss: 6136336.9308 - val_main_output_loss: 3034588.7256 - val_aux_output_loss: 3101748.0148\n",
      "\n",
      "Epoch 00002: saving model to best_bench_model.h5\n",
      "Epoch 3/25\n",
      "7500/7500 [==============================] - 31s 4ms/step - loss: 1608526.3387 - main_output_loss: 788378.7147 - aux_output_loss: 820147.6184 - val_loss: 6134723.2804 - val_main_output_loss: 3033488.4064 - val_aux_output_loss: 3101234.8916\n",
      "\n",
      "Epoch 00003: saving model to best_bench_model.h5\n",
      "Epoch 4/25\n",
      "7500/7500 [==============================] - 31s 4ms/step - loss: 1607548.2112 - main_output_loss: 787898.3998 - aux_output_loss: 819649.8341 - val_loss: 6134512.3408 - val_main_output_loss: 3034009.3492 - val_aux_output_loss: 3100503.1894\n",
      "\n",
      "Epoch 00004: saving model to best_bench_model.h5\n",
      "Epoch 5/25\n",
      "7500/7500 [==============================] - 29s 4ms/step - loss: 1606722.9156 - main_output_loss: 787639.8127 - aux_output_loss: 819083.1068 - val_loss: 6129252.5392 - val_main_output_loss: 3029384.8022 - val_aux_output_loss: 3099867.9452\n",
      "\n",
      "Epoch 00005: saving model to best_bench_model.h5\n",
      "Epoch 6/25\n",
      "7500/7500 [==============================] - 28s 4ms/step - loss: 1605708.9391 - main_output_loss: 787105.7925 - aux_output_loss: 818603.1771 - val_loss: 6128794.3788 - val_main_output_loss: 3029408.5824 - val_aux_output_loss: 3099385.7784\n",
      "\n",
      "Epoch 00006: saving model to best_bench_model.h5\n",
      "Epoch 7/25\n",
      "7500/7500 [==============================] - 28s 4ms/step - loss: 1605233.7511 - main_output_loss: 787021.0087 - aux_output_loss: 818212.7360 - val_loss: 6131192.8132 - val_main_output_loss: 3032176.0886 - val_aux_output_loss: 3099016.5358\n",
      "\n",
      "Epoch 00007: saving model to best_bench_model.h5\n",
      "Epoch 8/25\n",
      "7500/7500 [==============================] - 28s 4ms/step - loss: 1603782.7548 - main_output_loss: 785884.9894 - aux_output_loss: 817897.7516 - val_loss: 6124770.2108 - val_main_output_loss: 3026047.4172 - val_aux_output_loss: 3098722.7748\n",
      "\n",
      "Epoch 00008: saving model to best_bench_model.h5\n",
      "Epoch 9/25\n",
      "7500/7500 [==============================] - 28s 4ms/step - loss: 1603021.9485 - main_output_loss: 785353.8520 - aux_output_loss: 817668.1050 - val_loss: 6126164.1296 - val_main_output_loss: 3027643.4826 - val_aux_output_loss: 3098520.4520\n",
      "\n",
      "Epoch 00009: saving model to best_bench_model.h5\n",
      "Epoch 10/25\n",
      "7500/7500 [==============================] - 29s 4ms/step - loss: 1602876.5521 - main_output_loss: 785460.4327 - aux_output_loss: 817416.1306 - val_loss: 6122930.6328 - val_main_output_loss: 3024676.3674 - val_aux_output_loss: 3098254.4798\n",
      "\n",
      "Epoch 00010: saving model to best_bench_model.h5\n",
      "Epoch 11/25\n",
      "7500/7500 [==============================] - 28s 4ms/step - loss: 1601706.1281 - main_output_loss: 784493.6232 - aux_output_loss: 817212.4898 - val_loss: 6122948.5796 - val_main_output_loss: 3024817.1990 - val_aux_output_loss: 3098131.1618\n",
      "\n",
      "Epoch 00011: saving model to best_bench_model.h5\n",
      "Epoch 12/25\n",
      "7500/7500 [==============================] - 28s 4ms/step - loss: 1601271.7555 - main_output_loss: 784281.0973 - aux_output_loss: 816990.6573 - val_loss: 6119942.4188 - val_main_output_loss: 3021951.8888 - val_aux_output_loss: 3097990.5492\n",
      "\n",
      "Epoch 00012: saving model to best_bench_model.h5\n",
      "Epoch 13/25\n",
      "7500/7500 [==============================] - 29s 4ms/step - loss: 1599953.8832 - main_output_loss: 783155.8353 - aux_output_loss: 816798.0577 - val_loss: 6119977.2432 - val_main_output_loss: 3022212.7848 - val_aux_output_loss: 3097764.2782\n",
      "\n",
      "Epoch 00013: saving model to best_bench_model.h5\n",
      "Epoch 14/25\n",
      "7500/7500 [==============================] - 28s 4ms/step - loss: 1599074.8852 - main_output_loss: 782488.5953 - aux_output_loss: 816586.3034 - val_loss: 6117169.3024 - val_main_output_loss: 3019555.7886 - val_aux_output_loss: 3097613.3048\n",
      "\n",
      "Epoch 00014: saving model to best_bench_model.h5\n",
      "Epoch 15/25\n",
      "7500/7500 [==============================] - 28s 4ms/step - loss: 1598464.3390 - main_output_loss: 782077.3030 - aux_output_loss: 816387.0106 - val_loss: 6118695.0396 - val_main_output_loss: 3021223.9960 - val_aux_output_loss: 3097471.2436\n",
      "\n",
      "Epoch 00015: saving model to best_bench_model.h5\n",
      "Epoch 16/25\n",
      "7500/7500 [==============================] - 28s 4ms/step - loss: 1597330.2755 - main_output_loss: 781113.1421 - aux_output_loss: 816217.1204 - val_loss: 6113473.2904 - val_main_output_loss: 3016068.0554 - val_aux_output_loss: 3097405.4462\n",
      "\n",
      "Epoch 00016: saving model to best_bench_model.h5\n",
      "Epoch 17/25\n",
      "7500/7500 [==============================] - 36s 5ms/step - loss: 1596767.7378 - main_output_loss: 780737.4855 - aux_output_loss: 816030.2537 - val_loss: 6113471.4172 - val_main_output_loss: 3016226.3156 - val_aux_output_loss: 3097245.3176\n",
      "\n",
      "Epoch 00017: saving model to best_bench_model.h5\n",
      "Epoch 18/25\n",
      "7500/7500 [==============================] - 31s 4ms/step - loss: 1595416.9658 - main_output_loss: 779557.3611 - aux_output_loss: 815859.5969 - val_loss: 6111712.5432 - val_main_output_loss: 3014614.0354 - val_aux_output_loss: 3097098.3092\n",
      "\n",
      "Epoch 00018: saving model to best_bench_model.h5\n",
      "Epoch 19/25\n",
      "7500/7500 [==============================] - 31s 4ms/step - loss: 1594597.4237 - main_output_loss: 778939.7911 - aux_output_loss: 815657.6525 - val_loss: 6110655.0524 - val_main_output_loss: 3013555.0322 - val_aux_output_loss: 3097100.0182\n",
      "\n",
      "Epoch 00019: saving model to best_bench_model.h5\n",
      "Epoch 20/25\n",
      "7500/7500 [==============================] - 32s 4ms/step - loss: 1593372.4052 - main_output_loss: 777859.3437 - aux_output_loss: 815513.0530 - val_loss: 6109745.6688 - val_main_output_loss: 3012601.8180 - val_aux_output_loss: 3097143.8438\n",
      "\n",
      "Epoch 00020: saving model to best_bench_model.h5\n",
      "Epoch 21/25\n",
      "7500/7500 [==============================] - 31s 4ms/step - loss: 1592637.7807 - main_output_loss: 777321.0157 - aux_output_loss: 815316.7796 - val_loss: 6107294.1736 - val_main_output_loss: 3010483.9914 - val_aux_output_loss: 3096810.3824\n",
      "\n",
      "Epoch 00021: saving model to best_bench_model.h5\n",
      "Epoch 22/25\n",
      "7500/7500 [==============================] - 31s 4ms/step - loss: 1591417.1236 - main_output_loss: 776268.5920 - aux_output_loss: 815148.5740 - val_loss: 6105650.2896 - val_main_output_loss: 3009078.9850 - val_aux_output_loss: 3096571.1062\n",
      "\n",
      "Epoch 00022: saving model to best_bench_model.h5\n",
      "Epoch 23/25\n",
      "7500/7500 [==============================] - 35s 5ms/step - loss: 1590347.8091 - main_output_loss: 775366.4084 - aux_output_loss: 814981.3992 - val_loss: 6104994.8776 - val_main_output_loss: 3008375.5920 - val_aux_output_loss: 3096619.0806\n",
      "\n",
      "Epoch 00023: saving model to best_bench_model.h5\n",
      "Epoch 24/25\n",
      "7500/7500 [==============================] - 32s 4ms/step - loss: 1589046.0859 - main_output_loss: 774255.7179 - aux_output_loss: 814790.3788 - val_loss: 6100082.3520 - val_main_output_loss: 3003353.2440 - val_aux_output_loss: 3096729.2914\n",
      "\n",
      "Epoch 00024: saving model to best_bench_model.h5\n",
      "Epoch 25/25\n",
      "7500/7500 [==============================] - 33s 4ms/step - loss: 1587642.9931 - main_output_loss: 772947.0942 - aux_output_loss: 814695.8903 - val_loss: 6098234.4560 - val_main_output_loss: 3001913.9204 - val_aux_output_loss: 3096320.5438\n",
      "\n",
      "Epoch 00025: saving model to best_bench_model.h5\n",
      "Time for training multi input benchmark model on part of data: 23.42\n"
     ]
    }
   ],
   "source": [
    "# Train model\n",
    "start = time.time()\n",
    "history_model_bench = model_bench.fit({'text_input': X_train_nn1, 'aux_input': X_train_meta},\n",
    "          {'main_output': y_train_nn1, 'aux_output': y_train_meta},\n",
    "          epochs=epochs, batch_size = 256, validation_data = ([X_test_nn1, X_test_meta], [y_test_nn1, y_test_meta]), verbose = 1, callbacks = [es, mc])\n",
    "end = time.time()\n",
    "print('Time for training multi input benchmark model on part of data:', round((end-start)/60,2))"
   ]
  },
  {
   "cell_type": "code",
   "execution_count": 221,
   "metadata": {
    "colab": {},
    "colab_type": "code",
    "id": "UlFS1yT1BsvV"
   },
   "outputs": [
    {
     "data": {
      "image/png": "[encoded data removed]",
      "text/plain": [
       "<Figure size 432x288 with 1 Axes>"
      ]
     },
     "metadata": {
      "needs_background": "light"
     },
     "output_type": "display_data"
    }
   ],
   "source": [
    "plt.plot(history_model_bench.history['main_output_loss'])\n",
    "plt.plot(history_model_bench.history['val_main_output_loss'])\n",
    "plt.title('history_model_bench mse')\n",
    "plt.ylabel('mse')\n",
    "plt.xlabel('epoch')\n",
    "plt.legend(['train', 'validation'], loc='upper left')\n",
    "plt.show()"
   ]
  },
  {
   "cell_type": "code",
   "execution_count": 227,
   "metadata": {},
   "outputs": [
    {
     "data": {
      "text/plain": [
       "3001913.9204"
      ]
     },
     "execution_count": 227,
     "metadata": {},
     "output_type": "execute_result"
    }
   ],
   "source": [
    "min(history_model_bench.history['val_main_output_loss'])"
   ]
  },
  {
   "cell_type": "markdown",
   "metadata": {},
   "source": [
    "| Data | Validation MSE |\n",
    "| -----| -------------- |\n",
    "|7500  |3,001,913         |  "
   ]
  },
  {
   "cell_type": "markdown",
   "metadata": {},
   "source": [
    "---"
   ]
  },
  {
   "cell_type": "markdown",
   "metadata": {},
   "source": [
    "## Build multi input model"
   ]
  },
  {
   "cell_type": "code",
   "execution_count": 194,
   "metadata": {},
   "outputs": [],
   "source": [
    "epochs = 80"
   ]
  },
  {
   "cell_type": "code",
   "execution_count": 195,
   "metadata": {},
   "outputs": [],
   "source": [
    "# Input for NLP branch of model\n",
    "text_input = Input(shape=(major_sen,), dtype='int32', name='text_input')\n",
    "\n",
    "# Embedding layer\n",
    "x = Embedding(input_dim = num_words, output_dim = 512, embeddings_initializer=Constant(embedding_matrix),input_length=major_sen,trainable=False)(text_input)\n",
    "\n",
    "# GRU layer\n",
    "text_out = GRU(64)(x)\n",
    "\n",
    "# Extra output from text branch\n",
    "auxiliary_output = Dense(1, activation='relu', name='aux_output')(text_out)\n",
    "\n",
    "# Extra input from non textual data (meta data)\n",
    "auxiliary_input = Input(shape=(12,), name='aux_input')\n",
    "\n",
    "\n",
    "# Concatenate branches\n",
    "x = keras.layers.concatenate([text_out, auxiliary_input])\n",
    "\n",
    "# One layer with relu function\n",
    "x = Dense(16, activation='relu')(x)\n",
    "x = Dense(64, activation='relu')(x) \n",
    "#x = Dense(64, activation='relu')(x)\n",
    "#x = Dense(64, activation='relu')(x)\n",
    "\n",
    "# Main layer with relu activation function\n",
    "main_output = Dense(1, activation='relu', name='main_output')(x)\n",
    "\n",
    "model_multi = Model(inputs=[text_input, auxiliary_input], outputs=[main_output, auxiliary_output])\n",
    "\n",
    "# Compile model\n",
    "model_multi.compile(optimizer='adam',\n",
    "              loss={'main_output': 'mean_squared_error', 'aux_output': 'mean_squared_error'}\n",
    "              #,loss_weights={'main_output': 1., 'aux_output': 0.2}\n",
    "             )\n",
    "\n",
    "# Define early stopping with callbacks\n",
    "es = EarlyStopping(monitor='val_main_output_loss', mode='min', min_delta=1, patience=50,\n",
    "                   restore_best_weights=True,\n",
    "                   verbose = 1) # Stop training when loss decreases less than 1%\n",
    "mc = ModelCheckpoint('best_model_1.h5', monitor='val_main_output_loss', mode='min', verbose=1)"
   ]
  },
  {
   "cell_type": "code",
   "execution_count": 196,
   "metadata": {},
   "outputs": [
    {
     "name": "stdout",
     "output_type": "stream",
     "text": [
      "Train on 54213 samples, validate on 18072 samples\n",
      "Epoch 1/80\n",
      "54213/54213 [==============================] - 295s 5ms/step - loss: 6316422.3659 - main_output_loss: 3136015.1223 - aux_output_loss: 3180407.2741 - val_loss: 7362767.9875 - val_main_output_loss: 3648534.5214 - val_aux_output_loss: 3714233.5126\n",
      "\n",
      "Epoch 00001: saving model to best_model_1.h5\n",
      "Epoch 2/80\n",
      "54213/54213 [==============================] - 244s 5ms/step - loss: 6305402.6245 - main_output_loss: 3129250.5246 - aux_output_loss: 3176151.9455 - val_loss: 7358050.1979 - val_main_output_loss: 3647415.6083 - val_aux_output_loss: 3710634.5703\n",
      "\n",
      "Epoch 00002: saving model to best_model_1.h5\n",
      "Epoch 3/80\n",
      "54213/54213 [==============================] - 251s 5ms/step - loss: 6299527.5505 - main_output_loss: 3126343.6611 - aux_output_loss: 3173184.0191 - val_loss: 7354167.4407 - val_main_output_loss: 3646250.3759 - val_aux_output_loss: 3707917.2781\n",
      "\n",
      "Epoch 00003: saving model to best_model_1.h5\n",
      "Epoch 4/80\n",
      "54213/54213 [==============================] - 242s 4ms/step - loss: 6294382.0975 - main_output_loss: 3123633.4044 - aux_output_loss: 3170748.8185 - val_loss: 7343440.2729 - val_main_output_loss: 3637842.0338 - val_aux_output_loss: 3705598.4762\n",
      "\n",
      "Epoch 00004: saving model to best_model_1.h5\n",
      "Epoch 5/80\n",
      "54213/54213 [==============================] - 240s 4ms/step - loss: 6284390.2028 - main_output_loss: 3115773.6704 - aux_output_loss: 3168616.6924 - val_loss: 7325097.9005 - val_main_output_loss: 3621573.3162 - val_aux_output_loss: 3703524.8783\n",
      "\n",
      "Epoch 00005: saving model to best_model_1.h5\n",
      "Epoch 6/80\n",
      "54213/54213 [==============================] - 242s 4ms/step - loss: 6268496.4378 - main_output_loss: 3101708.2524 - aux_output_loss: 3166788.1919 - val_loss: 7298863.4252 - val_main_output_loss: 3597050.7937 - val_aux_output_loss: 3701812.4816\n",
      "\n",
      "Epoch 00006: saving model to best_model_1.h5\n",
      "Epoch 7/80\n",
      "54213/54213 [==============================] - 241s 4ms/step - loss: 6249229.7359 - main_output_loss: 3084010.9198 - aux_output_loss: 3165218.8036 - val_loss: 7259681.8223 - val_main_output_loss: 3559125.6723 - val_aux_output_loss: 3700556.1254\n",
      "\n",
      "Epoch 00007: saving model to best_model_1.h5\n",
      "Epoch 8/80\n",
      "54213/54213 [==============================] - 243s 4ms/step - loss: 6217550.5174 - main_output_loss: 3053637.2002 - aux_output_loss: 3163913.3131 - val_loss: 7223591.2550 - val_main_output_loss: 3524027.3694 - val_aux_output_loss: 3699563.6564\n",
      "\n",
      "Epoch 00008: saving model to best_model_1.h5\n",
      "Epoch 9/80\n",
      "54213/54213 [==============================] - 242s 4ms/step - loss: 6165105.1529 - main_output_loss: 3002303.5821 - aux_output_loss: 3162801.7324 - val_loss: 7120812.0790 - val_main_output_loss: 3421505.5504 - val_aux_output_loss: 3699306.5566\n",
      "\n",
      "Epoch 00009: saving model to best_model_1.h5\n",
      "Epoch 10/80\n",
      "54213/54213 [==============================] - 242s 4ms/step - loss: 6089008.0052 - main_output_loss: 2926687.0187 - aux_output_loss: 3162321.0256 - val_loss: 6989957.1035 - val_main_output_loss: 3290744.2063 - val_aux_output_loss: 3699212.8862\n",
      "\n",
      "Epoch 00010: saving model to best_model_1.h5\n",
      "Epoch 11/80\n",
      "54213/54213 [==============================] - 242s 4ms/step - loss: 5984124.8236 - main_output_loss: 2822467.3488 - aux_output_loss: 3161657.5143 - val_loss: 6858348.0473 - val_main_output_loss: 3157775.7885 - val_aux_output_loss: 3700572.0424\n",
      "\n",
      "Epoch 00011: saving model to best_model_1.h5\n",
      "Epoch 12/80\n",
      "54213/54213 [==============================] - 243s 4ms/step - loss: 5859937.3493 - main_output_loss: 2698323.3031 - aux_output_loss: 3161614.0593 - val_loss: 6709532.2699 - val_main_output_loss: 3008997.6305 - val_aux_output_loss: 3700534.5217\n",
      "\n",
      "Epoch 00012: saving model to best_model_1.h5\n",
      "Epoch 13/80\n",
      "54213/54213 [==============================] - 243s 4ms/step - loss: 5725982.0535 - main_output_loss: 2565273.9483 - aux_output_loss: 3160708.1097 - val_loss: 6489850.3470 - val_main_output_loss: 2789604.6331 - val_aux_output_loss: 3700245.6065\n",
      "\n",
      "Epoch 00013: saving model to best_model_1.h5\n",
      "Epoch 14/80\n",
      "54213/54213 [==============================] - 243s 4ms/step - loss: 5568550.5624 - main_output_loss: 2408481.2974 - aux_output_loss: 3160069.2866 - val_loss: 6255524.0834 - val_main_output_loss: 2555943.6035 - val_aux_output_loss: 3699580.5201\n",
      "\n",
      "Epoch 00014: saving model to best_model_1.h5\n",
      "Epoch 15/80\n",
      "54213/54213 [==============================] - 244s 4ms/step - loss: 5408836.0771 - main_output_loss: 2250033.1436 - aux_output_loss: 3158802.9362 - val_loss: 6032332.0102 - val_main_output_loss: 2333049.4780 - val_aux_output_loss: 3699282.6379\n",
      "\n",
      "Epoch 00015: saving model to best_model_1.h5\n",
      "Epoch 16/80\n",
      "54213/54213 [==============================] - 243s 4ms/step - loss: 5259834.5486 - main_output_loss: 2101712.2131 - aux_output_loss: 3158122.3419 - val_loss: 5838887.3055 - val_main_output_loss: 2139215.9973 - val_aux_output_loss: 3699671.2913\n",
      "\n",
      "Epoch 00016: saving model to best_model_1.h5\n",
      "Epoch 17/80\n",
      "54213/54213 [==============================] - 243s 4ms/step - loss: 5127488.2344 - main_output_loss: 1970421.4706 - aux_output_loss: 3157066.7093 - val_loss: 5721385.4358 - val_main_output_loss: 2023077.4553 - val_aux_output_loss: 3698307.9846\n",
      "\n",
      "Epoch 00017: saving model to best_model_1.h5\n",
      "Epoch 18/80\n",
      "54213/54213 [==============================] - 245s 5ms/step - loss: 5025727.8220 - main_output_loss: 1870044.2832 - aux_output_loss: 3155683.4431 - val_loss: 5517361.1903 - val_main_output_loss: 1819963.4373 - val_aux_output_loss: 3697397.6432\n",
      "\n",
      "Epoch 00018: saving model to best_model_1.h5\n",
      "Epoch 19/80\n",
      "54213/54213 [==============================] - 247s 5ms/step - loss: 4945428.0712 - main_output_loss: 1790711.3329 - aux_output_loss: 3154716.9122 - val_loss: 5390381.1132 - val_main_output_loss: 1693478.6024 - val_aux_output_loss: 3696902.5159\n",
      "\n",
      "Epoch 00019: saving model to best_model_1.h5\n",
      "Epoch 20/80\n",
      "54213/54213 [==============================] - 247s 5ms/step - loss: 4885121.6797 - main_output_loss: 1730744.4395 - aux_output_loss: 3154377.3723 - val_loss: 5300917.2518 - val_main_output_loss: 1604096.6633 - val_aux_output_loss: 3696820.4470\n",
      "\n",
      "Epoch 00020: saving model to best_model_1.h5\n",
      "Epoch 21/80\n",
      "54213/54213 [==============================] - 245s 5ms/step - loss: 4819231.2267 - main_output_loss: 1665209.1819 - aux_output_loss: 3154022.0674 - val_loss: 5213527.8282 - val_main_output_loss: 1515842.8239 - val_aux_output_loss: 3697685.0638\n",
      "\n",
      "Epoch 00021: saving model to best_model_1.h5\n",
      "Epoch 22/80\n",
      "54213/54213 [==============================] - 244s 5ms/step - loss: 4765604.1433 - main_output_loss: 1612186.3336 - aux_output_loss: 3153417.8929 - val_loss: 5184524.4512 - val_main_output_loss: 1487543.0645 - val_aux_output_loss: 3696981.2526\n",
      "\n",
      "Epoch 00022: saving model to best_model_1.h5\n",
      "Epoch 23/80\n",
      "54213/54213 [==============================] - 245s 5ms/step - loss: 4739666.4626 - main_output_loss: 1586543.6746 - aux_output_loss: 3153122.8781 - val_loss: 5111667.1562 - val_main_output_loss: 1414511.9438 - val_aux_output_loss: 3697155.0950\n",
      "\n",
      "Epoch 00023: saving model to best_model_1.h5\n",
      "Epoch 24/80\n",
      "54213/54213 [==============================] - 245s 5ms/step - loss: 4709248.9118 - main_output_loss: 1556609.1153 - aux_output_loss: 3152639.8744 - val_loss: 5052805.1189 - val_main_output_loss: 1355813.4037 - val_aux_output_loss: 3696991.7790\n",
      "\n",
      "Epoch 00024: saving model to best_model_1.h5\n",
      "Epoch 25/80\n",
      "54213/54213 [==============================] - 245s 5ms/step - loss: 4701054.5580 - main_output_loss: 1549033.4388 - aux_output_loss: 3152021.2045 - val_loss: 5025722.2676 - val_main_output_loss: 1329598.6648 - val_aux_output_loss: 3696123.7235\n",
      "\n",
      "Epoch 00025: saving model to best_model_1.h5\n",
      "Epoch 26/80\n",
      "54213/54213 [==============================] - 245s 5ms/step - loss: 4652560.0154 - main_output_loss: 1501126.0697 - aux_output_loss: 3151433.8743 - val_loss: 4939585.0350 - val_main_output_loss: 1244796.9965 - val_aux_output_loss: 3694787.9675\n",
      "\n",
      "Epoch 00026: saving model to best_model_1.h5\n",
      "Epoch 27/80\n",
      "54213/54213 [==============================] - 245s 5ms/step - loss: 4642718.6828 - main_output_loss: 1491579.2949 - aux_output_loss: 3151139.3895 - val_loss: 4918770.3322 - val_main_output_loss: 1223482.1735 - val_aux_output_loss: 3695288.2786\n",
      "\n",
      "Epoch 00027: saving model to best_model_1.h5\n",
      "Epoch 28/80\n",
      "54213/54213 [==============================] - 246s 5ms/step - loss: 4638932.2526 - main_output_loss: 1488108.9630 - aux_output_loss: 3150823.3802 - val_loss: 4892632.5865 - val_main_output_loss: 1197485.2237 - val_aux_output_loss: 3695147.3759\n",
      "\n",
      "Epoch 00028: saving model to best_model_1.h5\n",
      "Epoch 29/80\n",
      "54213/54213 [==============================] - 246s 5ms/step - loss: 4609299.1412 - main_output_loss: 1459016.3536 - aux_output_loss: 3150282.7158 - val_loss: 4936321.2635 - val_main_output_loss: 1241728.9548 - val_aux_output_loss: 3694592.4033\n",
      "\n",
      "Epoch 00029: saving model to best_model_1.h5\n",
      "Epoch 30/80\n",
      "54213/54213 [==============================] - 246s 5ms/step - loss: 4599186.6887 - main_output_loss: 1449790.1733 - aux_output_loss: 3149396.5940 - val_loss: 4860657.9863 - val_main_output_loss: 1166804.8943 - val_aux_output_loss: 3693853.0510\n",
      "\n",
      "Epoch 00030: saving model to best_model_1.h5\n",
      "Epoch 31/80\n",
      "54213/54213 [==============================] - 246s 5ms/step - loss: 4581822.7251 - main_output_loss: 1433005.1887 - aux_output_loss: 3148817.6335 - val_loss: 4848499.9204 - val_main_output_loss: 1154889.3851 - val_aux_output_loss: 3693610.5467\n",
      "\n",
      "Epoch 00031: saving model to best_model_1.h5\n",
      "Epoch 32/80\n",
      "54213/54213 [==============================] - 246s 5ms/step - loss: 4573236.8562 - main_output_loss: 1424948.3232 - aux_output_loss: 3148288.5391 - val_loss: 4841805.1489 - val_main_output_loss: 1148558.0120 - val_aux_output_loss: 3693247.2020\n",
      "\n",
      "Epoch 00032: saving model to best_model_1.h5\n",
      "Epoch 33/80\n",
      "54213/54213 [==============================] - 246s 5ms/step - loss: 4546778.0250 - main_output_loss: 1398952.4101 - aux_output_loss: 3147825.6119 - val_loss: 4842269.1444 - val_main_output_loss: 1149873.6660 - val_aux_output_loss: 3692395.6047\n",
      "\n",
      "Epoch 00033: saving model to best_model_1.h5\n",
      "Epoch 34/80\n",
      "54213/54213 [==============================] - 248s 5ms/step - loss: 4560081.6355 - main_output_loss: 1412953.2194 - aux_output_loss: 3147128.3444 - val_loss: 4822525.6862 - val_main_output_loss: 1130113.4196 - val_aux_output_loss: 3692412.1571\n",
      "\n",
      "Epoch 00034: saving model to best_model_1.h5\n",
      "Epoch 35/80\n",
      "54213/54213 [==============================] - 247s 5ms/step - loss: 4542097.3685 - main_output_loss: 1395642.0325 - aux_output_loss: 3146455.3465 - val_loss: 4802052.7357 - val_main_output_loss: 1110422.4901 - val_aux_output_loss: 3691630.2547\n",
      "\n",
      "Epoch 00035: saving model to best_model_1.h5\n",
      "Epoch 36/80\n",
      "54213/54213 [==============================] - 246s 5ms/step - loss: 4522902.4719 - main_output_loss: 1377094.0270 - aux_output_loss: 3145808.4615 - val_loss: 4794223.9436 - val_main_output_loss: 1103218.1810 - val_aux_output_loss: 3691005.8429\n",
      "\n",
      "Epoch 00036: saving model to best_model_1.h5\n",
      "Epoch 37/80\n",
      "54213/54213 [==============================] - 246s 5ms/step - loss: 4519309.4180 - main_output_loss: 1374228.1362 - aux_output_loss: 3145081.2049 - val_loss: 4795336.7601 - val_main_output_loss: 1104805.4498 - val_aux_output_loss: 3690531.2858\n",
      "\n",
      "Epoch 00037: saving model to best_model_1.h5\n",
      "Epoch 38/80\n",
      "54213/54213 [==============================] - 247s 5ms/step - loss: 4509824.1070 - main_output_loss: 1365335.5962 - aux_output_loss: 3144488.5939 - val_loss: 4829995.8514 - val_main_output_loss: 1140295.4083 - val_aux_output_loss: 3689700.4490\n",
      "\n",
      "Epoch 00038: saving model to best_model_1.h5\n",
      "Epoch 39/80\n",
      "54213/54213 [==============================] - 247s 5ms/step - loss: 4509022.7084 - main_output_loss: 1365331.0001 - aux_output_loss: 3143691.7924 - val_loss: 4813042.0020 - val_main_output_loss: 1123090.3728 - val_aux_output_loss: 3689951.5729\n",
      "\n",
      "Epoch 00039: saving model to best_model_1.h5\n",
      "Epoch 40/80\n",
      "54213/54213 [==============================] - 247s 5ms/step - loss: 4498784.8169 - main_output_loss: 1355624.1726 - aux_output_loss: 3143160.6387 - val_loss: 4806783.0637 - val_main_output_loss: 1116123.0961 - val_aux_output_loss: 3690659.8546\n",
      "\n",
      "Epoch 00040: saving model to best_model_1.h5\n",
      "Epoch 41/80\n",
      "54213/54213 [==============================] - 247s 5ms/step - loss: 4495952.5735 - main_output_loss: 1352834.5513 - aux_output_loss: 3143117.9580 - val_loss: 4837215.8861 - val_main_output_loss: 1146257.8485 - val_aux_output_loss: 3690957.9944\n",
      "\n",
      "Epoch 00041: saving model to best_model_1.h5\n",
      "Epoch 42/80\n",
      "54213/54213 [==============================] - 249s 5ms/step - loss: 4489462.7066 - main_output_loss: 1346676.7550 - aux_output_loss: 3142785.8813 - val_loss: 4766301.6782 - val_main_output_loss: 1076231.4508 - val_aux_output_loss: 3690070.0905\n",
      "\n",
      "Epoch 00042: saving model to best_model_1.h5\n",
      "Epoch 43/80\n",
      "54213/54213 [==============================] - 248s 5ms/step - loss: 4477272.5116 - main_output_loss: 1334833.6651 - aux_output_loss: 3142438.9245 - val_loss: 4759012.6435 - val_main_output_loss: 1068917.0996 - val_aux_output_loss: 3690095.5097\n",
      "\n",
      "Epoch 00043: saving model to best_model_1.h5\n",
      "Epoch 44/80\n",
      "54213/54213 [==============================] - 246s 5ms/step - loss: 4467998.0173 - main_output_loss: 1325681.3140 - aux_output_loss: 3142316.5826 - val_loss: 4801357.9045 - val_main_output_loss: 1111626.3665 - val_aux_output_loss: 3689731.4927\n",
      "\n",
      "Epoch 00044: saving model to best_model_1.h5\n",
      "Epoch 45/80\n",
      "54213/54213 [==============================] - 246s 5ms/step - loss: 4466772.7617 - main_output_loss: 1324844.2557 - aux_output_loss: 3141928.4341 - val_loss: 4728053.8254 - val_main_output_loss: 1038325.9033 - val_aux_output_loss: 3689727.9658\n",
      "\n",
      "Epoch 00045: saving model to best_model_1.h5\n",
      "Epoch 46/80\n",
      "54213/54213 [==============================] - 246s 5ms/step - loss: 4454490.1848 - main_output_loss: 1313214.8655 - aux_output_loss: 3141275.2971 - val_loss: 4751352.5423 - val_main_output_loss: 1061612.9709 - val_aux_output_loss: 3689739.5103\n",
      "\n",
      "Epoch 00046: saving model to best_model_1.h5\n",
      "Epoch 47/80\n",
      "54213/54213 [==============================] - 247s 5ms/step - loss: 4438849.7314 - main_output_loss: 1297876.2809 - aux_output_loss: 3140973.5312 - val_loss: 4757622.6908 - val_main_output_loss: 1068473.9074 - val_aux_output_loss: 3689148.7091\n",
      "\n",
      "Epoch 00047: saving model to best_model_1.h5\n",
      "Epoch 48/80\n",
      "54213/54213 [==============================] - 247s 5ms/step - loss: 4427589.9376 - main_output_loss: 1286989.0226 - aux_output_loss: 3140600.8403 - val_loss: 4734175.4782 - val_main_output_loss: 1045417.9595 - val_aux_output_loss: 3688757.5379\n",
      "\n",
      "Epoch 00048: saving model to best_model_1.h5\n",
      "Epoch 49/80\n",
      "54213/54213 [==============================] - 246s 5ms/step - loss: 4427219.0213 - main_output_loss: 1287096.3284 - aux_output_loss: 3140122.7825 - val_loss: 4748761.4779 - val_main_output_loss: 1059383.8597 - val_aux_output_loss: 3689377.5081\n",
      "\n",
      "Epoch 00049: saving model to best_model_1.h5\n",
      "Epoch 50/80\n",
      "54213/54213 [==============================] - 248s 5ms/step - loss: 4432644.7460 - main_output_loss: 1292775.5558 - aux_output_loss: 3139869.1984 - val_loss: 4780814.1564 - val_main_output_loss: 1091399.7555 - val_aux_output_loss: 3689414.4962\n",
      "\n",
      "Epoch 00050: saving model to best_model_1.h5\n",
      "Epoch 51/80\n",
      "54213/54213 [==============================] - 247s 5ms/step - loss: 4412331.7985 - main_output_loss: 1272993.4463 - aux_output_loss: 3139338.4267 - val_loss: 4784893.2403 - val_main_output_loss: 1095612.8092 - val_aux_output_loss: 3689280.4870\n",
      "\n",
      "Epoch 00051: saving model to best_model_1.h5\n",
      "Epoch 52/80\n",
      "54213/54213 [==============================] - 247s 5ms/step - loss: 4415592.0427 - main_output_loss: 1276344.3821 - aux_output_loss: 3139247.5841 - val_loss: 4761501.3182 - val_main_output_loss: 1072158.3011 - val_aux_output_loss: 3689343.0967\n",
      "\n",
      "Epoch 00052: saving model to best_model_1.h5\n",
      "Epoch 53/80\n",
      "54213/54213 [==============================] - 248s 5ms/step - loss: 4406337.9755 - main_output_loss: 1267410.4344 - aux_output_loss: 3138927.4606 - val_loss: 4762944.0820 - val_main_output_loss: 1073742.9963 - val_aux_output_loss: 3689200.9774\n",
      "\n",
      "Epoch 00053: saving model to best_model_1.h5\n",
      "Epoch 54/80\n",
      "54213/54213 [==============================] - 247s 5ms/step - loss: 4408318.6455 - main_output_loss: 1269743.5652 - aux_output_loss: 3138575.1667 - val_loss: 4783294.9511 - val_main_output_loss: 1094146.1810 - val_aux_output_loss: 3689148.7292\n",
      "\n",
      "Epoch 00054: saving model to best_model_1.h5\n",
      "Epoch 55/80\n",
      "54213/54213 [==============================] - 247s 5ms/step - loss: 4401693.3999 - main_output_loss: 1263663.4324 - aux_output_loss: 3138029.9552 - val_loss: 4778886.6437 - val_main_output_loss: 1090346.9453 - val_aux_output_loss: 3688539.6962\n",
      "\n",
      "Epoch 00055: saving model to best_model_1.h5\n",
      "Epoch 56/80\n",
      "54213/54213 [==============================] - 247s 5ms/step - loss: 4393658.6640 - main_output_loss: 1256207.8223 - aux_output_loss: 3137450.7717 - val_loss: 4787408.2684 - val_main_output_loss: 1098799.8512 - val_aux_output_loss: 3688608.3681\n",
      "\n",
      "Epoch 00056: saving model to best_model_1.h5\n",
      "Epoch 57/80\n",
      "54213/54213 [==============================] - 247s 5ms/step - loss: 4398319.9291 - main_output_loss: 1261161.1922 - aux_output_loss: 3137158.6526 - val_loss: 4792562.6024 - val_main_output_loss: 1103935.6774 - val_aux_output_loss: 3688626.9322\n",
      "\n",
      "Epoch 00057: saving model to best_model_1.h5\n",
      "Epoch 58/80\n",
      "54213/54213 [==============================] - 247s 5ms/step - loss: 4370276.9404 - main_output_loss: 1233441.5351 - aux_output_loss: 3136835.3921 - val_loss: 4797799.7999 - val_main_output_loss: 1109053.1706 - val_aux_output_loss: 3688746.6520\n",
      "\n",
      "Epoch 00058: saving model to best_model_1.h5\n",
      "Epoch 59/80\n",
      "54213/54213 [==============================] - 247s 5ms/step - loss: 4360434.9908 - main_output_loss: 1224038.0742 - aux_output_loss: 3136396.9781 - val_loss: 4829815.2504 - val_main_output_loss: 1141025.6385 - val_aux_output_loss: 3688789.5930\n",
      "\n",
      "Epoch 00059: saving model to best_model_1.h5\n",
      "Epoch 60/80\n",
      "54213/54213 [==============================] - 248s 5ms/step - loss: 4362381.3431 - main_output_loss: 1225911.3441 - aux_output_loss: 3136469.9453 - val_loss: 4794345.8255 - val_main_output_loss: 1106490.0815 - val_aux_output_loss: 3687855.7814\n",
      "\n",
      "Epoch 00060: saving model to best_model_1.h5\n",
      "Epoch 61/80\n",
      "54213/54213 [==============================] - 248s 5ms/step - loss: 4373938.0086 - main_output_loss: 1237744.6647 - aux_output_loss: 3136193.2716 - val_loss: 4802310.2824 - val_main_output_loss: 1114195.2788 - val_aux_output_loss: 3688115.0751\n",
      "\n",
      "Epoch 00061: saving model to best_model_1.h5\n",
      "Epoch 62/80\n",
      "54213/54213 [==============================] - 250s 5ms/step - loss: 4365378.2804 - main_output_loss: 1228934.2645 - aux_output_loss: 3136444.0357 - val_loss: 4789826.7033 - val_main_output_loss: 1101137.6662 - val_aux_output_loss: 3688689.0131\n",
      "\n",
      "Epoch 00062: saving model to best_model_1.h5\n",
      "Epoch 63/80\n",
      "54213/54213 [==============================] - 248s 5ms/step - loss: 4371556.3712 - main_output_loss: 1235494.6817 - aux_output_loss: 3136061.6799 - val_loss: 4868840.4843 - val_main_output_loss: 1180253.4593 - val_aux_output_loss: 3688587.0955\n",
      "\n",
      "Epoch 00063: saving model to best_model_1.h5\n",
      "Epoch 64/80\n",
      "54213/54213 [==============================] - 248s 5ms/step - loss: 4360984.5080 - main_output_loss: 1225454.3102 - aux_output_loss: 3135530.2042 - val_loss: 4777025.2079 - val_main_output_loss: 1089540.3417 - val_aux_output_loss: 3687484.8394\n",
      "\n",
      "Epoch 00064: saving model to best_model_1.h5\n",
      "Epoch 65/80\n",
      "54213/54213 [==============================] - 248s 5ms/step - loss: 4352112.4746 - main_output_loss: 1216914.4904 - aux_output_loss: 3135197.9970 - val_loss: 4791975.7055 - val_main_output_loss: 1104363.9577 - val_aux_output_loss: 3687611.7195\n",
      "\n",
      "Epoch 00065: saving model to best_model_1.h5\n",
      "Epoch 66/80\n",
      "54213/54213 [==============================] - 248s 5ms/step - loss: 4342734.1612 - main_output_loss: 1207728.3215 - aux_output_loss: 3135005.8533 - val_loss: 4787799.9863 - val_main_output_loss: 1100450.9473 - val_aux_output_loss: 3687349.1368\n",
      "\n",
      "Epoch 00066: saving model to best_model_1.h5\n",
      "Epoch 67/80\n",
      "54213/54213 [==============================] - 249s 5ms/step - loss: 4331290.1348 - main_output_loss: 1196382.1509 - aux_output_loss: 3134907.9823 - val_loss: 4790355.9834 - val_main_output_loss: 1102847.6624 - val_aux_output_loss: 3687508.1985\n",
      "\n",
      "Epoch 00067: saving model to best_model_1.h5\n",
      "Epoch 68/80\n",
      "54213/54213 [==============================] - 248s 5ms/step - loss: 4334628.9445 - main_output_loss: 1200044.1139 - aux_output_loss: 3134584.7347 - val_loss: 4814663.0313 - val_main_output_loss: 1126459.6774 - val_aux_output_loss: 3688203.2499\n",
      "\n",
      "Epoch 00068: saving model to best_model_1.h5\n",
      "Epoch 69/80\n",
      "54213/54213 [==============================] - 248s 5ms/step - loss: 4333753.1756 - main_output_loss: 1199728.9464 - aux_output_loss: 3134024.2944 - val_loss: 4792275.1711 - val_main_output_loss: 1104439.9862 - val_aux_output_loss: 3687835.2198\n",
      "\n",
      "Epoch 00069: saving model to best_model_1.h5\n",
      "Epoch 70/80\n",
      "54213/54213 [==============================] - 247s 5ms/step - loss: 4322814.7342 - main_output_loss: 1189253.6107 - aux_output_loss: 3133561.1010 - val_loss: 4813751.9568 - val_main_output_loss: 1126288.2327 - val_aux_output_loss: 3687463.7772\n",
      "\n",
      "Epoch 00070: saving model to best_model_1.h5\n",
      "Epoch 71/80\n",
      "54213/54213 [==============================] - 247s 5ms/step - loss: 4306694.2004 - main_output_loss: 1173472.7446 - aux_output_loss: 3133221.5325 - val_loss: 4881992.8708 - val_main_output_loss: 1194893.3811 - val_aux_output_loss: 3687099.4783\n",
      "\n",
      "Epoch 00071: saving model to best_model_1.h5\n",
      "Epoch 72/80\n",
      "54213/54213 [==============================] - 247s 5ms/step - loss: 4307152.1777 - main_output_loss: 1174725.8350 - aux_output_loss: 3132426.3538 - val_loss: 4825278.7773 - val_main_output_loss: 1138296.4165 - val_aux_output_loss: 3686982.2945\n",
      "\n",
      "Epoch 00072: saving model to best_model_1.h5\n",
      "Epoch 73/80\n",
      "54213/54213 [==============================] - 248s 5ms/step - loss: 4293938.8284 - main_output_loss: 1162205.6102 - aux_output_loss: 3131733.2206 - val_loss: 4814149.5267 - val_main_output_loss: 1127696.5366 - val_aux_output_loss: 3686453.0127\n",
      "\n",
      "Epoch 00073: saving model to best_model_1.h5\n",
      "Epoch 74/80\n",
      "54213/54213 [==============================] - 250s 5ms/step - loss: 4293474.8692 - main_output_loss: 1162358.4692 - aux_output_loss: 3131116.3147 - val_loss: 4851621.0281 - val_main_output_loss: 1165720.6685 - val_aux_output_loss: 3685900.2673\n",
      "\n",
      "Epoch 00074: saving model to best_model_1.h5\n",
      "Epoch 75/80\n",
      "54213/54213 [==============================] - 249s 5ms/step - loss: 4296119.2579 - main_output_loss: 1165430.3537 - aux_output_loss: 3130688.9054 - val_loss: 4866739.9508 - val_main_output_loss: 1180270.6715 - val_aux_output_loss: 3686469.3078\n",
      "\n",
      "Epoch 00075: saving model to best_model_1.h5\n",
      "Epoch 76/80\n",
      "54213/54213 [==============================] - 248s 5ms/step - loss: 4280518.8386 - main_output_loss: 1149739.0127 - aux_output_loss: 3130779.8323 - val_loss: 4828745.9844 - val_main_output_loss: 1142331.4775 - val_aux_output_loss: 3686414.4666\n",
      "\n",
      "Epoch 00076: saving model to best_model_1.h5\n",
      "Epoch 77/80\n",
      "54213/54213 [==============================] - 247s 5ms/step - loss: 4285775.0563 - main_output_loss: 1155445.7924 - aux_output_loss: 3130329.2593 - val_loss: 4864670.5141 - val_main_output_loss: 1178883.7570 - val_aux_output_loss: 3685786.7730\n",
      "\n",
      "Epoch 00077: saving model to best_model_1.h5\n",
      "Epoch 78/80\n",
      "54213/54213 [==============================] - 248s 5ms/step - loss: 4268617.9978 - main_output_loss: 1139022.7307 - aux_output_loss: 3129595.3391 - val_loss: 4844043.0662 - val_main_output_loss: 1157813.3670 - val_aux_output_loss: 3686229.6988\n",
      "\n",
      "Epoch 00078: saving model to best_model_1.h5\n",
      "Epoch 79/80\n",
      "54213/54213 [==============================] - 248s 5ms/step - loss: 4287469.3282 - main_output_loss: 1158141.8643 - aux_output_loss: 3129327.4644 - val_loss: 4858692.7177 - val_main_output_loss: 1172392.9178 - val_aux_output_loss: 3686299.7878\n",
      "\n",
      "Epoch 00079: saving model to best_model_1.h5\n",
      "Epoch 80/80\n",
      "54213/54213 [==============================] - 249s 5ms/step - loss: 4265176.8785 - main_output_loss: 1135842.7506 - aux_output_loss: 3129334.1345 - val_loss: 4848443.5535 - val_main_output_loss: 1162484.9822 - val_aux_output_loss: 3685958.5075\n",
      "\n",
      "Epoch 00080: saving model to best_model_1.h5\n",
      "Time for training multi input model on part of data: 356.13\n"
     ]
    }
   ],
   "source": [
    "# Train model\n",
    "start = time.time()\n",
    "history_model_multi = model_multi.fit({'text_input': X_train_nn1, 'aux_input': X_train_meta},\n",
    "          {'main_output': y_train_nn1, 'aux_output': y_train_meta},\n",
    "          epochs=epochs, batch_size=256, validation_data = ([X_test_nn1, X_test_meta], [y_test_nn1, y_test_meta]), verbose = 1, callbacks = [es, mc])\n",
    "end = time.time()\n",
    "print('Time for training multi input model on part of data:', round((end-start)/60,2))"
   ]
  },
  {
   "cell_type": "code",
   "execution_count": 197,
   "metadata": {
    "colab": {},
    "colab_type": "code",
    "id": "x9rO9EYPBsyk"
   },
   "outputs": [],
   "source": [
    "#model_multi.save_weights(\"model_multi.h5\")\n",
    "#print(\"Saved model_multi to disk\")\n",
    "\n",
    "#model_multi.load_weights(\"model_multi.h5\")\n",
    "#print(\"Loaded model from disk\")\n",
    "#history_model_multi.history"
   ]
  },
  {
   "cell_type": "code",
   "execution_count": 211,
   "metadata": {},
   "outputs": [
    {
     "name": "stdout",
     "output_type": "stream",
     "text": [
      "__________________________________________________________________________________________________\n",
      "Layer (type)                    Output Shape         Param #     Connected to                     \n",
      "==================================================================================================\n",
      "text_input (InputLayer)         (None, 300)          0                                            \n",
      "__________________________________________________________________________________________________\n",
      "embedding_14 (Embedding)        (None, 300, 512)     199284224   text_input[0][0]                 \n",
      "__________________________________________________________________________________________________\n",
      "gru_11 (GRU)                    (None, 64)           110784      embedding_14[0][0]               \n",
      "__________________________________________________________________________________________________\n",
      "aux_input (InputLayer)          (None, 12)           0                                            \n",
      "__________________________________________________________________________________________________\n",
      "concatenate_14 (Concatenate)    (None, 76)           0           gru_11[0][0]                     \n",
      "                                                                 aux_input[0][0]                  \n",
      "__________________________________________________________________________________________________\n",
      "dense_20 (Dense)                (None, 16)           1232        concatenate_14[0][0]             \n",
      "__________________________________________________________________________________________________\n",
      "dense_21 (Dense)                (None, 64)           1088        dense_20[0][0]                   \n",
      "__________________________________________________________________________________________________\n",
      "main_output (Dense)             (None, 1)            65          dense_21[0][0]                   \n",
      "__________________________________________________________________________________________________\n",
      "aux_output (Dense)              (None, 1)            65          gru_11[0][0]                     \n",
      "==================================================================================================\n",
      "Total params: 199,397,458\n",
      "Trainable params: 113,234\n",
      "Non-trainable params: 199,284,224\n",
      "__________________________________________________________________________________________________\n"
     ]
    }
   ],
   "source": [
    "model_multi.summary()"
   ]
  },
  {
   "cell_type": "code",
   "execution_count": 198,
   "metadata": {
    "colab": {},
    "colab_type": "code",
    "id": "UlFS1yT1BsvV"
   },
   "outputs": [
    {
     "data": {
      "image/png": "[encoded data removed]",
      "text/plain": [
       "<Figure size 432x288 with 1 Axes>"
      ]
     },
     "metadata": {
      "needs_background": "light"
     },
     "output_type": "display_data"
    }
   ],
   "source": [
    "plt.plot(history_model_multi.history['main_output_loss'])\n",
    "plt.plot(history_model_multi.history['val_main_output_loss'])\n",
    "plt.title('history_model_multi mse')\n",
    "plt.ylabel('mse')\n",
    "plt.xlabel('epoch')\n",
    "plt.legend(['train', 'validation'], loc='upper left')\n",
    "plt.show()"
   ]
  },
  {
   "cell_type": "code",
   "execution_count": 203,
   "metadata": {},
   "outputs": [
    {
     "data": {
      "text/plain": [
       "1038325.9032792441"
      ]
     },
     "execution_count": 203,
     "metadata": {},
     "output_type": "execute_result"
    }
   ],
   "source": [
    "min(history_model_multi.history['val_main_output_loss'])"
   ]
  },
  {
   "cell_type": "markdown",
   "metadata": {},
   "source": [
    "| Model                                          | Epochs | val MSE   | batch size   | seq length  | training time |activation function |kaggle      |\n",
    "| ---------------------------------------------- | ------ |---------- |---------- |------------ |-------------- |------------------- |----------- |\n",
    "| Multi input model (model trained on subsample) | 25     |2,856,676  |32  |300          |46.61 min      |relu                |177,305,205 |\n",
    "| Multi input model (model trained on all data)  | 25     |2,095,545  |32  |300          |276 min        |relu                | 86,263,429  |\n",
    "| Multi input model (model trained on subsample, +1 Dense) | 21 |3,102,589 |256 |300 |17.08 min      |relu              |- |\n",
    "| Multi input model (model trained on subsample) | 25     |3,102,589  |256  |300          |16.64 min      |relu                |- |\n",
    "| Multi input model (model trained on subsample, + 2 Dense) | 25     |3,102,589  |256  |300          |20.3 min      |relu                |- |\n",
    "| Multi input model (model trained on subsample, GRU(64)) | 25     |2,996,955  |256  |300          |27.25 min      |relu                |- |\n",
    "| Multi input model (model trained on subsample, GRU(128)) | 25     |3,000,516  |256  |300          |20.3 min      |relu                |- |\n",
    "| Multi input model (model trained on subsample, GRU(64) + 1 Dense) | 25     |2,963,726  |256  |300          |24.43 min      |relu                |- |\n",
    "| Multi input model (model trained on all, GRU(64) + 1 Dense) | 80     |1,038,325  |256  |300          |356.13min      |relu                |72,961,508 |\n",
    "| Multi input model (model trained on all, GRU(64) + 1 Dense) | 80     |1,038,325  |32  |300          |600min      |relu                |72,961,508 |\n",
    "| Multi input model (model trained subsample, GRU(64) + 1 Dense, loss_weights={'main_output': 1., 'aux_output': 0.2}) | 25     |2,744,865  |256  |300          |40min      |relu                |- |\n",
    "| Multi input model (model trained subsample, GRU(64) + 1 Dense, loss_weights={'main_output': 1., 'aux_output': 0.1}) | 25     |2,787,136  |256  |300          |40min      |relu                |- |\n",
    "| Multi input model (model trained subsample, GRU(64) + 1 Dense, loss_weights={'main_output': 1., 'aux_output': 0.6}) | 25     |2,859,623  |256  |300          |40min      |relu                |- |\n",
    "| Multi input model (model trained subsample, GRU(64) + 1 Dense, loss_weights={'main_output': 1., 'aux_output': 0.4}) | 25     |3,102,589  |256  |300          |40min      |relu                |- |\n",
    "| Multi input model (model trained on all, GRU(64) + 1 Dense, loss_weights={'main_output': 1., 'aux_output': 0.2}) | 80     |1,217,934  |256  |300          |360min      |relu                |? |"
   ]
  },
  {
   "cell_type": "markdown",
   "metadata": {},
   "source": [
    "---"
   ]
  },
  {
   "cell_type": "markdown",
   "metadata": {},
   "source": [
    "## Predict on unknown data "
   ]
  },
  {
   "cell_type": "code",
   "execution_count": 199,
   "metadata": {},
   "outputs": [
    {
     "name": "stdout",
     "output_type": "stream",
     "text": [
      "514/514 [==============================] - 22s 42ms/step\n"
     ]
    }
   ],
   "source": [
    "# Make prediction\n",
    "pred_2 = model_multi.predict([padded_pred, pred_meta_data], verbose = 1)\n",
    "\n",
    "# Combine to data frame\n",
    "values = pd.Series(np.array([item[0] for item in pred_2[0]]))\n",
    "pred_2_export = pd.concat([test['index'], values], axis = 1)\n",
    "pred_2_export.columns = ['index', 'Claps']\n",
    "pred_2_export['Claps'] = abs(pred_2_export['Claps'])\n",
    "\n",
    "# Export as csv\n",
    "pred_2_export.to_csv('pred_4_export.csv', index = False)"
   ]
  },
  {
   "cell_type": "markdown",
   "metadata": {},
   "source": [
    "---"
   ]
  },
  {
   "cell_type": "markdown",
   "metadata": {},
   "source": [
    "### New try larger batch size"
   ]
  },
  {
   "cell_type": "code",
   "execution_count": 261,
   "metadata": {},
   "outputs": [],
   "source": [
    "epochs = 80"
   ]
  },
  {
   "cell_type": "code",
   "execution_count": 262,
   "metadata": {},
   "outputs": [],
   "source": [
    "# Input for NLP branch of model\n",
    "text_input = Input(shape=(major_sen,), dtype='int32', name='text_input')\n",
    "\n",
    "# Embedding layer\n",
    "x = Embedding(input_dim = num_words, output_dim = 512, embeddings_initializer=Constant(embedding_matrix),input_length=major_sen,trainable=False)(text_input)\n",
    "\n",
    "# GRU layer\n",
    "text_out = GRU(64)(x)\n",
    "\n",
    "# Extra output from text branch\n",
    "auxiliary_output = Dense(1, activation='relu', name='aux_output')(text_out)\n",
    "\n",
    "# Extra input from non textual data (meta data)\n",
    "auxiliary_input = Input(shape=(12,), name='aux_input')\n",
    "\n",
    "\n",
    "# Concatenate branches\n",
    "x = keras.layers.concatenate([text_out, auxiliary_input])\n",
    "\n",
    "# One layer with relu function\n",
    "x = Dense(16, activation='relu')(x)\n",
    "x = Dense(64, activation='relu')(x) \n",
    "#x = Dense(64, activation='relu')(x)\n",
    "#x = Dense(64, activation='relu')(x)\n",
    "\n",
    "# Main layer with relu activation function\n",
    "main_output = Dense(1, activation='relu', name='main_output')(x)\n",
    "\n",
    "model_multi_2 = Model(inputs=[text_input, auxiliary_input], outputs=[main_output, auxiliary_output])\n",
    "\n",
    "# Compile model\n",
    "model_multi_2.compile(optimizer='adam',\n",
    "              loss={'main_output': 'mean_squared_error', 'aux_output': 'mean_squared_error'}\n",
    "              ,loss_weights={'main_output': 1., 'aux_output': 0.2}\n",
    "             )\n",
    "\n",
    "# Define early stopping with callbacks\n",
    "es = EarlyStopping(monitor='val_main_output_loss', mode='min', min_delta=1, patience=60,\n",
    "                   restore_best_weights=True,\n",
    "                   verbose = 1) # Stop training when loss decreases less than 1%\n",
    "mc = ModelCheckpoint('best_model_2.h5', monitor='val_main_output_loss', mode='min', verbose=1)"
   ]
  },
  {
   "cell_type": "code",
   "execution_count": 263,
   "metadata": {},
   "outputs": [
    {
     "name": "stdout",
     "output_type": "stream",
     "text": [
      "Train on 54213 samples, validate on 18072 samples\n",
      "Epoch 1/80\n",
      "54213/54213 [==============================] - 388s 7ms/step - loss: 3769651.4873 - main_output_loss: 3133530.9178 - aux_output_loss: 3180603.0380 - val_loss: 4387990.7260 - val_main_output_loss: 3645056.9817 - val_aux_output_loss: 3714669.1254\n",
      "\n",
      "Epoch 00001: saving model to best_model_2.h5\n",
      "Epoch 2/80\n",
      "54213/54213 [==============================] - 249s 5ms/step - loss: 3760573.9225 - main_output_loss: 3125097.8394 - aux_output_loss: 3177380.1495 - val_loss: 4382494.4931 - val_main_output_loss: 3639908.0984 - val_aux_output_loss: 3712932.0837\n",
      "\n",
      "Epoch 00002: saving model to best_model_2.h5\n",
      "Epoch 3/80\n",
      "54213/54213 [==============================] - 245s 5ms/step - loss: 3754250.7032 - main_output_loss: 3119021.1841 - aux_output_loss: 3176147.6913 - val_loss: 4373536.0251 - val_main_output_loss: 3631145.3011 - val_aux_output_loss: 3711953.3203\n",
      "\n",
      "Epoch 00003: saving model to best_model_2.h5\n",
      "Epoch 4/80\n",
      "54213/54213 [==============================] - 245s 5ms/step - loss: 3734471.2109 - main_output_loss: 3099411.7964 - aux_output_loss: 3175296.9031 - val_loss: 4348386.0598 - val_main_output_loss: 3606009.2340 - val_aux_output_loss: 3711884.0263\n",
      "\n",
      "Epoch 00004: saving model to best_model_2.h5\n",
      "Epoch 5/80\n",
      "54213/54213 [==============================] - 245s 5ms/step - loss: 3695656.9125 - main_output_loss: 3060561.7381 - aux_output_loss: 3175475.5061 - val_loss: 4287131.7424 - val_main_output_loss: 3544647.4095 - val_aux_output_loss: 3712421.4399\n",
      "\n",
      "Epoch 00005: saving model to best_model_2.h5\n",
      "Epoch 6/80\n",
      "54213/54213 [==============================] - 245s 5ms/step - loss: 3617257.0581 - main_output_loss: 2982092.2014 - aux_output_loss: 3175824.4256 - val_loss: 4184606.2900 - val_main_output_loss: 3442072.5070 - val_aux_output_loss: 3712669.3793\n",
      "\n",
      "Epoch 00006: saving model to best_model_2.h5\n",
      "Epoch 7/80\n",
      "54213/54213 [==============================] - 246s 5ms/step - loss: 3502328.0125 - main_output_loss: 2867066.6696 - aux_output_loss: 3176306.5567 - val_loss: 4058957.9081 - val_main_output_loss: 3316363.1399 - val_aux_output_loss: 3712973.8038\n",
      "\n",
      "Epoch 00007: saving model to best_model_2.h5\n",
      "Epoch 8/80\n",
      "54213/54213 [==============================] - 245s 5ms/step - loss: 3351185.4535 - main_output_loss: 2715850.1210 - aux_output_loss: 3176676.8298 - val_loss: 3887629.9956 - val_main_output_loss: 3144991.7145 - val_aux_output_loss: 3713191.3557\n",
      "\n",
      "Epoch 00008: saving model to best_model_2.h5\n",
      "Epoch 9/80\n",
      "54213/54213 [==============================] - 245s 5ms/step - loss: 3152667.0654 - main_output_loss: 2517237.4975 - aux_output_loss: 3177147.6145 - val_loss: 3666250.0926 - val_main_output_loss: 2923645.2803 - val_aux_output_loss: 3713024.3493\n",
      "\n",
      "Epoch 00009: saving model to best_model_2.h5\n",
      "Epoch 10/80\n",
      "54213/54213 [==============================] - 247s 5ms/step - loss: 2968797.4537 - main_output_loss: 2333339.9860 - aux_output_loss: 3177287.6207 - val_loss: 3435180.9445 - val_main_output_loss: 2692603.9330 - val_aux_output_loss: 3712885.5021\n",
      "\n",
      "Epoch 00010: saving model to best_model_2.h5\n",
      "Epoch 11/80\n",
      "54213/54213 [==============================] - 245s 5ms/step - loss: 2784624.9598 - main_output_loss: 2149129.6743 - aux_output_loss: 3177476.1168 - val_loss: 3282276.1803 - val_main_output_loss: 2539743.2249 - val_aux_output_loss: 3712665.2130\n",
      "\n",
      "Epoch 00011: saving model to best_model_2.h5\n",
      "Epoch 12/80\n",
      "54213/54213 [==============================] - 245s 5ms/step - loss: 2652277.5701 - main_output_loss: 2016755.4544 - aux_output_loss: 3177610.5470 - val_loss: 3073824.4929 - val_main_output_loss: 2331359.9176 - val_aux_output_loss: 3712322.9689\n",
      "\n",
      "Epoch 00012: saving model to best_model_2.h5\n",
      "Epoch 13/80\n",
      "54213/54213 [==============================] - 246s 5ms/step - loss: 2493720.6951 - main_output_loss: 1858251.7943 - aux_output_loss: 3177344.3974 - val_loss: 2897707.9744 - val_main_output_loss: 2155347.9288 - val_aux_output_loss: 3711800.0183\n",
      "\n",
      "Epoch 00013: saving model to best_model_2.h5\n",
      "Epoch 14/80\n",
      "54213/54213 [==============================] - 245s 5ms/step - loss: 2364999.3123 - main_output_loss: 1729613.1985 - aux_output_loss: 3176930.8247 - val_loss: 2797587.0722 - val_main_output_loss: 2055405.8246 - val_aux_output_loss: 3710906.0599\n",
      "\n",
      "Epoch 00014: saving model to best_model_2.h5\n",
      "Epoch 15/80\n",
      "54213/54213 [==============================] - 246s 5ms/step - loss: 2282492.7680 - main_output_loss: 1647178.0007 - aux_output_loss: 3176573.6008 - val_loss: 2600750.2222 - val_main_output_loss: 1858652.1302 - val_aux_output_loss: 3710490.1562\n",
      "\n",
      "Epoch 00015: saving model to best_model_2.h5\n",
      "Epoch 16/80\n",
      "54213/54213 [==============================] - 248s 5ms/step - loss: 2215086.4964 - main_output_loss: 1579785.2144 - aux_output_loss: 3176506.2238 - val_loss: 2554879.4340 - val_main_output_loss: 1812878.0544 - val_aux_output_loss: 3710006.5446\n",
      "\n",
      "Epoch 00016: saving model to best_model_2.h5\n",
      "Epoch 17/80\n",
      "54213/54213 [==============================] - 247s 5ms/step - loss: 2183556.6171 - main_output_loss: 1548327.5736 - aux_output_loss: 3176144.9149 - val_loss: 2421619.0188 - val_main_output_loss: 1679740.5603 - val_aux_output_loss: 3709392.0966\n",
      "\n",
      "Epoch 00017: saving model to best_model_2.h5\n",
      "Epoch 18/80\n",
      "54213/54213 [==============================] - 245s 5ms/step - loss: 2123431.3533 - main_output_loss: 1488264.5898 - aux_output_loss: 3175833.6859 - val_loss: 2334356.0406 - val_main_output_loss: 1592626.7916 - val_aux_output_loss: 3708646.4417\n",
      "\n",
      "Epoch 00018: saving model to best_model_2.h5\n",
      "Epoch 19/80\n",
      "54213/54213 [==============================] - 245s 5ms/step - loss: 2087703.3511 - main_output_loss: 1452598.8900 - aux_output_loss: 3175522.1824 - val_loss: 2320494.7921 - val_main_output_loss: 1578845.1423 - val_aux_output_loss: 3708247.9669\n",
      "\n",
      "Epoch 00019: saving model to best_model_2.h5\n",
      "Epoch 20/80\n",
      "54213/54213 [==============================] - 245s 5ms/step - loss: 2063082.7267 - main_output_loss: 1428040.0607 - aux_output_loss: 3175213.2286 - val_loss: 2255110.4596 - val_main_output_loss: 1513569.6875 - val_aux_output_loss: 3707703.7006\n",
      "\n",
      "Epoch 00020: saving model to best_model_2.h5\n",
      "Epoch 21/80\n",
      "54213/54213 [==============================] - 246s 5ms/step - loss: 2039443.5755 - main_output_loss: 1404489.3863 - aux_output_loss: 3174770.8132 - val_loss: 2242167.2041 - val_main_output_loss: 1500785.6003 - val_aux_output_loss: 3706908.1301\n",
      "\n",
      "Epoch 00021: saving model to best_model_2.h5\n",
      "Epoch 22/80\n",
      "54213/54213 [==============================] - 246s 5ms/step - loss: 2013969.4571 - main_output_loss: 1379021.2194 - aux_output_loss: 3174741.2334 - val_loss: 2156122.3526 - val_main_output_loss: 1414718.2482 - val_aux_output_loss: 3707020.4128\n",
      "\n",
      "Epoch 00022: saving model to best_model_2.h5\n",
      "Epoch 23/80\n",
      "54213/54213 [==============================] - 247s 5ms/step - loss: 1998703.9568 - main_output_loss: 1363781.2726 - aux_output_loss: 3174613.3037 - val_loss: 2114264.6478 - val_main_output_loss: 1372981.1444 - val_aux_output_loss: 3706417.7271\n",
      "\n",
      "Epoch 00023: saving model to best_model_2.h5\n",
      "Epoch 24/80\n",
      "54213/54213 [==============================] - 246s 5ms/step - loss: 1997045.0603 - main_output_loss: 1362152.3045 - aux_output_loss: 3174463.7885 - val_loss: 2083974.8287 - val_main_output_loss: 1342727.3880 - val_aux_output_loss: 3706237.0005\n",
      "\n",
      "Epoch 00024: saving model to best_model_2.h5\n",
      "Epoch 25/80\n",
      "54213/54213 [==============================] - 246s 5ms/step - loss: 1985464.0272 - main_output_loss: 1350626.4001 - aux_output_loss: 3174188.1918 - val_loss: 2066959.6444 - val_main_output_loss: 1325805.5447 - val_aux_output_loss: 3705770.8372\n",
      "\n",
      "Epoch 00025: saving model to best_model_2.h5\n",
      "Epoch 26/80\n",
      "54213/54213 [==============================] - 248s 5ms/step - loss: 1963842.9265 - main_output_loss: 1329030.1365 - aux_output_loss: 3174063.9198 - val_loss: 2027705.5507 - val_main_output_loss: 1286637.5451 - val_aux_output_loss: 3705340.0622\n",
      "\n",
      "Epoch 00026: saving model to best_model_2.h5\n",
      "Epoch 27/80\n",
      "54213/54213 [==============================] - 246s 5ms/step - loss: 1944745.9414 - main_output_loss: 1309985.0578 - aux_output_loss: 3173804.4678 - val_loss: 2015857.1072 - val_main_output_loss: 1274884.3346 - val_aux_output_loss: 3704863.9297\n",
      "\n",
      "Epoch 00027: saving model to best_model_2.h5\n",
      "Epoch 28/80\n",
      "54213/54213 [==============================] - 247s 5ms/step - loss: 1943443.6212 - main_output_loss: 1308723.0041 - aux_output_loss: 3173603.0951 - val_loss: 2003644.9228 - val_main_output_loss: 1262729.3220 - val_aux_output_loss: 3704578.2123\n",
      "\n",
      "Epoch 00028: saving model to best_model_2.h5\n",
      "Epoch 29/80\n",
      "54213/54213 [==============================] - 247s 5ms/step - loss: 1952857.6488 - main_output_loss: 1318182.6229 - aux_output_loss: 3173374.9273 - val_loss: 2027666.6684 - val_main_output_loss: 1286822.0449 - val_aux_output_loss: 3704223.3771\n",
      "\n",
      "Epoch 00029: saving model to best_model_2.h5\n",
      "Epoch 30/80\n",
      "54213/54213 [==============================] - 247s 5ms/step - loss: 1932224.3893 - main_output_loss: 1297627.1248 - aux_output_loss: 3172986.1797 - val_loss: 1991191.5707 - val_main_output_loss: 1250412.0213 - val_aux_output_loss: 3703897.8094\n",
      "\n",
      "Epoch 00030: saving model to best_model_2.h5\n",
      "Epoch 31/80\n",
      "54213/54213 [==============================] - 247s 5ms/step - loss: 1924693.7065 - main_output_loss: 1290107.3144 - aux_output_loss: 3172931.9351 - val_loss: 2030269.1644 - val_main_output_loss: 1289543.1168 - val_aux_output_loss: 3703630.1070\n",
      "\n",
      "Epoch 00031: saving model to best_model_2.h5\n",
      "Epoch 32/80\n",
      "54213/54213 [==============================] - 247s 5ms/step - loss: 1940168.2598 - main_output_loss: 1305616.4744 - aux_output_loss: 3172759.0650 - val_loss: 2043988.9500 - val_main_output_loss: 1303290.0339 - val_aux_output_loss: 3703494.6310\n",
      "\n",
      "Epoch 00032: saving model to best_model_2.h5\n",
      "Epoch 33/80\n",
      "54213/54213 [==============================] - 247s 5ms/step - loss: 1931320.6323 - main_output_loss: 1296819.9364 - aux_output_loss: 3172503.2591 - val_loss: 1981147.3459 - val_main_output_loss: 1240477.4970 - val_aux_output_loss: 3703348.9490\n",
      "\n",
      "Epoch 00033: saving model to best_model_2.h5\n",
      "Epoch 34/80\n",
      "54213/54213 [==============================] - 247s 5ms/step - loss: 1906500.1632 - main_output_loss: 1272045.2106 - aux_output_loss: 3172274.5753 - val_loss: 1982702.6263 - val_main_output_loss: 1242124.9571 - val_aux_output_loss: 3702888.2926\n",
      "\n",
      "Epoch 00034: saving model to best_model_2.h5\n",
      "Epoch 35/80\n",
      "54213/54213 [==============================] - 247s 5ms/step - loss: 1901075.8182 - main_output_loss: 1266655.0600 - aux_output_loss: 3172103.8828 - val_loss: 1989576.4112 - val_main_output_loss: 1249046.6654 - val_aux_output_loss: 3702649.0120\n",
      "\n",
      "Epoch 00035: saving model to best_model_2.h5\n",
      "Epoch 36/80\n",
      "54213/54213 [==============================] - 247s 5ms/step - loss: 1903870.2794 - main_output_loss: 1269465.4600 - aux_output_loss: 3172023.8492 - val_loss: 1966898.4734 - val_main_output_loss: 1226333.6697 - val_aux_output_loss: 3702823.8920\n",
      "\n",
      "Epoch 00036: saving model to best_model_2.h5\n",
      "Epoch 37/80\n",
      "54213/54213 [==============================] - 247s 5ms/step - loss: 1891596.1679 - main_output_loss: 1257169.8797 - aux_output_loss: 3172131.2764 - val_loss: 1983534.8404 - val_main_output_loss: 1243039.2502 - val_aux_output_loss: 3702477.9697\n",
      "\n",
      "Epoch 00037: saving model to best_model_2.h5\n",
      "Epoch 38/80\n",
      "54213/54213 [==============================] - 247s 5ms/step - loss: 1882268.7341 - main_output_loss: 1247890.2345 - aux_output_loss: 3171892.5068 - val_loss: 1969026.7729 - val_main_output_loss: 1228578.0308 - val_aux_output_loss: 3702243.7280\n",
      "\n",
      "Epoch 00038: saving model to best_model_2.h5\n",
      "Epoch 39/80\n",
      "54213/54213 [==============================] - 247s 5ms/step - loss: 1869569.4236 - main_output_loss: 1235236.0970 - aux_output_loss: 3171666.5854 - val_loss: 1981270.2530 - val_main_output_loss: 1240847.8835 - val_aux_output_loss: 3702111.8219\n",
      "\n",
      "Epoch 00039: saving model to best_model_2.h5\n",
      "Epoch 40/80\n",
      "54213/54213 [==============================] - 247s 5ms/step - loss: 1864827.5182 - main_output_loss: 1230550.1915 - aux_output_loss: 3171386.4293 - val_loss: 1971889.7745 - val_main_output_loss: 1231470.5927 - val_aux_output_loss: 3702095.7130\n",
      "\n",
      "Epoch 00040: saving model to best_model_2.h5\n",
      "Epoch 41/80\n",
      "54213/54213 [==============================] - 247s 5ms/step - loss: 1863127.9980 - main_output_loss: 1228871.3651 - aux_output_loss: 3171283.1612 - val_loss: 1958358.9368 - val_main_output_loss: 1217934.8059 - val_aux_output_loss: 3702120.5842\n",
      "\n",
      "Epoch 00041: saving model to best_model_2.h5\n",
      "Epoch 42/80\n",
      "54213/54213 [==============================] - 249s 5ms/step - loss: 1870723.5850 - main_output_loss: 1236460.8619 - aux_output_loss: 3171313.3606 - val_loss: 2065443.7959 - val_main_output_loss: 1325003.4592 - val_aux_output_loss: 3702201.9124\n",
      "\n",
      "Epoch 00042: saving model to best_model_2.h5\n",
      "Epoch 43/80\n",
      "54213/54213 [==============================] - 249s 5ms/step - loss: 1875285.2659 - main_output_loss: 1241031.2423 - aux_output_loss: 3171270.1853 - val_loss: 1989478.4188 - val_main_output_loss: 1249139.7023 - val_aux_output_loss: 3701693.4220\n",
      "\n",
      "Epoch 00043: saving model to best_model_2.h5\n",
      "Epoch 44/80\n",
      "54213/54213 [==============================] - 248s 5ms/step - loss: 1862314.9719 - main_output_loss: 1228091.5199 - aux_output_loss: 3171117.2479 - val_loss: 1992236.3704 - val_main_output_loss: 1251962.0623 - val_aux_output_loss: 3701371.6050\n",
      "\n",
      "Epoch 00044: saving model to best_model_2.h5\n",
      "Epoch 45/80\n",
      "54213/54213 [==============================] - 247s 5ms/step - loss: 1846009.7593 - main_output_loss: 1211861.5166 - aux_output_loss: 3170741.0016 - val_loss: 1990989.7737 - val_main_output_loss: 1250679.0307 - val_aux_output_loss: 3701553.4871\n",
      "\n",
      "Epoch 00045: saving model to best_model_2.h5\n",
      "Epoch 46/80\n",
      "54213/54213 [==============================] - 247s 5ms/step - loss: 1842426.3259 - main_output_loss: 1208281.8042 - aux_output_loss: 3170722.4096 - val_loss: 2009298.8223 - val_main_output_loss: 1268989.9669 - val_aux_output_loss: 3701544.1120\n",
      "\n",
      "Epoch 00046: saving model to best_model_2.h5\n",
      "Epoch 47/80\n",
      "54213/54213 [==============================] - 247s 5ms/step - loss: 1848276.0881 - main_output_loss: 1214174.8030 - aux_output_loss: 3170506.3603 - val_loss: 1999034.5834 - val_main_output_loss: 1258774.9902 - val_aux_output_loss: 3701297.9732\n",
      "\n",
      "Epoch 00047: saving model to best_model_2.h5\n",
      "Epoch 48/80\n",
      "54213/54213 [==============================] - 248s 5ms/step - loss: 1847035.8328 - main_output_loss: 1213072.3192 - aux_output_loss: 3169817.5809 - val_loss: 1982055.1003 - val_main_output_loss: 1241721.0680 - val_aux_output_loss: 3701670.0956\n",
      "\n",
      "Epoch 00048: saving model to best_model_2.h5\n",
      "Epoch 49/80\n",
      "54213/54213 [==============================] - 247s 5ms/step - loss: 1796691.1406 - main_output_loss: 1162705.2546 - aux_output_loss: 3169929.4285 - val_loss: 1964699.2234 - val_main_output_loss: 1224430.0921 - val_aux_output_loss: 3701345.4308\n",
      "\n",
      "Epoch 00049: saving model to best_model_2.h5\n",
      "Epoch 50/80\n",
      "54213/54213 [==============================] - 248s 5ms/step - loss: 1808050.6782 - main_output_loss: 1174132.5609 - aux_output_loss: 3169590.5764 - val_loss: 2011154.9802 - val_main_output_loss: 1270910.3459 - val_aux_output_loss: 3701222.9893\n",
      "\n",
      "Epoch 00050: saving model to best_model_2.h5\n",
      "Epoch 51/80\n",
      "54213/54213 [==============================] - 248s 5ms/step - loss: 1819522.0423 - main_output_loss: 1185625.7655 - aux_output_loss: 3169481.2191 - val_loss: 1979826.7545 - val_main_output_loss: 1239597.0380 - val_aux_output_loss: 3701148.6274\n",
      "\n",
      "Epoch 00051: saving model to best_model_2.h5\n",
      "Epoch 52/80\n",
      "54213/54213 [==============================] - 252s 5ms/step - loss: 1806704.9539 - main_output_loss: 1172854.8100 - aux_output_loss: 3169250.7730 - val_loss: 2003305.4480 - val_main_output_loss: 1263090.2641 - val_aux_output_loss: 3701075.8642\n",
      "\n",
      "Epoch 00052: saving model to best_model_2.h5\n",
      "Epoch 53/80\n",
      "54213/54213 [==============================] - 246s 5ms/step - loss: 1811055.1783 - main_output_loss: 1177213.0165 - aux_output_loss: 3169210.8199 - val_loss: 2012188.4060 - val_main_output_loss: 1271988.9662 - val_aux_output_loss: 3700997.2310\n",
      "\n",
      "Epoch 00053: saving model to best_model_2.h5\n",
      "Epoch 54/80\n",
      "54213/54213 [==============================] - 246s 5ms/step - loss: 1797187.1018 - main_output_loss: 1163359.0683 - aux_output_loss: 3169140.2138 - val_loss: 1986920.9259 - val_main_output_loss: 1246719.2534 - val_aux_output_loss: 3701007.9570\n",
      "\n",
      "Epoch 00054: saving model to best_model_2.h5\n",
      "Epoch 55/80\n",
      "54213/54213 [==============================] - 246s 5ms/step - loss: 1791363.2555 - main_output_loss: 1157558.6258 - aux_output_loss: 3169023.1682 - val_loss: 1977768.8461 - val_main_output_loss: 1237555.0067 - val_aux_output_loss: 3701069.3068\n",
      "\n",
      "Epoch 00055: saving model to best_model_2.h5\n",
      "Epoch 56/80\n",
      "54213/54213 [==============================] - 247s 5ms/step - loss: 1788969.8719 - main_output_loss: 1155198.1747 - aux_output_loss: 3168858.1888 - val_loss: 2000621.0212 - val_main_output_loss: 1260441.2058 - val_aux_output_loss: 3700898.7253\n",
      "\n",
      "Epoch 00056: saving model to best_model_2.h5\n",
      "Epoch 57/80\n",
      "54213/54213 [==============================] - 247s 5ms/step - loss: 1784519.6371 - main_output_loss: 1150784.2550 - aux_output_loss: 3168676.8429 - val_loss: 2004329.7427 - val_main_output_loss: 1264133.1566 - val_aux_output_loss: 3700983.0608\n",
      "\n",
      "Epoch 00057: saving model to best_model_2.h5\n",
      "Epoch 58/80\n",
      "54213/54213 [==============================] - 249s 5ms/step - loss: 1751280.9204 - main_output_loss: 1117580.9585 - aux_output_loss: 3168499.7874 - val_loss: 2021292.9126 - val_main_output_loss: 1281147.8657 - val_aux_output_loss: 3700725.2722\n",
      "\n",
      "Epoch 00058: saving model to best_model_2.h5\n",
      "Epoch 59/80\n",
      "54213/54213 [==============================] - 246s 5ms/step - loss: 1799346.9233 - main_output_loss: 1165669.9251 - aux_output_loss: 3168384.8672 - val_loss: 2015005.2729 - val_main_output_loss: 1274875.2861 - val_aux_output_loss: 3700649.6192\n",
      "\n",
      "Epoch 00059: saving model to best_model_2.h5\n",
      "Epoch 60/80\n",
      "54213/54213 [==============================] - 246s 5ms/step - loss: 1771088.6388 - main_output_loss: 1137441.0605 - aux_output_loss: 3168237.9468 - val_loss: 2036076.6574 - val_main_output_loss: 1295967.4351 - val_aux_output_loss: 3700546.1415\n",
      "\n",
      "Epoch 00060: saving model to best_model_2.h5\n",
      "Epoch 61/80\n",
      "54213/54213 [==============================] - 247s 5ms/step - loss: 1775950.9045 - main_output_loss: 1142335.7689 - aux_output_loss: 3168075.4589 - val_loss: 2044044.4658 - val_main_output_loss: 1303948.2785 - val_aux_output_loss: 3700480.7941\n",
      "\n",
      "Epoch 00061: saving model to best_model_2.h5\n",
      "Epoch 62/80\n",
      "54213/54213 [==============================] - 247s 5ms/step - loss: 1777724.7257 - main_output_loss: 1144132.3855 - aux_output_loss: 3167961.5532 - val_loss: 2049779.9360 - val_main_output_loss: 1309655.2890 - val_aux_output_loss: 3700623.3453\n",
      "\n",
      "Epoch 00062: saving model to best_model_2.h5\n",
      "Epoch 63/80\n",
      "54213/54213 [==============================] - 247s 5ms/step - loss: 1769780.0158 - main_output_loss: 1136166.5484 - aux_output_loss: 3168066.9667 - val_loss: 2058178.0937 - val_main_output_loss: 1318130.6270 - val_aux_output_loss: 3700237.4444\n",
      "\n",
      "Epoch 00063: saving model to best_model_2.h5\n",
      "Epoch 64/80\n",
      "54213/54213 [==============================] - 247s 5ms/step - loss: 1750779.8741 - main_output_loss: 1117217.5968 - aux_output_loss: 3167811.2420 - val_loss: 2074467.0898 - val_main_output_loss: 1334437.2797 - val_aux_output_loss: 3700148.7778\n",
      "\n",
      "Epoch 00064: saving model to best_model_2.h5\n",
      "Epoch 65/80\n",
      "54213/54213 [==============================] - 247s 5ms/step - loss: 1774629.3558 - main_output_loss: 1141106.6830 - aux_output_loss: 3167613.2311 - val_loss: 2078727.9154 - val_main_output_loss: 1338722.4269 - val_aux_output_loss: 3700027.4200\n",
      "\n",
      "Epoch 00065: saving model to best_model_2.h5\n",
      "Epoch 66/80\n",
      "54213/54213 [==============================] - 249s 5ms/step - loss: 1750880.1804 - main_output_loss: 1117424.0646 - aux_output_loss: 3167280.4464 - val_loss: 2099754.2001 - val_main_output_loss: 1359743.1767 - val_aux_output_loss: 3700055.1610\n",
      "\n",
      "Epoch 00066: saving model to best_model_2.h5\n",
      "Epoch 67/80\n",
      "54213/54213 [==============================] - 248s 5ms/step - loss: 1767742.3699 - main_output_loss: 1134349.7620 - aux_output_loss: 3166963.1345 - val_loss: 2066648.2702 - val_main_output_loss: 1326636.0816 - val_aux_output_loss: 3700060.5283\n",
      "\n",
      "Epoch 00067: saving model to best_model_2.h5\n",
      "Epoch 68/80\n",
      "54213/54213 [==============================] - 248s 5ms/step - loss: 1760037.5971 - main_output_loss: 1126626.2225 - aux_output_loss: 3167056.9613 - val_loss: 2094349.1298 - val_main_output_loss: 1354376.2008 - val_aux_output_loss: 3699864.5498\n",
      "\n",
      "Epoch 00068: saving model to best_model_2.h5\n",
      "Epoch 69/80\n",
      "54213/54213 [==============================] - 248s 5ms/step - loss: 1755045.5087 - main_output_loss: 1121676.3384 - aux_output_loss: 3166845.6644 - val_loss: 2077231.2326 - val_main_output_loss: 1337241.7697 - val_aux_output_loss: 3699947.2825\n",
      "\n",
      "Epoch 00069: saving model to best_model_2.h5\n",
      "Epoch 70/80\n",
      "54213/54213 [==============================] - 250s 5ms/step - loss: 1750385.8674 - main_output_loss: 1117074.7836 - aux_output_loss: 3166555.3310 - val_loss: 2038831.2632 - val_main_output_loss: 1298797.0290 - val_aux_output_loss: 3700171.0139\n",
      "\n",
      "Epoch 00070: saving model to best_model_2.h5\n",
      "Epoch 71/80\n",
      "54213/54213 [==============================] - 249s 5ms/step - loss: 1755262.3103 - main_output_loss: 1121940.0249 - aux_output_loss: 3166611.2077 - val_loss: 2048316.0126 - val_main_output_loss: 1308157.4274 - val_aux_output_loss: 3700793.1146\n",
      "\n",
      "Epoch 00071: saving model to best_model_2.h5\n",
      "Epoch 72/80\n",
      "54213/54213 [==============================] - 247s 5ms/step - loss: 1738364.0403 - main_output_loss: 1105040.1457 - aux_output_loss: 3166619.2507 - val_loss: 2044671.7247 - val_main_output_loss: 1304529.7758 - val_aux_output_loss: 3700709.5484\n",
      "\n",
      "Epoch 00072: saving model to best_model_2.h5\n",
      "Epoch 73/80\n",
      "54213/54213 [==============================] - 253s 5ms/step - loss: 1737318.2174 - main_output_loss: 1104005.7132 - aux_output_loss: 3166562.6523 - val_loss: 2047279.9283 - val_main_output_loss: 1307138.3404 - val_aux_output_loss: 3700707.6686\n",
      "\n",
      "Epoch 00073: saving model to best_model_2.h5\n",
      "Epoch 74/80\n",
      "54213/54213 [==============================] - 249s 5ms/step - loss: 1741561.8177 - main_output_loss: 1108268.3185 - aux_output_loss: 3166467.3537 - val_loss: 2066435.6492 - val_main_output_loss: 1326322.8804 - val_aux_output_loss: 3700563.5496\n",
      "\n",
      "Epoch 00074: saving model to best_model_2.h5\n",
      "Epoch 75/80\n",
      "54213/54213 [==============================] - 247s 5ms/step - loss: 1721172.8824 - main_output_loss: 1087913.8215 - aux_output_loss: 3166295.2881 - val_loss: 2036787.2863 - val_main_output_loss: 1296639.2809 - val_aux_output_loss: 3700740.2587\n",
      "\n",
      "Epoch 00075: saving model to best_model_2.h5\n",
      "Epoch 76/80\n",
      "54213/54213 [==============================] - 247s 5ms/step - loss: 1715576.5821 - main_output_loss: 1082347.0502 - aux_output_loss: 3166147.7505 - val_loss: 2032456.9512 - val_main_output_loss: 1292265.1988 - val_aux_output_loss: 3700958.4448\n",
      "\n",
      "Epoch 00076: saving model to best_model_2.h5\n",
      "Epoch 77/80\n",
      "54213/54213 [==============================] - 247s 5ms/step - loss: 1716369.1610 - main_output_loss: 1083137.8528 - aux_output_loss: 3166156.5461 - val_loss: 2114408.2042 - val_main_output_loss: 1374275.5971 - val_aux_output_loss: 3700663.0887\n",
      "\n",
      "Epoch 00077: saving model to best_model_2.h5\n",
      "Epoch 78/80\n",
      "54213/54213 [==============================] - 247s 5ms/step - loss: 1739726.9010 - main_output_loss: 1106512.1853 - aux_output_loss: 3166073.4961 - val_loss: 2039141.3235 - val_main_output_loss: 1299004.3040 - val_aux_output_loss: 3700685.3032\n",
      "\n",
      "Epoch 00078: saving model to best_model_2.h5\n",
      "Epoch 79/80\n",
      "54213/54213 [==============================] - 247s 5ms/step - loss: 1720150.8426 - main_output_loss: 1087026.7264 - aux_output_loss: 3165620.5130 - val_loss: 2043389.4788 - val_main_output_loss: 1303302.7425 - val_aux_output_loss: 3700433.5421\n",
      "\n",
      "Epoch 00079: saving model to best_model_2.h5\n",
      "Epoch 80/80\n",
      "54213/54213 [==============================] - 248s 5ms/step - loss: 1698001.9831 - main_output_loss: 1064793.1172 - aux_output_loss: 3166044.3203 - val_loss: 2038647.4989 - val_main_output_loss: 1298581.0941 - val_aux_output_loss: 3700331.9208\n",
      "\n",
      "Epoch 00080: saving model to best_model_2.h5\n",
      "Time for training multi input model on all of data: 360.21\n"
     ]
    }
   ],
   "source": [
    "# Train model\n",
    "start = time.time()\n",
    "history_model_multi_2 = model_multi_2.fit({'text_input': X_train_nn1, 'aux_input': X_train_meta},\n",
    "          {'main_output': y_train_nn1, 'aux_output': y_train_meta},\n",
    "          epochs=epochs, batch_size=256, validation_data = ([X_test_nn1, X_test_meta], [y_test_nn1, y_test_meta]), verbose = 1, callbacks = [es, mc])\n",
    "end = time.time()\n",
    "print('Time for training multi input model on all of data:', round((end-start)/60,2))"
   ]
  },
  {
   "cell_type": "code",
   "execution_count": 264,
   "metadata": {
    "colab": {},
    "colab_type": "code",
    "id": "x9rO9EYPBsyk"
   },
   "outputs": [],
   "source": [
    "#model_multi.save_weights(\"model_multi.h5\")\n",
    "#print(\"Saved model_multi to disk\")\n",
    "\n",
    "#model_multi_2.load_weights(\"best_model_2.h5\")\n",
    "#print(\"Loaded model from disk\")\n",
    "#history_model_multi.history"
   ]
  },
  {
   "cell_type": "code",
   "execution_count": 265,
   "metadata": {
    "colab": {},
    "colab_type": "code",
    "id": "UlFS1yT1BsvV"
   },
   "outputs": [
    {
     "data": {
      "image/png": "[encoded data removed]",
      "text/plain": [
       "<Figure size 432x288 with 1 Axes>"
      ]
     },
     "metadata": {
      "needs_background": "light"
     },
     "output_type": "display_data"
    }
   ],
   "source": [
    "plt.plot(history_model_multi_2.history['main_output_loss'])\n",
    "plt.plot(history_model_multi_2.history['val_main_output_loss'])\n",
    "plt.title('history_model_multi_2 mse')\n",
    "plt.ylabel('mse')\n",
    "plt.xlabel('epoch')\n",
    "plt.legend(['train', 'validation'], loc='upper left')\n",
    "plt.show()"
   ]
  },
  {
   "cell_type": "code",
   "execution_count": 266,
   "metadata": {},
   "outputs": [
    {
     "data": {
      "text/plain": [
       "1217934.8058564353"
      ]
     },
     "execution_count": 266,
     "metadata": {},
     "output_type": "execute_result"
    }
   ],
   "source": [
    "min(history_model_multi_2.history['val_main_output_loss'])"
   ]
  },
  {
   "cell_type": "markdown",
   "metadata": {},
   "source": [
    "---"
   ]
  },
  {
   "cell_type": "markdown",
   "metadata": {},
   "source": [
    "## Predict on unknown data "
   ]
  },
  {
   "cell_type": "code",
   "execution_count": 268,
   "metadata": {},
   "outputs": [
    {
     "name": "stdout",
     "output_type": "stream",
     "text": [
      "514/514 [==============================] - 2s 4ms/step\n"
     ]
    }
   ],
   "source": [
    "# Make prediction\n",
    "pred_6 = model_multi_2.predict([padded_pred, pred_meta_data], verbose = 1)\n",
    "\n",
    "# Combine to data frame\n",
    "values = pd.Series(np.array([item[0] for item in pred_6[0]]))\n",
    "pred_6_export = pd.concat([test['index'], values], axis = 1)\n",
    "pred_6_export.columns = ['index', 'Claps']\n",
    "pred_6_export['Claps'] = abs(pred_6_export['Claps'])\n",
    "\n",
    "# Export as csv\n",
    "pred_6_export.to_csv('pred_6_export.csv', index = False)"
   ]
  },
  {
   "cell_type": "markdown",
   "metadata": {},
   "source": [
    "### Model multi 5"
   ]
  },
  {
   "cell_type": "code",
   "execution_count": 272,
   "metadata": {},
   "outputs": [],
   "source": [
    "# Input for NLP branch of model\n",
    "text_input = Input(shape=(major_sen,), dtype='int32', name='text_input')\n",
    "\n",
    "# Embedding layer\n",
    "x = Embedding(input_dim = num_words, output_dim = 512, embeddings_initializer=Constant(embedding_matrix),input_length=major_sen,trainable=False)(text_input)\n",
    "\n",
    "# GRU layer\n",
    "text_out = GRU(64)(x)\n",
    "\n",
    "# Extra output from text branch\n",
    "auxiliary_output = Dense(1, activation='relu', name='aux_output')(text_out)\n",
    "\n",
    "# Extra input from non textual data (meta data)\n",
    "auxiliary_input = Input(shape=(12,), name='aux_input')\n",
    "\n",
    "\n",
    "# Concatenate branches\n",
    "x = keras.layers.concatenate([text_out, auxiliary_input])\n",
    "\n",
    "# One layer with relu function\n",
    "x = Dense(16, activation='relu')(x)\n",
    "x = Dense(64, activation='relu')(x) \n",
    "#x = Dense(64, activation='relu')(x)\n",
    "#x = Dense(64, activation='relu')(x)\n",
    "\n",
    "# Main layer with relu activation function\n",
    "main_output = Dense(1, activation='relu', name='main_output')(x)\n",
    "\n",
    "model_multi_5 = Model(inputs=[text_input, auxiliary_input], outputs=[main_output, auxiliary_output])\n",
    "\n",
    "# Compile model\n",
    "model_multi_5.compile(optimizer='adam',\n",
    "              loss={'main_output': 'mean_squared_error', 'aux_output': 'mean_squared_error'}\n",
    "              #,loss_weights={'main_output': 1., 'aux_output': 0.2}\n",
    "             )\n",
    "\n",
    "# Define early stopping with callbacks\n",
    "es = EarlyStopping(monitor='val_main_output_loss', mode='min', min_delta=1, patience=60,\n",
    "                   restore_best_weights=True,\n",
    "                   verbose = 1) # Stop training when loss decreases less than 1%\n",
    "mc = ModelCheckpoint('best_model_2.h5', monitor='val_main_output_loss', mode='min', verbose=1)"
   ]
  },
  {
   "cell_type": "code",
   "execution_count": 273,
   "metadata": {},
   "outputs": [
    {
     "name": "stdout",
     "output_type": "stream",
     "text": [
      "Loaded model from disk\n"
     ]
    }
   ],
   "source": [
    "## Model 5\n",
    "model_multi_5.load_weights(\"best_model_5.h5\")\n",
    "print(\"Loaded model from disk\")"
   ]
  },
  {
   "cell_type": "code",
   "execution_count": 281,
   "metadata": {},
   "outputs": [
    {
     "name": "stdout",
     "output_type": "stream",
     "text": [
      "2500/2500 [==============================] - 9s 3ms/step\n"
     ]
    }
   ],
   "source": [
    "#([X_test_nn1, X_test_meta], [y_test_nn1, y_test_meta])\n",
    "mse = model_multi_2.predict([X_test_nn1, X_test_meta], verbose = 1)"
   ]
  },
  {
   "cell_type": "code",
   "execution_count": 279,
   "metadata": {},
   "outputs": [],
   "source": [
    "# Combine to data frame\n",
    "mse = pd.Series(np.array([item[0] for item in mse[0]]))\n"
   ]
  },
  {
   "cell_type": "code",
   "execution_count": 283,
   "metadata": {},
   "outputs": [
    {
     "name": "stdout",
     "output_type": "stream",
     "text": [
      "514/514 [==============================] - 2s 4ms/step\n"
     ]
    }
   ],
   "source": [
    "# Make prediction\n",
    "pred_5 = model_multi_2.predict([padded_pred, pred_meta_data], verbose = 1)\n",
    "\n",
    "# Combine to data frame\n",
    "values = pd.Series(np.array([item[0] for item in pred_5[0]]))\n",
    "pred_5_export = pd.concat([test['index'], values], axis = 1)\n",
    "pred_5_export.columns = ['index', 'Claps']\n",
    "pred_5_export['Claps'] = abs(pred_5_export['Claps'])\n",
    "\n",
    "# Export as csv\n",
    "pred_5_export.to_csv('pred_5_export.csv', index = False)"
   ]
  },
  {
   "cell_type": "markdown",
   "metadata": {},
   "source": [
    "# Fine tune multi input model"
   ]
  },
  {
   "cell_type": "code",
   "execution_count": null,
   "metadata": {},
   "outputs": [],
   "source": [
    "learning_rate = 0.1\n",
    "decay_rate = learning_rate / epochs\n",
    "momentum = 0.8\n",
    "sgd = SGD(lr=learning_rate, momentum=momentum, decay=decay_rate, nesterov=True)\n",
    "epochs = 100"
   ]
  },
  {
   "cell_type": "code",
   "execution_count": null,
   "metadata": {},
   "outputs": [],
   "source": [
    "# Input for NLP branch of model\n",
    "text_input = Input(shape=(major_sen,), dtype='int32', name='text_input')\n",
    "\n",
    "# Embedding layer\n",
    "x = Embedding(input_dim = num_words, output_dim = 512, embeddings_initializer=Constant(embedding_matrix),input_length=major_sen,trainable=False)(text_input)\n",
    "\n",
    "# GRU layer\n",
    "text_out = GRU(32)(x)\n",
    "\n",
    "# Bidirectional GRU layer\n",
    "#text_out = Bidirectional(GRU(16), merge_mode=\"concat\")\n",
    "\n",
    "# Extra output from text branch\n",
    "auxiliary_output = Dense(1, activation='relu', name='aux_output')(text_out)\n",
    "\n",
    "# Extra input from non textual data (meta data)\n",
    "auxiliary_input = Input(shape=(12,), name='aux_input')\n",
    "# insert dense layer here \n",
    "# Concatenate branches\n",
    "x = keras.layers.concatenate([text_out, auxiliary_input])\n",
    "\n",
    "# One layer with relu function\n",
    "x = Dense(16, activation='relu')(x)\n",
    "#x = Dense(64, activation='relu')(x)\n",
    "#x = Dense(64, activation='relu')(x)\n",
    "#x = Dense(64, activation='relu')(x)\n",
    "\n",
    "# Main layer with relu activation function\n",
    "main_output = Dense(1, activation='relu', name='main_output')(x)\n",
    "\n",
    "model_multi = Model(inputs=[text_input, auxiliary_input], outputs=[main_output, auxiliary_output])\n",
    "\n",
    "# Compile model\n",
    "model_multi.compile(optimizer = sgd,\n",
    "              loss={'main_output': 'mean_squared_error', 'aux_output': 'mean_squared_error'}\n",
    "              #,loss_weights={'main_output': 1., 'aux_output': 0.2}\n",
    "             )\n",
    "\n",
    "# Define early stopping with callbacks\n",
    "es = EarlyStopping(monitor='val_main_output_loss', mode='min', min_delta=1, patience=60,\n",
    "                   restore_best_weights=True,\n",
    "                   verbose = 1) # Stop training when loss decreases less than 1%\n",
    "mc = ModelCheckpoint('best_model_4.h5', monitor='val_main_output_loss', mode='min', verbose=1)"
   ]
  },
  {
   "cell_type": "code",
   "execution_count": null,
   "metadata": {},
   "outputs": [],
   "source": [
    "# Train model\n",
    "start = time.time()\n",
    "history_model_multi_4 = model_multi.fit({'text_input': X_train_nn1, 'aux_input': X_train_meta},\n",
    "          {'main_output': y_train_nn1, 'aux_output': y_train_meta},\n",
    "          epochs=epochs, batch_size = 128, validation_data = ([X_test_nn1, X_test_meta], [y_test_nn1, y_test_meta]), verbose = 1, callbacks = [es, mc])\n",
    "end = time.time()\n",
    "print('Time for training multi input model on part of data:', round((end-start)/60,2))"
   ]
  },
  {
   "cell_type": "code",
   "execution_count": null,
   "metadata": {
    "colab": {},
    "colab_type": "code",
    "id": "x9rO9EYPBsyk"
   },
   "outputs": [],
   "source": [
    "model_multi.save_weights(\"model_multi_4.h5\")\n",
    "print(\"Saved model_multi_4 to disk\")\n",
    "\n",
    "#model_multi.load_weights(\"model_multi.h5\")\n",
    "#print(\"Loaded model from disk\")\n",
    "#history_model_multi.history"
   ]
  },
  {
   "cell_type": "code",
   "execution_count": null,
   "metadata": {
    "colab": {},
    "colab_type": "code",
    "id": "UlFS1yT1BsvV"
   },
   "outputs": [],
   "source": [
    "plt.plot(history_model_multi_4.history['main_output_loss'])\n",
    "plt.plot(history_model_multi_4.history['val_main_output_loss'])\n",
    "plt.title('history_model_multi_4 mse')\n",
    "plt.ylabel('mse')\n",
    "plt.xlabel('epoch')\n",
    "plt.legend(['train', 'validation'], loc='upper left')\n",
    "plt.show()"
   ]
  },
  {
   "cell_type": "markdown",
   "metadata": {},
   "source": [
    "---"
   ]
  },
  {
   "cell_type": "markdown",
   "metadata": {},
   "source": [
    "## Predict on unknown data "
   ]
  },
  {
   "cell_type": "code",
   "execution_count": null,
   "metadata": {},
   "outputs": [],
   "source": [
    "# Make prediction\n",
    "pred_4 = history_model_multi_4.predict([padded_pred, pred_meta_data], verbose = 1)\n",
    "\n",
    "# Combine to data frame\n",
    "values = pd.Series(np.array([item[0] for item in pred_4[0]]))\n",
    "pred_4_export = pd.concat([test['index'], values], axis = 1)\n",
    "pred_4_export.columns = ['index', 'Claps']\n",
    "pred_4_export['Claps'] = abs(pred_4_export['Claps'])\n",
    "\n",
    "# Export as csv\n",
    "pred_4_export.to_csv('pred_4_export.csv', index = False)"
   ]
  },
  {
   "cell_type": "code",
   "execution_count": null,
   "metadata": {},
   "outputs": [],
   "source": []
  }
 ],
 "metadata": {
  "kernelspec": {
   "display_name": "Python 3",
   "language": "python",
   "name": "python3"
  },
  "language_info": {
   "codemirror_mode": {
    "name": "ipython",
    "version": 3
   },
   "file_extension": ".py",
   "mimetype": "text/x-python",
   "name": "python",
   "nbconvert_exporter": "python",
   "pygments_lexer": "ipython3",
   "version": "3.7.3"
  }
 },
 "nbformat": 4,
 "nbformat_minor": 2
}
