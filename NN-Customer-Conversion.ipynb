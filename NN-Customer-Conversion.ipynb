{
 "cells": [
  {
   "cell_type": "markdown",
   "metadata": {
    "colab_type": "text",
    "id": "WbSl_u5SRdBP"
   },
   "source": [
    "Amanda M., Simon R."
   ]
  },
  {
   "cell_type": "markdown",
   "metadata": {
    "colab_type": "text",
    "id": "p1092mj3q2y8"
   },
   "source": [
    "# ADAMS Mini Challenge 1"
   ]
  },
  {
   "cell_type": "markdown",
   "metadata": {
    "colab_type": "text",
    "id": "PM6-MxQ4vq9G"
   },
   "source": [
    "## Import packages and setup"
   ]
  },
  {
   "cell_type": "code",
   "execution_count": 1,
   "metadata": {
    "colab": {
     "base_uri": "https://localhost:8080/",
     "height": 35
    },
    "colab_type": "code",
    "id": "RoTVoL15vB7p",
    "outputId": "fd3c5b31-bbe7-4496-cd6f-d4862a8dba5a"
   },
   "outputs": [
    {
     "name": "stderr",
     "output_type": "stream",
     "text": [
      "Using TensorFlow backend.\n"
     ]
    }
   ],
   "source": [
    "import pandas as pd\n",
    "import numpy as np\n",
    "import keras as keras\n",
    "import matplotlib.pyplot as plt\n",
    "import io\n",
    "import matplotlib.pyplot as plt\n",
    "%matplotlib inline\n",
    "import seaborn as sns\n",
    "from keras.utils import np_utils\n",
    "from keras.models import Sequential\n",
    "from keras.layers import Dense\n",
    "from keras.callbacks import ModelCheckpoint\n",
    "from keras.callbacks import EarlyStopping\n",
    "from keras.models import load_model\n",
    "from keras.utils.np_utils import to_categorical\n",
    "from keras import backend as K\n",
    "from keras.optimizers import SGD\n",
    "from keras.models import Sequential\n",
    "from keras.layers import Dense, Dropout, Activation, Flatten\n",
    "from keras.utils import np_utils\n",
    "import h5py \n",
    "from sklearn import metrics\n",
    "from sklearn.preprocessing import LabelEncoder\n",
    "from sklearn.model_selection import train_test_split\n",
    "from sklearn.metrics import confusion_matrix\n",
    "from sklearn.metrics import classification_report\n",
    "from sklearn.model_selection import train_test_split\n",
    "from sklearn.preprocessing import StandardScaler\n",
    "from sklearn.ensemble.partial_dependence import partial_dependence, plot_partial_dependence"
   ]
  },
  {
   "cell_type": "markdown",
   "metadata": {
    "colab_type": "text",
    "id": "dvOO1hzdtCqC"
   },
   "source": [
    "## Load data"
   ]
  },
  {
   "cell_type": "code",
   "execution_count": 2,
   "metadata": {
    "colab": {
     "base_uri": "https://localhost:8080/",
     "height": 88,
     "resources": {
      "http://localhost:8080/nbextensions/google.colab/files.js": {
       "data": "Ly8gQ29weXJpZ2h0IDIwMTcgR29vZ2xlIExMQwovLwovLyBMaWNlbnNlZCB1bmRlciB0aGUgQXBhY2hlIExpY2Vuc2UsIFZlcnNpb24gMi4wICh0aGUgIkxpY2Vuc2UiKTsKLy8geW91IG1heSBub3QgdXNlIHRoaXMgZmlsZSBleGNlcHQgaW4gY29tcGxpYW5jZSB3aXRoIHRoZSBMaWNlbnNlLgovLyBZb3UgbWF5IG9idGFpbiBhIGNvcHkgb2YgdGhlIExpY2Vuc2UgYXQKLy8KLy8gICAgICBodHRwOi8vd3d3LmFwYWNoZS5vcmcvbGljZW5zZXMvTElDRU5TRS0yLjAKLy8KLy8gVW5sZXNzIHJlcXVpcmVkIGJ5IGFwcGxpY2FibGUgbGF3IG9yIGFncmVlZCB0byBpbiB3cml0aW5nLCBzb2Z0d2FyZQovLyBkaXN0cmlidXRlZCB1bmRlciB0aGUgTGljZW5zZSBpcyBkaXN0cmlidXRlZCBvbiBhbiAiQVMgSVMiIEJBU0lTLAovLyBXSVRIT1VUIFdBUlJBTlRJRVMgT1IgQ09ORElUSU9OUyBPRiBBTlkgS0lORCwgZWl0aGVyIGV4cHJlc3Mgb3IgaW1wbGllZC4KLy8gU2VlIHRoZSBMaWNlbnNlIGZvciB0aGUgc3BlY2lmaWMgbGFuZ3VhZ2UgZ292ZXJuaW5nIHBlcm1pc3Npb25zIGFuZAovLyBsaW1pdGF0aW9ucyB1bmRlciB0aGUgTGljZW5zZS4KCi8qKgogKiBAZmlsZW92ZXJ2aWV3IEhlbHBlcnMgZm9yIGdvb2dsZS5jb2xhYiBQeXRob24gbW9kdWxlLgogKi8KKGZ1bmN0aW9uKHNjb3BlKSB7CmZ1bmN0aW9uIHNwYW4odGV4dCwgc3R5bGVBdHRyaWJ1dGVzID0ge30pIHsKICBjb25zdCBlbGVtZW50ID0gZG9jdW1lbnQuY3JlYXRlRWxlbWVudCgnc3BhbicpOwogIGVsZW1lbnQudGV4dENvbnRlbnQgPSB0ZXh0OwogIGZvciAoY29uc3Qga2V5IG9mIE9iamVjdC5rZXlzKHN0eWxlQXR0cmlidXRlcykpIHsKICAgIGVsZW1lbnQuc3R5bGVba2V5XSA9IHN0eWxlQXR0cmlidXRlc1trZXldOwogIH0KICByZXR1cm4gZWxlbWVudDsKfQoKLy8gTWF4IG51bWJlciBvZiBieXRlcyB3aGljaCB3aWxsIGJlIHVwbG9hZGVkIGF0IGEgdGltZS4KY29uc3QgTUFYX1BBWUxPQURfU0laRSA9IDEwMCAqIDEwMjQ7Ci8vIE1heCBhbW91bnQgb2YgdGltZSB0byBibG9jayB3YWl0aW5nIGZvciB0aGUgdXNlci4KY29uc3QgRklMRV9DSEFOR0VfVElNRU9VVF9NUyA9IDMwICogMTAwMDsKCmZ1bmN0aW9uIF91cGxvYWRGaWxlcyhpbnB1dElkLCBvdXRwdXRJZCkgewogIGNvbnN0IHN0ZXBzID0gdXBsb2FkRmlsZXNTdGVwKGlucHV0SWQsIG91dHB1dElkKTsKICBjb25zdCBvdXRwdXRFbGVtZW50ID0gZG9jdW1lbnQuZ2V0RWxlbWVudEJ5SWQob3V0cHV0SWQpOwogIC8vIENhY2hlIHN0ZXBzIG9uIHRoZSBvdXRwdXRFbGVtZW50IHRvIG1ha2UgaXQgYXZhaWxhYmxlIGZvciB0aGUgbmV4dCBjYWxsCiAgLy8gdG8gdXBsb2FkRmlsZXNDb250aW51ZSBmcm9tIFB5dGhvbi4KICBvdXRwdXRFbGVtZW50LnN0ZXBzID0gc3RlcHM7CgogIHJldHVybiBfdXBsb2FkRmlsZXNDb250aW51ZShvdXRwdXRJZCk7Cn0KCi8vIFRoaXMgaXMgcm91Z2hseSBhbiBhc3luYyBnZW5lcmF0b3IgKG5vdCBzdXBwb3J0ZWQgaW4gdGhlIGJyb3dzZXIgeWV0KSwKLy8gd2hlcmUgdGhlcmUgYXJlIG11bHRpcGxlIGFzeW5jaHJvbm91cyBzdGVwcyBhbmQgdGhlIFB5dGhvbiBzaWRlIGlzIGdvaW5nCi8vIHRvIHBvbGwgZm9yIGNvbXBsZXRpb24gb2YgZWFjaCBzdGVwLgovLyBUaGlzIHVzZXMgYSBQcm9taXNlIHRvIGJsb2NrIHRoZSBweXRob24gc2lkZSBvbiBjb21wbGV0aW9uIG9mIGVhY2ggc3RlcCwKLy8gdGhlbiBwYXNzZXMgdGhlIHJlc3VsdCBvZiB0aGUgcHJldmlvdXMgc3RlcCBhcyB0aGUgaW5wdXQgdG8gdGhlIG5leHQgc3RlcC4KZnVuY3Rpb24gX3VwbG9hZEZpbGVzQ29udGludWUob3V0cHV0SWQpIHsKICBjb25zdCBvdXRwdXRFbGVtZW50ID0gZG9jdW1lbnQuZ2V0RWxlbWVudEJ5SWQob3V0cHV0SWQpOwogIGNvbnN0IHN0ZXBzID0gb3V0cHV0RWxlbWVudC5zdGVwczsKCiAgY29uc3QgbmV4dCA9IHN0ZXBzLm5leHQob3V0cHV0RWxlbWVudC5sYXN0UHJvbWlzZVZhbHVlKTsKICByZXR1cm4gUHJvbWlzZS5yZXNvbHZlKG5leHQudmFsdWUucHJvbWlzZSkudGhlbigodmFsdWUpID0+IHsKICAgIC8vIENhY2hlIHRoZSBsYXN0IHByb21pc2UgdmFsdWUgdG8gbWFrZSBpdCBhdmFpbGFibGUgdG8gdGhlIG5leHQKICAgIC8vIHN0ZXAgb2YgdGhlIGdlbmVyYXRvci4KICAgIG91dHB1dEVsZW1lbnQubGFzdFByb21pc2VWYWx1ZSA9IHZhbHVlOwogICAgcmV0dXJuIG5leHQudmFsdWUucmVzcG9uc2U7CiAgfSk7Cn0KCi8qKgogKiBHZW5lcmF0b3IgZnVuY3Rpb24gd2hpY2ggaXMgY2FsbGVkIGJldHdlZW4gZWFjaCBhc3luYyBzdGVwIG9mIHRoZSB1cGxvYWQKICogcHJvY2Vzcy4KICogQHBhcmFtIHtzdHJpbmd9IGlucHV0SWQgRWxlbWVudCBJRCBvZiB0aGUgaW5wdXQgZmlsZSBwaWNrZXIgZWxlbWVudC4KICogQHBhcmFtIHtzdHJpbmd9IG91dHB1dElkIEVsZW1lbnQgSUQgb2YgdGhlIG91dHB1dCBkaXNwbGF5LgogKiBAcmV0dXJuIHshSXRlcmFibGU8IU9iamVjdD59IEl0ZXJhYmxlIG9mIG5leHQgc3RlcHMuCiAqLwpmdW5jdGlvbiogdXBsb2FkRmlsZXNTdGVwKGlucHV0SWQsIG91dHB1dElkKSB7CiAgY29uc3QgaW5wdXRFbGVtZW50ID0gZG9jdW1lbnQuZ2V0RWxlbWVudEJ5SWQoaW5wdXRJZCk7CiAgaW5wdXRFbGVtZW50LmRpc2FibGVkID0gZmFsc2U7CgogIGNvbnN0IG91dHB1dEVsZW1lbnQgPSBkb2N1bWVudC5nZXRFbGVtZW50QnlJZChvdXRwdXRJZCk7CiAgb3V0cHV0RWxlbWVudC5pbm5lckhUTUwgPSAnJzsKCiAgY29uc3QgcGlja2VkUHJvbWlzZSA9IG5ldyBQcm9taXNlKChyZXNvbHZlKSA9PiB7CiAgICBpbnB1dEVsZW1lbnQuYWRkRXZlbnRMaXN0ZW5lcignY2hhbmdlJywgKGUpID0+IHsKICAgICAgcmVzb2x2ZShlLnRhcmdldC5maWxlcyk7CiAgICB9KTsKICB9KTsKCiAgY29uc3QgY2FuY2VsID0gZG9jdW1lbnQuY3JlYXRlRWxlbWVudCgnYnV0dG9uJyk7CiAgaW5wdXRFbGVtZW50LnBhcmVudEVsZW1lbnQuYXBwZW5kQ2hpbGQoY2FuY2VsKTsKICBjYW5jZWwudGV4dENvbnRlbnQgPSAnQ2FuY2VsIHVwbG9hZCc7CiAgY29uc3QgY2FuY2VsUHJvbWlzZSA9IG5ldyBQcm9taXNlKChyZXNvbHZlKSA9PiB7CiAgICBjYW5jZWwub25jbGljayA9ICgpID0+IHsKICAgICAgcmVzb2x2ZShudWxsKTsKICAgIH07CiAgfSk7CgogIC8vIENhbmNlbCB1cGxvYWQgaWYgdXNlciBoYXNuJ3QgcGlja2VkIGFueXRoaW5nIGluIHRpbWVvdXQuCiAgY29uc3QgdGltZW91dFByb21pc2UgPSBuZXcgUHJvbWlzZSgocmVzb2x2ZSkgPT4gewogICAgc2V0VGltZW91dCgoKSA9PiB7CiAgICAgIHJlc29sdmUobnVsbCk7CiAgICB9LCBGSUxFX0NIQU5HRV9USU1FT1VUX01TKTsKICB9KTsKCiAgLy8gV2FpdCBmb3IgdGhlIHVzZXIgdG8gcGljayB0aGUgZmlsZXMuCiAgY29uc3QgZmlsZXMgPSB5aWVsZCB7CiAgICBwcm9taXNlOiBQcm9taXNlLnJhY2UoW3BpY2tlZFByb21pc2UsIHRpbWVvdXRQcm9taXNlLCBjYW5jZWxQcm9taXNlXSksCiAgICByZXNwb25zZTogewogICAgICBhY3Rpb246ICdzdGFydGluZycsCiAgICB9CiAgfTsKCiAgaWYgKCFmaWxlcykgewogICAgcmV0dXJuIHsKICAgICAgcmVzcG9uc2U6IHsKICAgICAgICBhY3Rpb246ICdjb21wbGV0ZScsCiAgICAgIH0KICAgIH07CiAgfQoKICBjYW5jZWwucmVtb3ZlKCk7CgogIC8vIERpc2FibGUgdGhlIGlucHV0IGVsZW1lbnQgc2luY2UgZnVydGhlciBwaWNrcyBhcmUgbm90IGFsbG93ZWQuCiAgaW5wdXRFbGVtZW50LmRpc2FibGVkID0gdHJ1ZTsKCiAgZm9yIChjb25zdCBmaWxlIG9mIGZpbGVzKSB7CiAgICBjb25zdCBsaSA9IGRvY3VtZW50LmNyZWF0ZUVsZW1lbnQoJ2xpJyk7CiAgICBsaS5hcHBlbmQoc3BhbihmaWxlLm5hbWUsIHtmb250V2VpZ2h0OiAnYm9sZCd9KSk7CiAgICBsaS5hcHBlbmQoc3BhbigKICAgICAgICBgKCR7ZmlsZS50eXBlIHx8ICduL2EnfSkgLSAke2ZpbGUuc2l6ZX0gYnl0ZXMsIGAgKwogICAgICAgIGBsYXN0IG1vZGlmaWVkOiAkewogICAgICAgICAgICBmaWxlLmxhc3RNb2RpZmllZERhdGUgPyBmaWxlLmxhc3RNb2RpZmllZERhdGUudG9Mb2NhbGVEYXRlU3RyaW5nKCkgOgogICAgICAgICAgICAgICAgICAgICAgICAgICAgICAgICAgICAnbi9hJ30gLSBgKSk7CiAgICBjb25zdCBwZXJjZW50ID0gc3BhbignMCUgZG9uZScpOwogICAgbGkuYXBwZW5kQ2hpbGQocGVyY2VudCk7CgogICAgb3V0cHV0RWxlbWVudC5hcHBlbmRDaGlsZChsaSk7CgogICAgY29uc3QgZmlsZURhdGFQcm9taXNlID0gbmV3IFByb21pc2UoKHJlc29sdmUpID0+IHsKICAgICAgY29uc3QgcmVhZGVyID0gbmV3IEZpbGVSZWFkZXIoKTsKICAgICAgcmVhZGVyLm9ubG9hZCA9IChlKSA9PiB7CiAgICAgICAgcmVzb2x2ZShlLnRhcmdldC5yZXN1bHQpOwogICAgICB9OwogICAgICByZWFkZXIucmVhZEFzQXJyYXlCdWZmZXIoZmlsZSk7CiAgICB9KTsKICAgIC8vIFdhaXQgZm9yIHRoZSBkYXRhIHRvIGJlIHJlYWR5LgogICAgbGV0IGZpbGVEYXRhID0geWllbGQgewogICAgICBwcm9taXNlOiBmaWxlRGF0YVByb21pc2UsCiAgICAgIHJlc3BvbnNlOiB7CiAgICAgICAgYWN0aW9uOiAnY29udGludWUnLAogICAgICB9CiAgICB9OwoKICAgIC8vIFVzZSBhIGNodW5rZWQgc2VuZGluZyB0byBhdm9pZCBtZXNzYWdlIHNpemUgbGltaXRzLiBTZWUgYi82MjExNTY2MC4KICAgIGxldCBwb3NpdGlvbiA9IDA7CiAgICB3aGlsZSAocG9zaXRpb24gPCBmaWxlRGF0YS5ieXRlTGVuZ3RoKSB7CiAgICAgIGNvbnN0IGxlbmd0aCA9IE1hdGgubWluKGZpbGVEYXRhLmJ5dGVMZW5ndGggLSBwb3NpdGlvbiwgTUFYX1BBWUxPQURfU0laRSk7CiAgICAgIGNvbnN0IGNodW5rID0gbmV3IFVpbnQ4QXJyYXkoZmlsZURhdGEsIHBvc2l0aW9uLCBsZW5ndGgpOwogICAgICBwb3NpdGlvbiArPSBsZW5ndGg7CgogICAgICBjb25zdCBiYXNlNjQgPSBidG9hKFN0cmluZy5mcm9tQ2hhckNvZGUuYXBwbHkobnVsbCwgY2h1bmspKTsKICAgICAgeWllbGQgewogICAgICAgIHJlc3BvbnNlOiB7CiAgICAgICAgICBhY3Rpb246ICdhcHBlbmQnLAogICAgICAgICAgZmlsZTogZmlsZS5uYW1lLAogICAgICAgICAgZGF0YTogYmFzZTY0LAogICAgICAgIH0sCiAgICAgIH07CiAgICAgIHBlcmNlbnQudGV4dENvbnRlbnQgPQogICAgICAgICAgYCR7TWF0aC5yb3VuZCgocG9zaXRpb24gLyBmaWxlRGF0YS5ieXRlTGVuZ3RoKSAqIDEwMCl9JSBkb25lYDsKICAgIH0KICB9CgogIC8vIEFsbCBkb25lLgogIHlpZWxkIHsKICAgIHJlc3BvbnNlOiB7CiAgICAgIGFjdGlvbjogJ2NvbXBsZXRlJywKICAgIH0KICB9Owp9CgpzY29wZS5nb29nbGUgPSBzY29wZS5nb29nbGUgfHwge307CnNjb3BlLmdvb2dsZS5jb2xhYiA9IHNjb3BlLmdvb2dsZS5jb2xhYiB8fCB7fTsKc2NvcGUuZ29vZ2xlLmNvbGFiLl9maWxlcyA9IHsKICBfdXBsb2FkRmlsZXMsCiAgX3VwbG9hZEZpbGVzQ29udGludWUsCn07Cn0pKHNlbGYpOwo=",
       "headers": [
        [
         "content-type",
         "application/javascript"
        ]
       ],
       "ok": true,
       "status": 200,
       "status_text": "OK"
      }
     }
    },
    "colab_type": "code",
    "id": "MVlEPnzKtFxo",
    "outputId": "4c42271c-0715-4cb3-f177-4dafd547e777"
   },
   "outputs": [
    {
     "data": {
      "text/html": [
       "\n",
       "     <input type=\"file\" id=\"files-a10a3884-cdcd-41b0-ac6f-2b2d4e948e4b\" name=\"files[]\" multiple disabled />\n",
       "     <output id=\"result-a10a3884-cdcd-41b0-ac6f-2b2d4e948e4b\">\n",
       "      Upload widget is only available when the cell has been executed in the\n",
       "      current browser session. Please rerun this cell to enable.\n",
       "      </output>\n",
       "      <script src=\"/nbextensions/google.colab/files.js\"></script> "
      ],
      "text/plain": [
       "<IPython.core.display.HTML object>"
      ]
     },
     "metadata": {
      "tags": []
     },
     "output_type": "display_data"
    },
    {
     "name": "stdout",
     "output_type": "stream",
     "text": [
      "Saving ConversionDataSet.csv to ConversionDataSet.csv\n",
      "User uploaded file \"ConversionDataSet.csv\" with length 17702604 bytes\n"
     ]
    }
   ],
   "source": [
    "from google.colab import files\n",
    "\n",
    "uploaded = files.upload()\n",
    "\n",
    "for fn in uploaded.keys():\n",
    "  print('User uploaded file \"{name}\" with length {length} bytes'.format(\n",
    "      name=fn, length=len(uploaded[fn])))\n",
    "  \n",
    "  df = pd.read_csv(io.BytesIO(uploaded['ConversionDataSet.csv'])) # Save data in pandas data frame"
   ]
  },
  {
   "cell_type": "code",
   "execution_count": null,
   "metadata": {
    "colab": {},
    "colab_type": "code",
    "id": "VkZECQ9DiZ3o"
   },
   "outputs": [],
   "source": [
    "df = pd.read_csv('ConversionDataSet.csv') #if session crashes and data was already uploaded"
   ]
  },
  {
   "cell_type": "code",
   "execution_count": 4,
   "metadata": {
    "colab": {
     "base_uri": "https://localhost:8080/",
     "height": 210
    },
    "colab_type": "code",
    "id": "7hTZZDYCu-R7",
    "outputId": "a6ee3ef0-ee64-400c-f6ee-266c2dfdc142"
   },
   "outputs": [
    {
     "data": {
      "text/html": [
       "<div>\n",
       "<style scoped>\n",
       "    .dataframe tbody tr th:only-of-type {\n",
       "        vertical-align: middle;\n",
       "    }\n",
       "\n",
       "    .dataframe tbody tr th {\n",
       "        vertical-align: top;\n",
       "    }\n",
       "\n",
       "    .dataframe thead th {\n",
       "        text-align: right;\n",
       "    }\n",
       "</style>\n",
       "<table border=\"1\" class=\"dataframe\">\n",
       "  <thead>\n",
       "    <tr style=\"text-align: right;\">\n",
       "      <th></th>\n",
       "      <th>Unnamed: 0</th>\n",
       "      <th>month</th>\n",
       "      <th>Kauf</th>\n",
       "      <th>sessionStartHour</th>\n",
       "      <th>dayOfMonth</th>\n",
       "      <th>weekday</th>\n",
       "      <th>sessionTime</th>\n",
       "      <th>category</th>\n",
       "      <th>pageVisitedBeforeSession</th>\n",
       "      <th>amountBasketSession</th>\n",
       "      <th>totalItemValueBasketSession</th>\n",
       "      <th>sessionProduct</th>\n",
       "      <th>sessionSearch</th>\n",
       "      <th>sessionOverview</th>\n",
       "      <th>sessionSale</th>\n",
       "      <th>sessionCart</th>\n",
       "      <th>percPageProduct</th>\n",
       "      <th>percPageSearch</th>\n",
       "      <th>percPageOverview</th>\n",
       "      <th>percPageSale</th>\n",
       "      <th>percPageCart</th>\n",
       "      <th>countPagesRevisited</th>\n",
       "      <th>timeOnPage</th>\n",
       "      <th>checkoutStep</th>\n",
       "      <th>clickEventsSession</th>\n",
       "      <th>scrollEventSession</th>\n",
       "      <th>tabSwitchSession</th>\n",
       "      <th>clickEventProduct</th>\n",
       "      <th>scrollEventProduct</th>\n",
       "      <th>tabSwitchProduct</th>\n",
       "      <th>clickEventSearch</th>\n",
       "      <th>scrollEventSearch</th>\n",
       "      <th>tabSwitchSearch</th>\n",
       "      <th>clickEventOverview</th>\n",
       "      <th>scrollEventOverview</th>\n",
       "      <th>tabSwitchOverview</th>\n",
       "      <th>clickEventSale</th>\n",
       "      <th>scrollEventSale</th>\n",
       "      <th>tabswitchSale</th>\n",
       "      <th>clickEventCart</th>\n",
       "      <th>...</th>\n",
       "      <th>recencyVisit</th>\n",
       "      <th>countPagesRevisitedLastSession</th>\n",
       "      <th>currentPageVisitedLastTime</th>\n",
       "      <th>frequencyVisit</th>\n",
       "      <th>totViewCount</th>\n",
       "      <th>totVisitTime</th>\n",
       "      <th>totPurchasesAmount</th>\n",
       "      <th>totPurchasesItems</th>\n",
       "      <th>totProduct</th>\n",
       "      <th>totSearch</th>\n",
       "      <th>totOverview</th>\n",
       "      <th>totSale</th>\n",
       "      <th>totCart</th>\n",
       "      <th>totPercPageOverview</th>\n",
       "      <th>totPercPageProduct</th>\n",
       "      <th>totPercPageSearch</th>\n",
       "      <th>totPercPageSale</th>\n",
       "      <th>totPercPageCart</th>\n",
       "      <th>convertedBefore</th>\n",
       "      <th>hurry</th>\n",
       "      <th>currentViewCountVsPreviousAvg</th>\n",
       "      <th>currentVisitLengthVsAvg</th>\n",
       "      <th>meanRecencyVisit</th>\n",
       "      <th>pageProductrVisit</th>\n",
       "      <th>pageSearchrVisit</th>\n",
       "      <th>pageOverviewrVisit</th>\n",
       "      <th>pageSalerVisit</th>\n",
       "      <th>pageCartrVisit</th>\n",
       "      <th>purchasesrVisit</th>\n",
       "      <th>browser</th>\n",
       "      <th>browserVersion</th>\n",
       "      <th>operatingSystem</th>\n",
       "      <th>operatingSystemVersion</th>\n",
       "      <th>majorCity</th>\n",
       "      <th>screenWidth</th>\n",
       "      <th>screenHeight</th>\n",
       "      <th>windowWidth</th>\n",
       "      <th>windowHeight</th>\n",
       "      <th>tabVisible</th>\n",
       "      <th>visitorKnown</th>\n",
       "    </tr>\n",
       "  </thead>\n",
       "  <tbody>\n",
       "    <tr>\n",
       "      <th>0</th>\n",
       "      <td>4</td>\n",
       "      <td>8</td>\n",
       "      <td>0</td>\n",
       "      <td>21</td>\n",
       "      <td>1</td>\n",
       "      <td>6</td>\n",
       "      <td>20</td>\n",
       "      <td>overview</td>\n",
       "      <td>0</td>\n",
       "      <td>0.0</td>\n",
       "      <td>0</td>\n",
       "      <td>0</td>\n",
       "      <td>0</td>\n",
       "      <td>1</td>\n",
       "      <td>1</td>\n",
       "      <td>0</td>\n",
       "      <td>0.0</td>\n",
       "      <td>0.00</td>\n",
       "      <td>0.33</td>\n",
       "      <td>0.33</td>\n",
       "      <td>0.0</td>\n",
       "      <td>0</td>\n",
       "      <td>6</td>\n",
       "      <td>0</td>\n",
       "      <td>3</td>\n",
       "      <td>0</td>\n",
       "      <td>0</td>\n",
       "      <td>0.0</td>\n",
       "      <td>0.0</td>\n",
       "      <td>0.0</td>\n",
       "      <td>0.000000</td>\n",
       "      <td>0.000000</td>\n",
       "      <td>0.000000</td>\n",
       "      <td>0.333333</td>\n",
       "      <td>0.0</td>\n",
       "      <td>0.0</td>\n",
       "      <td>0.5</td>\n",
       "      <td>0.0</td>\n",
       "      <td>0.0</td>\n",
       "      <td>0.0</td>\n",
       "      <td>...</td>\n",
       "      <td>-1</td>\n",
       "      <td>0</td>\n",
       "      <td>0</td>\n",
       "      <td>0</td>\n",
       "      <td>3</td>\n",
       "      <td>20</td>\n",
       "      <td>0.0</td>\n",
       "      <td>0</td>\n",
       "      <td>0</td>\n",
       "      <td>0</td>\n",
       "      <td>1</td>\n",
       "      <td>1</td>\n",
       "      <td>0</td>\n",
       "      <td>0.0</td>\n",
       "      <td>0.00</td>\n",
       "      <td>0.33</td>\n",
       "      <td>0.33</td>\n",
       "      <td>0.0</td>\n",
       "      <td>0</td>\n",
       "      <td>0</td>\n",
       "      <td>1.0</td>\n",
       "      <td>1.0</td>\n",
       "      <td>-1.0</td>\n",
       "      <td>0.0</td>\n",
       "      <td>0.0</td>\n",
       "      <td>0.0</td>\n",
       "      <td>0.0</td>\n",
       "      <td>0.0</td>\n",
       "      <td>0.0</td>\n",
       "      <td>IE</td>\n",
       "      <td>1</td>\n",
       "      <td>Windows 7</td>\n",
       "      <td>1</td>\n",
       "      <td>0</td>\n",
       "      <td>1280</td>\n",
       "      <td>1024</td>\n",
       "      <td>1280</td>\n",
       "      <td>844</td>\n",
       "      <td>1</td>\n",
       "      <td>0</td>\n",
       "    </tr>\n",
       "    <tr>\n",
       "      <th>1</th>\n",
       "      <td>14</td>\n",
       "      <td>8</td>\n",
       "      <td>0</td>\n",
       "      <td>0</td>\n",
       "      <td>1</td>\n",
       "      <td>6</td>\n",
       "      <td>85</td>\n",
       "      <td>search</td>\n",
       "      <td>1</td>\n",
       "      <td>0.0</td>\n",
       "      <td>0</td>\n",
       "      <td>0</td>\n",
       "      <td>2</td>\n",
       "      <td>0</td>\n",
       "      <td>0</td>\n",
       "      <td>0</td>\n",
       "      <td>0.0</td>\n",
       "      <td>0.67</td>\n",
       "      <td>0.00</td>\n",
       "      <td>0.00</td>\n",
       "      <td>0.0</td>\n",
       "      <td>1</td>\n",
       "      <td>34</td>\n",
       "      <td>0</td>\n",
       "      <td>5</td>\n",
       "      <td>10</td>\n",
       "      <td>3</td>\n",
       "      <td>0.0</td>\n",
       "      <td>0.0</td>\n",
       "      <td>0.0</td>\n",
       "      <td>0.266667</td>\n",
       "      <td>0.112741</td>\n",
       "      <td>0.703125</td>\n",
       "      <td>0.000000</td>\n",
       "      <td>0.0</td>\n",
       "      <td>0.0</td>\n",
       "      <td>0.0</td>\n",
       "      <td>0.0</td>\n",
       "      <td>0.0</td>\n",
       "      <td>0.0</td>\n",
       "      <td>...</td>\n",
       "      <td>-1</td>\n",
       "      <td>0</td>\n",
       "      <td>0</td>\n",
       "      <td>0</td>\n",
       "      <td>3</td>\n",
       "      <td>85</td>\n",
       "      <td>0.0</td>\n",
       "      <td>0</td>\n",
       "      <td>0</td>\n",
       "      <td>2</td>\n",
       "      <td>0</td>\n",
       "      <td>0</td>\n",
       "      <td>0</td>\n",
       "      <td>0.0</td>\n",
       "      <td>0.67</td>\n",
       "      <td>0.00</td>\n",
       "      <td>0.00</td>\n",
       "      <td>0.0</td>\n",
       "      <td>0</td>\n",
       "      <td>0</td>\n",
       "      <td>1.0</td>\n",
       "      <td>1.0</td>\n",
       "      <td>-1.0</td>\n",
       "      <td>0.0</td>\n",
       "      <td>0.0</td>\n",
       "      <td>0.0</td>\n",
       "      <td>0.0</td>\n",
       "      <td>0.0</td>\n",
       "      <td>0.0</td>\n",
       "      <td>Firefox</td>\n",
       "      <td>2</td>\n",
       "      <td>Windows 8</td>\n",
       "      <td>1</td>\n",
       "      <td>0</td>\n",
       "      <td>1366</td>\n",
       "      <td>768</td>\n",
       "      <td>1339</td>\n",
       "      <td>634</td>\n",
       "      <td>1</td>\n",
       "      <td>1</td>\n",
       "    </tr>\n",
       "    <tr>\n",
       "      <th>2</th>\n",
       "      <td>51</td>\n",
       "      <td>8</td>\n",
       "      <td>0</td>\n",
       "      <td>10</td>\n",
       "      <td>1</td>\n",
       "      <td>6</td>\n",
       "      <td>23</td>\n",
       "      <td>overview</td>\n",
       "      <td>0</td>\n",
       "      <td>0.0</td>\n",
       "      <td>0</td>\n",
       "      <td>0</td>\n",
       "      <td>0</td>\n",
       "      <td>2</td>\n",
       "      <td>0</td>\n",
       "      <td>0</td>\n",
       "      <td>0.0</td>\n",
       "      <td>0.00</td>\n",
       "      <td>0.67</td>\n",
       "      <td>0.00</td>\n",
       "      <td>0.0</td>\n",
       "      <td>0</td>\n",
       "      <td>4</td>\n",
       "      <td>0</td>\n",
       "      <td>3</td>\n",
       "      <td>2</td>\n",
       "      <td>0</td>\n",
       "      <td>0.0</td>\n",
       "      <td>0.0</td>\n",
       "      <td>0.0</td>\n",
       "      <td>0.000000</td>\n",
       "      <td>0.000000</td>\n",
       "      <td>0.000000</td>\n",
       "      <td>0.500000</td>\n",
       "      <td>0.5</td>\n",
       "      <td>0.0</td>\n",
       "      <td>0.0</td>\n",
       "      <td>0.0</td>\n",
       "      <td>0.0</td>\n",
       "      <td>0.0</td>\n",
       "      <td>...</td>\n",
       "      <td>-1</td>\n",
       "      <td>0</td>\n",
       "      <td>0</td>\n",
       "      <td>0</td>\n",
       "      <td>3</td>\n",
       "      <td>23</td>\n",
       "      <td>0.0</td>\n",
       "      <td>0</td>\n",
       "      <td>0</td>\n",
       "      <td>0</td>\n",
       "      <td>2</td>\n",
       "      <td>0</td>\n",
       "      <td>0</td>\n",
       "      <td>0.0</td>\n",
       "      <td>0.00</td>\n",
       "      <td>0.67</td>\n",
       "      <td>0.00</td>\n",
       "      <td>0.0</td>\n",
       "      <td>0</td>\n",
       "      <td>0</td>\n",
       "      <td>1.0</td>\n",
       "      <td>1.0</td>\n",
       "      <td>-1.0</td>\n",
       "      <td>0.0</td>\n",
       "      <td>0.0</td>\n",
       "      <td>0.0</td>\n",
       "      <td>0.0</td>\n",
       "      <td>0.0</td>\n",
       "      <td>0.0</td>\n",
       "      <td>Chrome</td>\n",
       "      <td>2</td>\n",
       "      <td>Windows 8.1</td>\n",
       "      <td>1</td>\n",
       "      <td>0</td>\n",
       "      <td>1600</td>\n",
       "      <td>900</td>\n",
       "      <td>1600</td>\n",
       "      <td>799</td>\n",
       "      <td>1</td>\n",
       "      <td>1</td>\n",
       "    </tr>\n",
       "  </tbody>\n",
       "</table>\n",
       "<p>3 rows × 97 columns</p>\n",
       "</div>"
      ],
      "text/plain": [
       "   Unnamed: 0  month  Kauf  ...  windowHeight  tabVisible  visitorKnown\n",
       "0           4      8     0  ...           844           1             0\n",
       "1          14      8     0  ...           634           1             1\n",
       "2          51      8     0  ...           799           1             1\n",
       "\n",
       "[3 rows x 97 columns]"
      ]
     },
     "execution_count": 4,
     "metadata": {
      "tags": []
     },
     "output_type": "execute_result"
    }
   ],
   "source": [
    "df.head(3)"
   ]
  },
  {
   "cell_type": "markdown",
   "metadata": {
    "colab_type": "text",
    "id": "CLScGZ06aeFi"
   },
   "source": [
    "Separate the dataset into the predictors X and target y"
   ]
  },
  {
   "cell_type": "code",
   "execution_count": null,
   "metadata": {
    "colab": {},
    "colab_type": "code",
    "id": "RGg1I7d8xPPn"
   },
   "outputs": [],
   "source": [
    "X = df.drop(['Kauf', 'Unnamed: 0'], axis=1)\n",
    "y = df[\"Kauf\"]"
   ]
  },
  {
   "cell_type": "markdown",
   "metadata": {
    "colab_type": "text",
    "id": "vJ5GhdknY41N"
   },
   "source": [
    "## Data Analysis and Preprocessing"
   ]
  },
  {
   "cell_type": "markdown",
   "metadata": {
    "colab_type": "text",
    "id": "QdLiKiXpCsHi"
   },
   "source": [
    "In the following section we will explore the data set and get familiar with some main aspects that might be important for building our neural network later on. "
   ]
  },
  {
   "cell_type": "code",
   "execution_count": 6,
   "metadata": {
    "colab": {
     "base_uri": "https://localhost:8080/",
     "height": 313
    },
    "colab_type": "code",
    "id": "WQuTFC3x-j3y",
    "outputId": "ee729652-bf3b-4832-f568-d08f74c56361"
   },
   "outputs": [
    {
     "data": {
      "text/plain": [
       "<matplotlib.axes._subplots.AxesSubplot at 0x7f7fcd488080>"
      ]
     },
     "execution_count": 6,
     "metadata": {
      "tags": []
     },
     "output_type": "execute_result"
    },
    {
     "data": {
      "image/png": "[encoded data removed]",
      "text/plain": [
       "<Figure size 432x288 with 1 Axes>"
      ]
     },
     "metadata": {
      "tags": []
     },
     "output_type": "display_data"
    }
   ],
   "source": [
    "plt.title(\"Total observations of binary variable 'Kauf'\") \n",
    "sns.countplot(y=\"Kauf\", data=df,\n",
    " palette=\"Greens_d\")"
   ]
  },
  {
   "cell_type": "code",
   "execution_count": 8,
   "metadata": {
    "colab": {
     "base_uri": "https://localhost:8080/",
     "height": 158
    },
    "colab_type": "code",
    "id": "agyLJbW9v671",
    "outputId": "3f390267-b52b-4665-d901-11a5c04cb1dd"
   },
   "outputs": [
    {
     "name": "stdout",
     "output_type": "stream",
     "text": [
      "Kauf\n",
      "0    47237\n",
      "1     4112\n",
      "dtype: int64\n",
      "\n",
      "\n",
      "Shape of X:  (51349, 95)\n",
      "Shape of y:  (51349,)\n"
     ]
    }
   ],
   "source": [
    "class_counts = df.groupby('Kauf').size()\n",
    "print(class_counts)\n",
    "print(\"\\n\")\n",
    "print('Shape of X: ', X.shape)\n",
    "print('Shape of y: ', y.shape)\n",
    "#print('Only', round(100*y.mean(),2), 'percent of clients bought something during this specific session."
   ]
  },
  {
   "cell_type": "markdown",
   "metadata": {
    "colab_type": "text",
    "id": "T3-ED2h3ALT6"
   },
   "source": [
    "As only 8.01 %  of the clients have bought something (also illustrated in the first chart), we are dealing with an unbalanced data set. With regard to the set up of the neural network this is a particularly interesting point to keep in mind. \n",
    "\n",
    "\n",
    "---\n",
    "\n"
   ]
  },
  {
   "cell_type": "code",
   "execution_count": 9,
   "metadata": {
    "colab": {
     "base_uri": "https://localhost:8080/",
     "height": 1106
    },
    "colab_type": "code",
    "id": "F5b5xjCZfBME",
    "outputId": "ca6d6884-12e9-486f-f4f8-1e970a017e14"
   },
   "outputs": [
    {
     "data": {
      "text/plain": [
       "Unnamed: 0                       False\n",
       "month                            False\n",
       "Kauf                             False\n",
       "sessionStartHour                 False\n",
       "dayOfMonth                       False\n",
       "weekday                          False\n",
       "sessionTime                      False\n",
       "category                         False\n",
       "pageVisitedBeforeSession         False\n",
       "amountBasketSession              False\n",
       "totalItemValueBasketSession      False\n",
       "sessionProduct                   False\n",
       "sessionSearch                    False\n",
       "sessionOverview                  False\n",
       "sessionSale                      False\n",
       "sessionCart                      False\n",
       "percPageProduct                  False\n",
       "percPageSearch                   False\n",
       "percPageOverview                 False\n",
       "percPageSale                     False\n",
       "percPageCart                     False\n",
       "countPagesRevisited              False\n",
       "timeOnPage                       False\n",
       "checkoutStep                     False\n",
       "clickEventsSession               False\n",
       "scrollEventSession               False\n",
       "tabSwitchSession                 False\n",
       "clickEventProduct                False\n",
       "scrollEventProduct               False\n",
       "tabSwitchProduct                 False\n",
       "                                 ...  \n",
       "totOverview                      False\n",
       "totSale                          False\n",
       "totCart                          False\n",
       "totPercPageOverview              False\n",
       "totPercPageProduct               False\n",
       "totPercPageSearch                False\n",
       "totPercPageSale                  False\n",
       "totPercPageCart                  False\n",
       "convertedBefore                  False\n",
       "hurry                            False\n",
       "currentViewCountVsPreviousAvg    False\n",
       "currentVisitLengthVsAvg          False\n",
       "meanRecencyVisit                 False\n",
       "pageProductrVisit                False\n",
       "pageSearchrVisit                 False\n",
       "pageOverviewrVisit               False\n",
       "pageSalerVisit                   False\n",
       "pageCartrVisit                   False\n",
       "purchasesrVisit                  False\n",
       "browser                          False\n",
       "browserVersion                   False\n",
       "operatingSystem                  False\n",
       "operatingSystemVersion           False\n",
       "majorCity                        False\n",
       "screenWidth                      False\n",
       "screenHeight                     False\n",
       "windowWidth                      False\n",
       "windowHeight                     False\n",
       "tabVisible                       False\n",
       "visitorKnown                     False\n",
       "Length: 97, dtype: bool"
      ]
     },
     "execution_count": 9,
     "metadata": {
      "tags": []
     },
     "output_type": "execute_result"
    }
   ],
   "source": [
    "pd.isnull(df).any() # No Null values can be found"
   ]
  },
  {
   "cell_type": "code",
   "execution_count": null,
   "metadata": {
    "colab": {},
    "colab_type": "code",
    "id": "IpXJsEPCDNHG"
   },
   "outputs": [],
   "source": [
    "df.dtypes #Checking data types "
   ]
  },
  {
   "cell_type": "markdown",
   "metadata": {
    "colab_type": "text",
    "id": "ciDhH6M68JOC"
   },
   "source": [
    "\n",
    "\n",
    "---\n",
    "\n",
    "\n",
    "If we have a closer look at the customers concerning their total view count we can interestingly state that customers who did purchase in the given period have a slightly lower total view count. Those who already bought something have about twice as much view counts in average but again customers who did purchase in the given period have a slightly lower total view count. \n",
    "\n",
    "\n"
   ]
  },
  {
   "cell_type": "code",
   "execution_count": null,
   "metadata": {
    "colab": {},
    "colab_type": "code",
    "id": "FgOXYlEbfP-g"
   },
   "outputs": [],
   "source": [
    "print(df['convertedBefore'].value_counts()) # 8263 of 43086 clients have converted before\n",
    "print(df['totPurchasesAmount'].describe()) # Average total purchase amount during all sessions is 11.4\n",
    "print(df['totPurchasesItems'].value_counts()) # 47031 have a total of 0 purchased items during all sessions\n"
   ]
  },
  {
   "cell_type": "code",
   "execution_count": null,
   "metadata": {
    "colab": {},
    "colab_type": "code",
    "id": "Srep26XP7ULp"
   },
   "outputs": [],
   "source": [
    "g = sns.catplot(x=\"convertedBefore\", y=\"totViewCount\", hue=\"Kauf\", data=df,\n",
    "                 kind=\"bar\", palette=\"muted\")"
   ]
  },
  {
   "cell_type": "code",
   "execution_count": null,
   "metadata": {
    "colab": {
     "base_uri": "https://localhost:8080/",
     "height": 308
    },
    "colab_type": "code",
    "id": "wBj_8voKA7Yx",
    "outputId": "86e4ea68-0445-4417-dccf-7886846e9c65"
   },
   "outputs": [
    {
     "data": {
      "text/plain": [
       "<matplotlib.axes._subplots.AxesSubplot at 0x7fd67c3fbbe0>"
      ]
     },
     "execution_count": 72,
     "metadata": {
      "tags": []
     },
     "output_type": "execute_result"
    },
    {
     "data": {
      "image/png": "[encoded data removed]",
      "text/plain": [
       "<Figure size 432x288 with 1 Axes>"
      ]
     },
     "metadata": {
      "tags": []
     },
     "output_type": "display_data"
    }
   ],
   "source": [
    "sns.countplot(y=\"totPurchasesItems\", data=df,\n",
    " palette=\"Greens_d\")"
   ]
  },
  {
   "cell_type": "code",
   "execution_count": 13,
   "metadata": {
    "colab": {
     "base_uri": "https://localhost:8080/",
     "height": 287
    },
    "colab_type": "code",
    "id": "_j41ltY04i5f",
    "outputId": "91a9b315-58a1-4eae-d12e-2c6dabfc5387"
   },
   "outputs": [
    {
     "data": {
      "text/plain": [
       "<matplotlib.axes._subplots.AxesSubplot at 0x7f7fcd413400>"
      ]
     },
     "execution_count": 13,
     "metadata": {
      "tags": []
     },
     "output_type": "execute_result"
    },
    {
     "data": {
      "image/png": "[encoded data removed]",
      "text/plain": [
       "<Figure size 432x288 with 1 Axes>"
      ]
     },
     "metadata": {
      "tags": []
     },
     "output_type": "display_data"
    }
   ],
   "source": [
    "df['timeSpentOnProduct'].plot(kind=\"hist\") #Frequency of relative amount of time on pages of type 'product'"
   ]
  },
  {
   "cell_type": "code",
   "execution_count": null,
   "metadata": {
    "colab": {
     "base_uri": "https://localhost:8080/",
     "height": 296
    },
    "colab_type": "code",
    "id": "LkZHVTsm6euG",
    "outputId": "ab94fb5e-5175-4cc1-8e86-5a117b37bba8"
   },
   "outputs": [
    {
     "data": {
      "text/plain": [
       "<matplotlib.axes._subplots.AxesSubplot at 0x7fd679949748>"
      ]
     },
     "execution_count": 40,
     "metadata": {
      "tags": []
     },
     "output_type": "execute_result"
    },
    {
     "data": {
      "image/png": "[encoded data removed]",
      "text/plain": [
       "<Figure size 432x288 with 1 Axes>"
      ]
     },
     "metadata": {
      "tags": []
     },
     "output_type": "display_data"
    }
   ],
   "source": [
    "df.groupby(['weekday']).sum()['Kauf'].plot.bar() # Number of 'Kauf' events per weekday"
   ]
  },
  {
   "cell_type": "markdown",
   "metadata": {
    "colab_type": "text",
    "id": "0OYGDNd-CMA2"
   },
   "source": [
    "The chart above illustrates that the total number of sales is decreasing after weekday 1 whereas it is increasing from weekday 0 to 1."
   ]
  },
  {
   "cell_type": "markdown",
   "metadata": {
    "colab_type": "text",
    "id": "D138NYJ02n_T"
   },
   "source": [
    "\n",
    "\n",
    "---\n",
    "\n",
    "\n",
    "As we can see in the follwing two charts, there are slightly more sales made in month 9 on weekday 2 but in contrast to that\n",
    "the total number of purchased items is slightly higher in month 8 on weekday 4 and 5. Note that the numbers refer to an overall average across the whole dataset. "
   ]
  },
  {
   "cell_type": "code",
   "execution_count": 15,
   "metadata": {
    "colab": {
     "base_uri": "https://localhost:8080/",
     "height": 301
    },
    "colab_type": "code",
    "id": "awhb8T6embN9",
    "outputId": "98445f80-2e43-4d7d-c7f2-788427687be4"
   },
   "outputs": [
    {
     "data": {
      "text/plain": [
       "<matplotlib.axes._subplots.AxesSubplot at 0x7f7fca7f8ba8>"
      ]
     },
     "execution_count": 15,
     "metadata": {
      "tags": []
     },
     "output_type": "execute_result"
    },
    {
     "data": {
      "image/png": "[encoded data removed]",
      "text/plain": [
       "<Figure size 432x288 with 2 Axes>"
      ]
     },
     "metadata": {
      "tags": []
     },
     "output_type": "display_data"
    }
   ],
   "source": [
    "df1 = df[['weekday','month','Kauf']]\n",
    "heat_data = pd.pivot_table(df1, values='Kauf', \n",
    "                     index=['weekday'], \n",
    "                     columns='month')\n",
    "sns.heatmap(heat_data, cmap=\"YlGnBu\",annot=True)"
   ]
  },
  {
   "cell_type": "code",
   "execution_count": 16,
   "metadata": {
    "colab": {
     "base_uri": "https://localhost:8080/",
     "height": 301
    },
    "colab_type": "code",
    "id": "HRvjpW3ro1N5",
    "outputId": "15d34bdd-62b5-4822-d963-6e14eeef2486"
   },
   "outputs": [
    {
     "data": {
      "text/plain": [
       "<matplotlib.axes._subplots.AxesSubplot at 0x7f7fcaaec518>"
      ]
     },
     "execution_count": 16,
     "metadata": {
      "tags": []
     },
     "output_type": "execute_result"
    },
    {
     "data": {
      "image/png": "[encoded data removed]",
      "text/plain": [
       "<Figure size 432x288 with 2 Axes>"
      ]
     },
     "metadata": {
      "tags": []
     },
     "output_type": "display_data"
    }
   ],
   "source": [
    "df2 = df[['weekday','month','totPurchasesItems']]\n",
    "heat_data2 = pd.pivot_table(df2, values='totPurchasesItems', \n",
    "                     index=['weekday'], \n",
    "                     columns='month')\n",
    "sns.heatmap(heat_data2, cmap=\"YlGnBu\",annot=True)\n"
   ]
  },
  {
   "cell_type": "code",
   "execution_count": 17,
   "metadata": {
    "colab": {
     "base_uri": "https://localhost:8080/",
     "height": 369
    },
    "colab_type": "code",
    "id": "nidG4uxiYyt5",
    "outputId": "d3f616b1-bd65-4eb0-d034-d3e341ee94be"
   },
   "outputs": [
    {
     "data": {
      "image/png": "[encoded data removed]",
      "text/plain": [
       "<Figure size 360x360 with 1 Axes>"
      ]
     },
     "metadata": {
      "tags": []
     },
     "output_type": "display_data"
    }
   ],
   "source": [
    "sns.catplot(x=\"weekday\", y=\"totPurchasesItems\", data=df);\n",
    "#The number of total items purchased has "
   ]
  },
  {
   "cell_type": "markdown",
   "metadata": {
    "colab_type": "text",
    "id": "_cleRT0qEBw0"
   },
   "source": [
    "The next chart tells us, that most of the views are made in average on the account category throughtout the whole week. The imbalanced nature of the data can also be recognised here, as there are the fewest view counts in avergae on the checkout page. Due to the fact that the checkout is the last step in the sales funnel this also seems to be a trivial fact. "
   ]
  },
  {
   "cell_type": "code",
   "execution_count": 18,
   "metadata": {
    "colab": {
     "base_uri": "https://localhost:8080/",
     "height": 336
    },
    "colab_type": "code",
    "id": "16y_X0ftpK87",
    "outputId": "ad874dd9-9d24-44bb-bcae-4b4139b18e53"
   },
   "outputs": [
    {
     "data": {
      "text/plain": [
       "<matplotlib.axes._subplots.AxesSubplot at 0x7f7fc96a3d30>"
      ]
     },
     "execution_count": 18,
     "metadata": {
      "tags": []
     },
     "output_type": "execute_result"
    },
    {
     "data": {
      "image/png": "[encoded data removed]",
      "text/plain": [
       "<Figure size 432x288 with 2 Axes>"
      ]
     },
     "metadata": {
      "tags": []
     },
     "output_type": "display_data"
    }
   ],
   "source": [
    "df3 = df[['weekday','category','totViewCount']]\n",
    "heat_data3 = pd.pivot_table(df3, values='totViewCount', \n",
    "                     index=['weekday'], \n",
    "                     columns='category')\n",
    "sns.heatmap(heat_data3, cmap=\"YlGnBu\")"
   ]
  },
  {
   "cell_type": "code",
   "execution_count": 19,
   "metadata": {
    "colab": {
     "base_uri": "https://localhost:8080/",
     "height": 297
    },
    "colab_type": "code",
    "id": "uX3yCwNw-S_i",
    "outputId": "ed222127-ab64-48a9-b7cb-57f3796d4e4a"
   },
   "outputs": [
    {
     "data": {
      "text/plain": [
       "<matplotlib.axes._subplots.AxesSubplot at 0x7f7fc96b9d68>"
      ]
     },
     "execution_count": 19,
     "metadata": {
      "tags": []
     },
     "output_type": "execute_result"
    },
    {
     "data": {
      "image/png": "[encoded data removed]",
      "text/plain": [
       "<Figure size 432x288 with 1 Axes>"
      ]
     },
     "metadata": {
      "tags": []
     },
     "output_type": "display_data"
    }
   ],
   "source": [
    "df.groupby(['Kauf']).mean()['timeOnPage'].plot(kind='bar') # Average time on page for Kauf and no Kauf does not vary much"
   ]
  },
  {
   "cell_type": "code",
   "execution_count": 20,
   "metadata": {
    "colab": {
     "base_uri": "https://localhost:8080/",
     "height": 297
    },
    "colab_type": "code",
    "id": "nDDk00DeCmp2",
    "outputId": "d1fd413c-31a1-4de0-9f28-4a27c18b7ce4"
   },
   "outputs": [
    {
     "data": {
      "text/plain": [
       "<matplotlib.axes._subplots.AxesSubplot at 0x7f7fc96ca940>"
      ]
     },
     "execution_count": 20,
     "metadata": {
      "tags": []
     },
     "output_type": "execute_result"
    },
    {
     "data": {
      "image/png": "[encoded data removed]",
      "text/plain": [
       "<Figure size 432x288 with 1 Axes>"
      ]
     },
     "metadata": {
      "tags": []
     },
     "output_type": "display_data"
    }
   ],
   "source": [
    "df.groupby(['Kauf']).mean()['purchasesrVisit'].plot(kind='bar')"
   ]
  },
  {
   "cell_type": "markdown",
   "metadata": {
    "colab_type": "text",
    "id": "NiiAlVxQZSCC"
   },
   "source": [
    "## Set up NN structure"
   ]
  },
  {
   "cell_type": "markdown",
   "metadata": {
    "colab_type": "text",
    "id": "gKL_itTIP3km"
   },
   "source": [
    "**Define relevant functions**"
   ]
  },
  {
   "cell_type": "code",
   "execution_count": null,
   "metadata": {
    "colab": {},
    "colab_type": "code",
    "id": "TZwiCRZUxuef"
   },
   "outputs": [],
   "source": [
    "# Define functions for sensitivity (true positive rate) and specificity (true negative rate) and false positive rate\n",
    "from keras import backend as K\n",
    "\n",
    "def sensitivity(y_true, y_pred):\n",
    "    true_positives = K.sum(K.round(K.clip(y_true * y_pred, 0, 1)))\n",
    "    possible_positives = K.sum(K.round(K.clip(y_true, 0, 1)))\n",
    "    return true_positives / (possible_positives + K.epsilon())\n",
    "\n",
    "def specificity(y_true, y_pred):\n",
    "    true_negatives = K.sum(K.round(K.clip((1-y_true) * (1-y_pred), 0, 1)))\n",
    "    possible_negatives = K.sum(K.round(K.clip(1-y_true, 0, 1)))\n",
    "    return true_negatives / (possible_negatives + K.epsilon())\n",
    "\n",
    "def falsepositive(y_true, y_pred):\n",
    "    true_negatives = K.sum(K.round(K.clip((1-y_true) * (1-y_pred), 0, 1)))\n",
    "    return 1 - true_negatives\n",
    "\n",
    "def show_history(story):\n",
    "    plt.plot(story.history['acc'])\n",
    "    plt.plot(story.history['val_acc'])\n",
    "    plt.ylabel('accuracy')\n",
    "    plt.xlabel('epoch')\n",
    "    plt.legend(['train_accuracy', 'test_accuracy'], loc='best')\n",
    "    plt.show()"
   ]
  },
  {
   "cell_type": "markdown",
   "metadata": {
    "colab_type": "text",
    "id": "TuzHlTQhcQPr"
   },
   "source": [
    "**Define callbacks for early stopping and AUC**"
   ]
  },
  {
   "cell_type": "code",
   "execution_count": null,
   "metadata": {
    "colab": {},
    "colab_type": "code",
    "id": "9kMDvYeDHaI8"
   },
   "outputs": [],
   "source": [
    "# Define early stopping with callbacks\n",
    "es = EarlyStopping(monitor='val_loss', mode='min', min_delta=0.5, patience=30, restore_best_weights=True) # Stop training when loss decreases less than 1%\n",
    "#mc = ModelCheckpoint('best_model.h5', monitor='val_acc', mode='max', verbose=1, save_best_only=True) # Save best model and print parameters\n",
    "\n",
    "\n",
    "# Define Callback for AUC\n",
    "from sklearn.metrics import roc_auc_score\n",
    "from keras.callbacks import Callback\n",
    "class roc_callback(Callback):\n",
    "    def __init__(self,training_data,validation_data):\n",
    "        self.x = training_data[0]\n",
    "        self.y = training_data[1]\n",
    "        self.x_val = validation_data[0]\n",
    "        self.y_val = validation_data[1]\n",
    "\n",
    "\n",
    "    def on_train_begin(self, logs={}):\n",
    "        return\n",
    "\n",
    "    def on_train_end(self, logs={}):\n",
    "        return\n",
    "\n",
    "    def on_epoch_begin(self, epoch, logs={}):\n",
    "        return\n",
    "\n",
    "    def on_epoch_end(self, epoch, logs={}):\n",
    "        y_pred = self.model.predict(self.x)\n",
    "        roc = roc_auc_score(self.y, y_pred)\n",
    "        y_pred_val = self.model.predict(self.x_val)\n",
    "        roc_val = roc_auc_score(self.y_val, y_pred_val)\n",
    "        print('\\rroc-auc: %s - roc-auc_val: %s' % (str(round(roc,4)),str(round(roc_val,4))),end=100*' '+'\\n')\n",
    "        return\n",
    "\n",
    "    def on_batch_begin(self, batch, logs={}):\n",
    "        return\n",
    "\n",
    "    def on_batch_end(self, batch, logs={}):\n",
    "        return\n",
    "    "
   ]
  },
  {
   "cell_type": "markdown",
   "metadata": {
    "colab_type": "text",
    "id": "VhVLJQGEHdL5"
   },
   "source": [
    "**Use one hot encoding to transform categorical data.**"
   ]
  },
  {
   "cell_type": "code",
   "execution_count": null,
   "metadata": {
    "colab": {},
    "colab_type": "code",
    "id": "PmHvTBbJZT6l"
   },
   "outputs": [],
   "source": [
    "X= pd.get_dummies(X, prefix_sep=\"_\",columns=X.select_dtypes(include=[object]).columns) # One hot encoding to transform categorical data\n",
    "#X.head(10)\n",
    "#print(X.dtypes)\n",
    "#print(X.shape,y.shape)"
   ]
  },
  {
   "cell_type": "markdown",
   "metadata": {
    "colab_type": "text",
    "id": "CqzphojuchLC"
   },
   "source": [
    "**Split data into training and test sets**"
   ]
  },
  {
   "cell_type": "code",
   "execution_count": 24,
   "metadata": {
    "colab": {
     "base_uri": "https://localhost:8080/",
     "height": 35
    },
    "colab_type": "code",
    "id": "wKIM8QKGerrr",
    "outputId": "64b5b532-0eaa-4e27-828b-cb0f611f46a2"
   },
   "outputs": [
    {
     "name": "stdout",
     "output_type": "stream",
     "text": [
      "(34403, 128) (16946, 128) (34403,) (16946,)\n"
     ]
    }
   ],
   "source": [
    "X_train, X_test, y_train, y_test = train_test_split(X, y, test_size=0.33, random_state=42)\n",
    "print(X_train.shape, X_test.shape, y_train.shape, y_test.shape)"
   ]
  },
  {
   "cell_type": "markdown",
   "metadata": {
    "colab_type": "text",
    "id": "gpHbnpmyuvE3"
   },
   "source": [
    "**Standardize numeric variables**"
   ]
  },
  {
   "cell_type": "code",
   "execution_count": null,
   "metadata": {
    "colab": {
     "base_uri": "https://localhost:8080/",
     "height": 178
    },
    "colab_type": "code",
    "id": "oCmHCKsImaU5",
    "outputId": "39748bd7-8d27-48bb-b7e5-a59beea489c5"
   },
   "outputs": [],
   "source": [
    "scaler = StandardScaler().fit(X_train)\n",
    "X_train= scaler.transform(X_train)\n",
    "scaler = StandardScaler().fit(X_test)\n",
    "X_test= scaler.transform(X_test)  "
   ]
  },
  {
   "cell_type": "code",
   "execution_count": null,
   "metadata": {
    "colab": {},
    "colab_type": "code",
    "id": "BLIHb6-wqQFm"
   },
   "outputs": [],
   "source": [
    "seed=40"
   ]
  },
  {
   "cell_type": "code",
   "execution_count": 27,
   "metadata": {
    "colab": {
     "base_uri": "https://localhost:8080/",
     "height": 90
    },
    "colab_type": "code",
    "id": "WKvmOrP13e35",
    "outputId": "ef52f449-e776-4cf8-b99f-50c1bc7fbc4b"
   },
   "outputs": [
    {
     "name": "stdout",
     "output_type": "stream",
     "text": [
      "WARNING:tensorflow:From /usr/local/lib/python3.6/dist-packages/tensorflow/python/framework/op_def_library.py:263: colocate_with (from tensorflow.python.framework.ops) is deprecated and will be removed in a future version.\n",
      "Instructions for updating:\n",
      "Colocations handled automatically by placer.\n"
     ]
    }
   ],
   "source": [
    "model = Sequential()\n",
    "\n",
    "model.add(Dense(128, \n",
    "                activation='relu', \n",
    "                kernel_initializer=keras.initializers.he_normal(seed=seed),\n",
    "                bias_initializer='zeros', \n",
    "                input_shape=(128,))) \n",
    "model.add(Dense(128, activation='relu',kernel_initializer=keras.initializers.he_normal(seed=seed),bias_initializer='zeros')) \n",
    "model.add(Dense(1, activation='sigmoid',kernel_initializer=keras.initializers.he_normal(seed=seed),bias_initializer='zeros'))\n"
   ]
  },
  {
   "cell_type": "code",
   "execution_count": 28,
   "metadata": {
    "colab": {
     "base_uri": "https://localhost:8080/",
     "height": 245
    },
    "colab_type": "code",
    "id": "kxWaWbw0px3T",
    "outputId": "a521e28a-def9-432e-8c20-ca60e09d4f84"
   },
   "outputs": [
    {
     "name": "stdout",
     "output_type": "stream",
     "text": [
      "_________________________________________________________________\n",
      "Layer (type)                 Output Shape              Param #   \n",
      "=================================================================\n",
      "dense_1 (Dense)              (None, 128)               16512     \n",
      "_________________________________________________________________\n",
      "dense_2 (Dense)              (None, 128)               16512     \n",
      "_________________________________________________________________\n",
      "dense_3 (Dense)              (None, 1)                 129       \n",
      "=================================================================\n",
      "Total params: 33,153\n",
      "Trainable params: 33,153\n",
      "Non-trainable params: 0\n",
      "_________________________________________________________________\n"
     ]
    }
   ],
   "source": [
    "model.summary()"
   ]
  },
  {
   "cell_type": "code",
   "execution_count": null,
   "metadata": {
    "colab": {},
    "colab_type": "code",
    "id": "AtbMFuae5adn"
   },
   "outputs": [],
   "source": [
    "# Compile model\n",
    "from keras import optimizers\n",
    "opt = optimizers.SGD(lr=0.01)\n",
    "\n",
    "model.compile(\n",
    "    loss='binary_crossentropy', # Loss function that will be minimized\n",
    "    optimizer=opt,\n",
    "    metrics=[sensitivity, specificity, falsepositive, 'accuracy'] # Metrics that will be reported\n",
    ")"
   ]
  },
  {
   "cell_type": "code",
   "execution_count": 30,
   "metadata": {
    "colab": {
     "base_uri": "https://localhost:8080/",
     "height": 1161
    },
    "colab_type": "code",
    "id": "wUhLzYhB6-Gt",
    "outputId": "64aa853b-8d35-4107-c972-b57d3e52600d"
   },
   "outputs": [
    {
     "name": "stdout",
     "output_type": "stream",
     "text": [
      "WARNING:tensorflow:From /usr/local/lib/python3.6/dist-packages/tensorflow/python/ops/math_ops.py:3066: to_int32 (from tensorflow.python.ops.math_ops) is deprecated and will be removed in a future version.\n",
      "Instructions for updating:\n",
      "Use tf.cast instead.\n",
      "Train on 34403 samples, validate on 16946 samples\n",
      "Epoch 1/30\n",
      "34403/34403 [==============================] - 7s 190us/step - loss: 0.2847 - sensitivity: 0.1012 - specificity: 0.9886 - falsepositive: -28.0962 - acc: 0.9181 - val_loss: 0.2569 - val_sensitivity: 0.1574 - val_specificity: 0.9883 - val_falsepositive: -28.0827 - val_acc: 0.9223\n",
      "Epoch 2/30\n",
      "34403/34403 [==============================] - 4s 106us/step - loss: 0.2516 - sensitivity: 0.1353 - specificity: 0.9911 - falsepositive: -28.1707 - acc: 0.9234 - val_loss: 0.2513 - val_sensitivity: 0.1618 - val_specificity: 0.9887 - val_falsepositive: -28.0960 - val_acc: 0.9232\n",
      "Epoch 3/30\n",
      "34403/34403 [==============================] - 4s 107us/step - loss: 0.2445 - sensitivity: 0.1425 - specificity: 0.9919 - falsepositive: -28.1948 - acc: 0.9245 - val_loss: 0.2480 - val_sensitivity: 0.1532 - val_specificity: 0.9903 - val_falsepositive: -28.1450 - val_acc: 0.9240\n",
      "Epoch 4/30\n",
      "34403/34403 [==============================] - 4s 107us/step - loss: 0.2400 - sensitivity: 0.1376 - specificity: 0.9923 - falsepositive: -28.2069 - acc: 0.9248 - val_loss: 0.2470 - val_sensitivity: 0.1246 - val_specificity: 0.9935 - val_falsepositive: -28.2376 - val_acc: 0.9248\n",
      "Epoch 5/30\n",
      "34403/34403 [==============================] - 4s 107us/step - loss: 0.2371 - sensitivity: 0.1394 - specificity: 0.9933 - falsepositive: -28.2349 - acc: 0.9258 - val_loss: 0.2458 - val_sensitivity: 0.1263 - val_specificity: 0.9936 - val_falsepositive: -28.2414 - val_acc: 0.9250\n",
      "Epoch 6/30\n",
      "34403/34403 [==============================] - 4s 106us/step - loss: 0.2348 - sensitivity: 0.1417 - specificity: 0.9932 - falsepositive: -28.2312 - acc: 0.9259 - val_loss: 0.2449 - val_sensitivity: 0.1351 - val_specificity: 0.9928 - val_falsepositive: -28.2168 - val_acc: 0.9251\n",
      "Epoch 7/30\n",
      "34403/34403 [==============================] - 4s 107us/step - loss: 0.2324 - sensitivity: 0.1499 - specificity: 0.9930 - falsepositive: -28.2266 - acc: 0.9264 - val_loss: 0.2447 - val_sensitivity: 0.1342 - val_specificity: 0.9935 - val_falsepositive: -28.2376 - val_acc: 0.9256\n",
      "Epoch 8/30\n",
      "34403/34403 [==============================] - 4s 106us/step - loss: 0.2309 - sensitivity: 0.1388 - specificity: 0.9936 - falsepositive: -28.2432 - acc: 0.9267 - val_loss: 0.2441 - val_sensitivity: 0.1359 - val_specificity: 0.9928 - val_falsepositive: -28.2187 - val_acc: 0.9251\n",
      "Epoch 9/30\n",
      "34403/34403 [==============================] - 4s 106us/step - loss: 0.2291 - sensitivity: 0.1535 - specificity: 0.9937 - falsepositive: -28.2469 - acc: 0.9269 - val_loss: 0.2447 - val_sensitivity: 0.1521 - val_specificity: 0.9910 - val_falsepositive: -28.1639 - val_acc: 0.9248\n",
      "Epoch 10/30\n",
      "34403/34403 [==============================] - 4s 107us/step - loss: 0.2275 - sensitivity: 0.1492 - specificity: 0.9942 - falsepositive: -28.2591 - acc: 0.9272 - val_loss: 0.2441 - val_sensitivity: 0.1448 - val_specificity: 0.9915 - val_falsepositive: -28.1790 - val_acc: 0.9248\n",
      "Epoch 11/30\n",
      "34403/34403 [==============================] - 4s 106us/step - loss: 0.2259 - sensitivity: 0.1533 - specificity: 0.9937 - falsepositive: -28.2442 - acc: 0.9272 - val_loss: 0.2444 - val_sensitivity: 0.1519 - val_specificity: 0.9911 - val_falsepositive: -28.1677 - val_acc: 0.9249\n",
      "Epoch 12/30\n",
      "34403/34403 [==============================] - 4s 107us/step - loss: 0.2242 - sensitivity: 0.1527 - specificity: 0.9940 - falsepositive: -28.2544 - acc: 0.9280 - val_loss: 0.2469 - val_sensitivity: 0.1757 - val_specificity: 0.9866 - val_falsepositive: -28.0355 - val_acc: 0.9227\n",
      "Epoch 13/30\n",
      "34403/34403 [==============================] - 4s 108us/step - loss: 0.2228 - sensitivity: 0.1676 - specificity: 0.9940 - falsepositive: -28.2562 - acc: 0.9281 - val_loss: 0.2441 - val_sensitivity: 0.1310 - val_specificity: 0.9941 - val_falsepositive: -28.2565 - val_acc: 0.9260\n",
      "Epoch 14/30\n",
      "34403/34403 [==============================] - 4s 107us/step - loss: 0.2215 - sensitivity: 0.1603 - specificity: 0.9939 - falsepositive: -28.2534 - acc: 0.9281 - val_loss: 0.2452 - val_sensitivity: 0.1603 - val_specificity: 0.9902 - val_falsepositive: -28.1413 - val_acc: 0.9245\n",
      "Epoch 15/30\n",
      "34403/34403 [==============================] - 4s 106us/step - loss: 0.2201 - sensitivity: 0.1626 - specificity: 0.9941 - falsepositive: -28.2572 - acc: 0.9285 - val_loss: 0.2456 - val_sensitivity: 0.1280 - val_specificity: 0.9944 - val_falsepositive: -28.2640 - val_acc: 0.9261\n",
      "Epoch 16/30\n",
      "34403/34403 [==============================] - 4s 112us/step - loss: 0.2185 - sensitivity: 0.1621 - specificity: 0.9937 - falsepositive: -28.2461 - acc: 0.9283 - val_loss: 0.2454 - val_sensitivity: 0.1481 - val_specificity: 0.9915 - val_falsepositive: -28.1809 - val_acc: 0.9250\n",
      "Epoch 17/30\n",
      "34403/34403 [==============================] - 4s 123us/step - loss: 0.2171 - sensitivity: 0.1684 - specificity: 0.9938 - falsepositive: -28.2479 - acc: 0.9288 - val_loss: 0.2454 - val_sensitivity: 0.1320 - val_specificity: 0.9930 - val_falsepositive: -28.2244 - val_acc: 0.9250\n",
      "Epoch 18/30\n",
      "34403/34403 [==============================] - 4s 123us/step - loss: 0.2156 - sensitivity: 0.1770 - specificity: 0.9946 - falsepositive: -28.2721 - acc: 0.9295 - val_loss: 0.2466 - val_sensitivity: 0.1503 - val_specificity: 0.9915 - val_falsepositive: -28.1790 - val_acc: 0.9252\n",
      "Epoch 19/30\n",
      "34403/34403 [==============================] - 4s 107us/step - loss: 0.2141 - sensitivity: 0.1735 - specificity: 0.9940 - falsepositive: -28.2563 - acc: 0.9293 - val_loss: 0.2466 - val_sensitivity: 0.1424 - val_specificity: 0.9927 - val_falsepositive: -28.2149 - val_acc: 0.9255\n",
      "Epoch 20/30\n",
      "34403/34403 [==============================] - 4s 106us/step - loss: 0.2122 - sensitivity: 0.1812 - specificity: 0.9938 - falsepositive: -28.2489 - acc: 0.9295 - val_loss: 0.2472 - val_sensitivity: 0.1376 - val_specificity: 0.9923 - val_falsepositive: -28.2017 - val_acc: 0.9245\n",
      "Epoch 21/30\n",
      "34403/34403 [==============================] - 4s 107us/step - loss: 0.2112 - sensitivity: 0.1789 - specificity: 0.9938 - falsepositive: -28.2506 - acc: 0.9296 - val_loss: 0.2492 - val_sensitivity: 0.1662 - val_specificity: 0.9878 - val_falsepositive: -28.0714 - val_acc: 0.9232\n",
      "Epoch 22/30\n",
      "34403/34403 [==============================] - 4s 107us/step - loss: 0.2094 - sensitivity: 0.1878 - specificity: 0.9939 - falsepositive: -28.2498 - acc: 0.9304 - val_loss: 0.2493 - val_sensitivity: 0.1219 - val_specificity: 0.9946 - val_falsepositive: -28.2697 - val_acc: 0.9258\n",
      "Epoch 23/30\n",
      "34403/34403 [==============================] - 4s 106us/step - loss: 0.2079 - sensitivity: 0.1876 - specificity: 0.9941 - falsepositive: -28.2572 - acc: 0.9302 - val_loss: 0.2506 - val_sensitivity: 0.1588 - val_specificity: 0.9886 - val_falsepositive: -28.0941 - val_acc: 0.9233\n",
      "Epoch 24/30\n",
      "34403/34403 [==============================] - 4s 107us/step - loss: 0.2062 - sensitivity: 0.1916 - specificity: 0.9938 - falsepositive: -28.2497 - acc: 0.9306 - val_loss: 0.2507 - val_sensitivity: 0.1521 - val_specificity: 0.9902 - val_falsepositive: -28.1413 - val_acc: 0.9242\n",
      "Epoch 25/30\n",
      "34403/34403 [==============================] - 4s 106us/step - loss: 0.2049 - sensitivity: 0.1829 - specificity: 0.9940 - falsepositive: -28.2526 - acc: 0.9307 - val_loss: 0.2507 - val_sensitivity: 0.1369 - val_specificity: 0.9928 - val_falsepositive: -28.2187 - val_acc: 0.9252\n",
      "Epoch 26/30\n",
      "34403/34403 [==============================] - 4s 106us/step - loss: 0.2030 - sensitivity: 0.2002 - specificity: 0.9938 - falsepositive: -28.2489 - acc: 0.9313 - val_loss: 0.2516 - val_sensitivity: 0.1392 - val_specificity: 0.9928 - val_falsepositive: -28.2168 - val_acc: 0.9255\n",
      "Epoch 27/30\n",
      "34403/34403 [==============================] - 4s 107us/step - loss: 0.2015 - sensitivity: 0.2109 - specificity: 0.9938 - falsepositive: -28.2506 - acc: 0.9316 - val_loss: 0.2532 - val_sensitivity: 0.1768 - val_specificity: 0.9853 - val_falsepositive: -27.9959 - val_acc: 0.9216\n",
      "Epoch 28/30\n",
      "34403/34403 [==============================] - 4s 107us/step - loss: 0.2000 - sensitivity: 0.2132 - specificity: 0.9938 - falsepositive: -28.2507 - acc: 0.9324 - val_loss: 0.2525 - val_sensitivity: 0.1484 - val_specificity: 0.9912 - val_falsepositive: -28.1715 - val_acc: 0.9248\n",
      "Epoch 29/30\n",
      "34403/34403 [==============================] - 4s 107us/step - loss: 0.1985 - sensitivity: 0.2094 - specificity: 0.9938 - falsepositive: -28.2498 - acc: 0.9323 - val_loss: 0.2546 - val_sensitivity: 0.1340 - val_specificity: 0.9926 - val_falsepositive: -28.2130 - val_acc: 0.9249\n",
      "Epoch 30/30\n",
      "34403/34403 [==============================] - 4s 107us/step - loss: 0.1965 - sensitivity: 0.2100 - specificity: 0.9936 - falsepositive: -28.2432 - acc: 0.9324 - val_loss: 0.2721 - val_sensitivity: 0.2131 - val_specificity: 0.9719 - val_falsepositive: -27.6031 - val_acc: 0.9128\n"
     ]
    }
   ],
   "source": [
    "batch_size =32 \n",
    "epochs = 30\n",
    "\n",
    "\n",
    "story = model.fit(X_train, y_train,\n",
    "                    batch_size=batch_size,\n",
    "                    epochs=epochs,\n",
    "                    verbose=1,validation_data=(X_test, y_test))\n"
   ]
  },
  {
   "cell_type": "markdown",
   "metadata": {
    "colab_type": "text",
    "id": "bpSG6alrgyS3"
   },
   "source": [
    "### Model evaluation"
   ]
  },
  {
   "cell_type": "code",
   "execution_count": 31,
   "metadata": {
    "colab": {
     "base_uri": "https://localhost:8080/",
     "height": 70
    },
    "colab_type": "code",
    "id": "AYT5DItQte4q",
    "outputId": "ac5a9691-7009-4ecd-ecf8-d5ef283011d1"
   },
   "outputs": [
    {
     "name": "stdout",
     "output_type": "stream",
     "text": [
      "16946/16946 [==============================] - 1s 51us/step\n",
      "Test loss: 0.2720528645367292\n",
      "Test accuracy: 0.21309368964647382\n"
     ]
    }
   ],
   "source": [
    "score = model.evaluate(X_test, y_test, verbose=1)\n",
    "print('Test loss:', score[0])\n",
    "print('Test accuracy:', score[1])"
   ]
  },
  {
   "cell_type": "code",
   "execution_count": 32,
   "metadata": {
    "colab": {
     "base_uri": "https://localhost:8080/",
     "height": 283
    },
    "colab_type": "code",
    "id": "tqNMMzq5th6l",
    "outputId": "aee5d2e9-0d3c-48a4-b5bb-34e37c785d37"
   },
   "outputs": [
    {
     "data": {
      "image/png": "[encoded data removed]",
      "text/plain": [
       "<Figure size 432x288 with 1 Axes>"
      ]
     },
     "metadata": {
      "tags": []
     },
     "output_type": "display_data"
    }
   ],
   "source": [
    "show_history(story)"
   ]
  },
  {
   "cell_type": "code",
   "execution_count": null,
   "metadata": {
    "colab": {},
    "colab_type": "code",
    "id": "6bYSKay51-gR"
   },
   "outputs": [],
   "source": [
    "predictions = model.predict(X_test)\n",
    "predictions\n",
    "pred_bin = pd.DataFrame(predictions).round(0)\n",
    "pred_bin = pred_bin.astype(int)\n",
    "#print(pred_bin)\n"
   ]
  },
  {
   "cell_type": "code",
   "execution_count": 34,
   "metadata": {
    "colab": {
     "base_uri": "https://localhost:8080/",
     "height": 281
    },
    "colab_type": "code",
    "id": "4Cj7Eo-ou0EY",
    "outputId": "d462c565-c6f6-4537-c459-65b9820af3d6"
   },
   "outputs": [
    {
     "name": "stdout",
     "output_type": "stream",
     "text": [
      "\n",
      "Clasification report:\n",
      "               precision    recall  f1-score   support\n",
      "\n",
      "           0       0.94      0.97      0.95     15593\n",
      "           1       0.42      0.23      0.30      1353\n",
      "\n",
      "   micro avg       0.91      0.91      0.91     16946\n",
      "   macro avg       0.68      0.60      0.63     16946\n",
      "weighted avg       0.89      0.91      0.90     16946\n",
      "\n",
      "\n",
      "Confusion matrix:\n",
      " [[15155   438]\n",
      " [ 1039   314]]\n"
     ]
    }
   ],
   "source": [
    "#target_names = [\"0\"]\n",
    "print ('\\nClasification report:\\n', classification_report(pd.DataFrame(y_test), pred_bin))\n",
    "print ('\\nConfusion matrix:\\n', confusion_matrix(pd.DataFrame(y_test), pred_bin))"
   ]
  },
  {
   "cell_type": "code",
   "execution_count": 35,
   "metadata": {
    "colab": {
     "base_uri": "https://localhost:8080/",
     "height": 35
    },
    "colab_type": "code",
    "id": "DDkFvxcojdHv",
    "outputId": "c361c538-ddb0-442f-a544-dcc08ed52211"
   },
   "outputs": [
    {
     "data": {
      "text/plain": [
       "0.7214516112442481"
      ]
     },
     "execution_count": 35,
     "metadata": {
      "tags": []
     },
     "output_type": "execute_result"
    }
   ],
   "source": [
    "# calculate AUC for test set\n",
    "roc_auc_score(y_test, predictions) # AUC is 0.72\n"
   ]
  },
  {
   "cell_type": "markdown",
   "metadata": {
    "colab_type": "text",
    "id": "qDfEXYlBmypb"
   },
   "source": [
    "In the above neural network a batch size of 32 and 30 epochs led to an AUC value of 0.72. The plot of test and training accuracy illustrates that the accuracy keeps rising for the training set, while accuracy for the test set drops significantly between 20 and 30 epochs. This suggests that the neural network is overfitting. The confusion matrix reveals, that the model reconizes obersvations where nothing was bought quite good, while obervations in which a purchase took place are recognized with much lower precision."
   ]
  },
  {
   "cell_type": "markdown",
   "metadata": {
    "colab_type": "text",
    "id": "8cg-ODK6hW_t"
   },
   "source": [
    "## Model Tuning"
   ]
  },
  {
   "cell_type": "code",
   "execution_count": 36,
   "metadata": {
    "colab": {
     "base_uri": "https://localhost:8080/",
     "height": 1688
    },
    "colab_type": "code",
    "id": "qogYyO1iVwRZ",
    "outputId": "002ab0f3-74fe-467e-b70c-4337046db44e"
   },
   "outputs": [
    {
     "name": "stdout",
     "output_type": "stream",
     "text": [
      "WARNING:tensorflow:From /usr/local/lib/python3.6/dist-packages/keras/backend/tensorflow_backend.py:3445: calling dropout (from tensorflow.python.ops.nn_ops) with keep_prob is deprecated and will be removed in a future version.\n",
      "Instructions for updating:\n",
      "Please use `rate` instead of `keep_prob`. Rate should be set to `rate = 1 - keep_prob`.\n",
      "Train on 24082 samples, validate on 10321 samples\n",
      "Epoch 1/30\n",
      "24082/24082 [==============================] - 2s 85us/step - loss: 0.2808 - sensitivity: 0.1146 - specificity: 0.9896 - falsepositive: -57.1459 - acc: 0.9181 - val_loss: 0.2433 - val_sensitivity: 0.1558 - val_specificity: 0.9894 - val_falsepositive: -57.3818 - val_acc: 0.9253\n",
      "roc-auc: 0.7476 - roc-auc_val: 0.7271                                                                                                    \n",
      "Epoch 2/30\n",
      "24082/24082 [==============================] - 1s 61us/step - loss: 0.2503 - sensitivity: 0.1165 - specificity: 0.9941 - falsepositive: -57.4018 - acc: 0.9230 - val_loss: 0.2350 - val_sensitivity: 0.0985 - val_specificity: 0.9964 - val_falsepositive: -57.7973 - val_acc: 0.9272\n",
      "roc-auc: 0.7645 - roc-auc_val: 0.7354                                                                                                    \n",
      "Epoch 3/30\n",
      "24082/24082 [==============================] - 1s 61us/step - loss: 0.2450 - sensitivity: 0.1195 - specificity: 0.9941 - falsepositive: -57.3980 - acc: 0.9230 - val_loss: 0.2359 - val_sensitivity: 0.0777 - val_specificity: 0.9977 - val_falsepositive: -57.8717 - val_acc: 0.9272\n",
      "roc-auc: 0.7705 - roc-auc_val: 0.7375                                                                                                    \n",
      "Epoch 4/30\n",
      "24082/24082 [==============================] - 1s 60us/step - loss: 0.2408 - sensitivity: 0.1396 - specificity: 0.9934 - falsepositive: -57.3619 - acc: 0.9237 - val_loss: 0.2323 - val_sensitivity: 0.1069 - val_specificity: 0.9959 - val_falsepositive: -57.7663 - val_acc: 0.9271\n",
      "roc-auc: 0.7746 - roc-auc_val: 0.7411                                                                                                    \n",
      "Epoch 5/30\n",
      "24082/24082 [==============================] - 1s 60us/step - loss: 0.2392 - sensitivity: 0.1399 - specificity: 0.9942 - falsepositive: -57.4025 - acc: 0.9242 - val_loss: 0.2345 - val_sensitivity: 0.1271 - val_specificity: 0.9940 - val_falsepositive: -57.6547 - val_acc: 0.9270\n",
      "roc-auc: 0.7792 - roc-auc_val: 0.7402                                                                                                    \n",
      "Epoch 6/30\n",
      "24082/24082 [==============================] - 1s 60us/step - loss: 0.2410 - sensitivity: 0.1314 - specificity: 0.9945 - falsepositive: -57.4219 - acc: 0.9236 - val_loss: 0.2322 - val_sensitivity: 0.1233 - val_specificity: 0.9948 - val_falsepositive: -57.6981 - val_acc: 0.9274\n",
      "roc-auc: 0.7816 - roc-auc_val: 0.7425                                                                                                    \n",
      "Epoch 7/30\n",
      "24082/24082 [==============================] - 2s 70us/step - loss: 0.2394 - sensitivity: 0.1389 - specificity: 0.9940 - falsepositive: -57.3931 - acc: 0.9239 - val_loss: 0.2334 - val_sensitivity: 0.1046 - val_specificity: 0.9961 - val_falsepositive: -57.7787 - val_acc: 0.9272\n",
      "roc-auc: 0.782 - roc-auc_val: 0.7414                                                                                                    \n",
      "Epoch 8/30\n",
      "24082/24082 [==============================] - 2s 69us/step - loss: 0.2381 - sensitivity: 0.1337 - specificity: 0.9938 - falsepositive: -57.3858 - acc: 0.9233 - val_loss: 0.2328 - val_sensitivity: 0.1053 - val_specificity: 0.9962 - val_falsepositive: -57.7849 - val_acc: 0.9274\n",
      "roc-auc: 0.784 - roc-auc_val: 0.7426                                                                                                    \n",
      "Epoch 9/30\n",
      "24082/24082 [==============================] - 2s 68us/step - loss: 0.2361 - sensitivity: 0.1410 - specificity: 0.9943 - falsepositive: -57.4105 - acc: 0.9242 - val_loss: 0.2324 - val_sensitivity: 0.1023 - val_specificity: 0.9962 - val_falsepositive: -57.7849 - val_acc: 0.9271\n",
      "roc-auc: 0.7854 - roc-auc_val: 0.7428                                                                                                    \n",
      "Epoch 10/30\n",
      "24082/24082 [==============================] - 2s 66us/step - loss: 0.2357 - sensitivity: 0.1419 - specificity: 0.9942 - falsepositive: -57.4025 - acc: 0.9247 - val_loss: 0.2333 - val_sensitivity: 0.1040 - val_specificity: 0.9961 - val_falsepositive: -57.7787 - val_acc: 0.9271\n",
      "roc-auc: 0.7875 - roc-auc_val: 0.7425                                                                                                    \n",
      "Epoch 11/30\n",
      "24082/24082 [==============================] - 1s 60us/step - loss: 0.2367 - sensitivity: 0.1336 - specificity: 0.9941 - falsepositive: -57.3991 - acc: 0.9244 - val_loss: 0.2322 - val_sensitivity: 0.0899 - val_specificity: 0.9972 - val_falsepositive: -57.8407 - val_acc: 0.9277\n",
      "roc-auc: 0.7891 - roc-auc_val: 0.7432                                                                                                    \n",
      "Epoch 12/30\n",
      "24082/24082 [==============================] - 1s 59us/step - loss: 0.2361 - sensitivity: 0.1400 - specificity: 0.9942 - falsepositive: -57.4071 - acc: 0.9244 - val_loss: 0.2330 - val_sensitivity: 0.1129 - val_specificity: 0.9957 - val_falsepositive: -57.7539 - val_acc: 0.9275\n",
      "roc-auc: 0.7895 - roc-auc_val: 0.7433                                                                                                    \n",
      "Epoch 13/30\n",
      "24082/24082 [==============================] - 1s 60us/step - loss: 0.2337 - sensitivity: 0.1475 - specificity: 0.9940 - falsepositive: -57.3893 - acc: 0.9246 - val_loss: 0.2322 - val_sensitivity: 0.0978 - val_specificity: 0.9963 - val_falsepositive: -57.7911 - val_acc: 0.9272\n",
      "roc-auc: 0.7901 - roc-auc_val: 0.7433                                                                                                    \n",
      "Epoch 14/30\n",
      "24082/24082 [==============================] - 1s 60us/step - loss: 0.2347 - sensitivity: 0.1376 - specificity: 0.9944 - falsepositive: -57.4158 - acc: 0.9249 - val_loss: 0.2323 - val_sensitivity: 0.1051 - val_specificity: 0.9962 - val_falsepositive: -57.7849 - val_acc: 0.9273\n",
      "roc-auc: 0.7915 - roc-auc_val: 0.7443                                                                                                    \n",
      "Epoch 15/30\n",
      "24082/24082 [==============================] - 1s 61us/step - loss: 0.2341 - sensitivity: 0.1449 - specificity: 0.9944 - falsepositive: -57.4204 - acc: 0.9248 - val_loss: 0.2337 - val_sensitivity: 0.1085 - val_specificity: 0.9961 - val_falsepositive: -57.7787 - val_acc: 0.9275\n",
      "roc-auc: 0.7928 - roc-auc_val: 0.7441                                                                                                    \n",
      "Epoch 16/30\n",
      "24082/24082 [==============================] - 1s 60us/step - loss: 0.2351 - sensitivity: 0.1405 - specificity: 0.9941 - falsepositive: -57.4025 - acc: 0.9247 - val_loss: 0.2320 - val_sensitivity: 0.0907 - val_specificity: 0.9967 - val_falsepositive: -57.8159 - val_acc: 0.9274\n",
      "roc-auc: 0.7927 - roc-auc_val: 0.7444                                                                                                    \n",
      "Epoch 17/30\n",
      "24082/24082 [==============================] - 1s 60us/step - loss: 0.2347 - sensitivity: 0.1303 - specificity: 0.9947 - falsepositive: -57.4337 - acc: 0.9242 - val_loss: 0.2332 - val_sensitivity: 0.1132 - val_specificity: 0.9960 - val_falsepositive: -57.7725 - val_acc: 0.9278\n",
      "roc-auc: 0.793 - roc-auc_val: 0.7445                                                                                                    \n",
      "Epoch 18/30\n",
      "24082/24082 [==============================] - 1s 59us/step - loss: 0.2338 - sensitivity: 0.1468 - specificity: 0.9940 - falsepositive: -57.3957 - acc: 0.9248 - val_loss: 0.2326 - val_sensitivity: 0.1180 - val_specificity: 0.9953 - val_falsepositive: -57.7291 - val_acc: 0.9275\n",
      "roc-auc: 0.7936 - roc-auc_val: 0.7443                                                                                                    \n",
      "Epoch 19/30\n",
      "24082/24082 [==============================] - 1s 61us/step - loss: 0.2336 - sensitivity: 0.1473 - specificity: 0.9940 - falsepositive: -57.3957 - acc: 0.9244 - val_loss: 0.2329 - val_sensitivity: 0.1259 - val_specificity: 0.9945 - val_falsepositive: -57.6795 - val_acc: 0.9273\n",
      "roc-auc: 0.7948 - roc-auc_val: 0.7442                                                                                                    \n",
      "Epoch 20/30\n",
      "24082/24082 [==============================] - 1s 60us/step - loss: 0.2327 - sensitivity: 0.1460 - specificity: 0.9943 - falsepositive: -57.4086 - acc: 0.9253 - val_loss: 0.2327 - val_sensitivity: 0.1190 - val_specificity: 0.9951 - val_falsepositive: -57.7167 - val_acc: 0.9274\n",
      "roc-auc: 0.7955 - roc-auc_val: 0.7443                                                                                                    \n",
      "Epoch 21/30\n",
      "24082/24082 [==============================] - 1s 60us/step - loss: 0.2332 - sensitivity: 0.1557 - specificity: 0.9945 - falsepositive: -57.4219 - acc: 0.9255 - val_loss: 0.2330 - val_sensitivity: 0.1174 - val_specificity: 0.9951 - val_falsepositive: -57.7167 - val_acc: 0.9273\n",
      "roc-auc: 0.7959 - roc-auc_val: 0.7443                                                                                                    \n",
      "Epoch 22/30\n",
      "24082/24082 [==============================] - 1s 59us/step - loss: 0.2323 - sensitivity: 0.1518 - specificity: 0.9938 - falsepositive: -57.3786 - acc: 0.9251 - val_loss: 0.2326 - val_sensitivity: 0.0949 - val_specificity: 0.9966 - val_falsepositive: -57.8097 - val_acc: 0.9277\n",
      "roc-auc: 0.7968 - roc-auc_val: 0.7443                                                                                                    \n",
      "Epoch 23/30\n",
      "24082/24082 [==============================] - 1s 60us/step - loss: 0.2328 - sensitivity: 0.1488 - specificity: 0.9938 - falsepositive: -57.3805 - acc: 0.9244 - val_loss: 0.2328 - val_sensitivity: 0.0960 - val_specificity: 0.9964 - val_falsepositive: -57.7973 - val_acc: 0.9276\n",
      "roc-auc: 0.7974 - roc-auc_val: 0.7446                                                                                                    \n",
      "Epoch 24/30\n",
      "24082/24082 [==============================] - 1s 60us/step - loss: 0.2324 - sensitivity: 0.1417 - specificity: 0.9944 - falsepositive: -57.4132 - acc: 0.9247 - val_loss: 0.2326 - val_sensitivity: 0.0960 - val_specificity: 0.9962 - val_falsepositive: -57.7849 - val_acc: 0.9274\n",
      "roc-auc: 0.7976 - roc-auc_val: 0.7447                                                                                                    \n",
      "Epoch 25/30\n",
      "24082/24082 [==============================] - 1s 59us/step - loss: 0.2322 - sensitivity: 0.1389 - specificity: 0.9940 - falsepositive: -57.3900 - acc: 0.9247 - val_loss: 0.2326 - val_sensitivity: 0.1067 - val_specificity: 0.9960 - val_falsepositive: -57.7725 - val_acc: 0.9276\n",
      "roc-auc: 0.798 - roc-auc_val: 0.7451                                                                                                    \n",
      "Epoch 26/30\n",
      "24082/24082 [==============================] - 1s 60us/step - loss: 0.2331 - sensitivity: 0.1513 - specificity: 0.9940 - falsepositive: -57.3919 - acc: 0.9248 - val_loss: 0.2330 - val_sensitivity: 0.1005 - val_specificity: 0.9964 - val_falsepositive: -57.7973 - val_acc: 0.9279\n",
      "roc-auc: 0.7987 - roc-auc_val: 0.7451                                                                                                    \n",
      "Epoch 27/30\n",
      "24082/24082 [==============================] - 1s 60us/step - loss: 0.2315 - sensitivity: 0.1470 - specificity: 0.9941 - falsepositive: -57.3972 - acc: 0.9250 - val_loss: 0.2324 - val_sensitivity: 0.1005 - val_specificity: 0.9964 - val_falsepositive: -57.7973 - val_acc: 0.9279\n",
      "roc-auc: 0.7988 - roc-auc_val: 0.7453                                                                                                    \n",
      "Epoch 28/30\n",
      "24082/24082 [==============================] - 1s 61us/step - loss: 0.2316 - sensitivity: 0.1618 - specificity: 0.9940 - falsepositive: -57.3946 - acc: 0.9253 - val_loss: 0.2325 - val_sensitivity: 0.1013 - val_specificity: 0.9962 - val_falsepositive: -57.7849 - val_acc: 0.9278\n",
      "roc-auc: 0.7993 - roc-auc_val: 0.7452                                                                                                    \n",
      "Epoch 29/30\n",
      "24082/24082 [==============================] - 1s 59us/step - loss: 0.2325 - sensitivity: 0.1528 - specificity: 0.9942 - falsepositive: -57.4045 - acc: 0.9254 - val_loss: 0.2332 - val_sensitivity: 0.1005 - val_specificity: 0.9963 - val_falsepositive: -57.7911 - val_acc: 0.9278\n",
      "roc-auc: 0.8 - roc-auc_val: 0.7445                                                                                                    \n",
      "Epoch 30/30\n",
      "24082/24082 [==============================] - 1s 60us/step - loss: 0.2321 - sensitivity: 0.1443 - specificity: 0.9946 - falsepositive: -57.4310 - acc: 0.9249 - val_loss: 0.2328 - val_sensitivity: 0.1111 - val_specificity: 0.9956 - val_falsepositive: -57.7477 - val_acc: 0.9276\n",
      "roc-auc: 0.8003 - roc-auc_val: 0.745                                                                                                    \n"
     ]
    }
   ],
   "source": [
    "# Build model\n",
    "model2 = Sequential()\n",
    "\n",
    "model2.add(Dense(128, \n",
    "                activation='relu', \n",
    "                kernel_initializer=keras.initializers.he_normal(seed=seed),\n",
    "                bias_initializer='zeros', \n",
    "                input_shape=(128,)))\n",
    "model2.add(Dropout(0.3)) # Drop out\n",
    "model2.add(Dense(128, activation='relu',kernel_initializer=keras.initializers.he_normal(seed=seed),bias_initializer='zeros'))\n",
    "model2.add(Dropout(0.3)) # Drop out\n",
    "model2.add(Dense(1, activation='sigmoid',kernel_initializer=keras.initializers.he_normal(seed=seed),bias_initializer='zeros'))\n",
    "\n",
    "# Compile model\n",
    "epochs = 30\n",
    "batch_size =64 \n",
    "learning_rate = 0.1\n",
    "decay_rate = learning_rate / epochs\n",
    "momentum = 0.8\n",
    "sgd = SGD(lr=learning_rate, momentum=momentum, decay=decay_rate, nesterov=True)\n",
    "\n",
    "model2.compile(\n",
    "    loss='binary_crossentropy', # Loss function that will be minimized\n",
    "    optimizer=sgd,\n",
    "    metrics=[sensitivity, specificity, falsepositive, 'accuracy'] # Metrics that will be reported\n",
    ")\n",
    "\n",
    "\n",
    "\n",
    "\n",
    "# Create weights for unbalanced class\n",
    "df.groupby('Kauf').size()[0]\n",
    "t = 0.5 #  t∈[0,1] where t=1 means that we only pay attention to sensitivity, t=0 means we only pay attention to specificity and t=0.5 means that we regard both to be equally important\n",
    "weight = df.groupby('Kauf').size()[0] / df.groupby('Kauf').size()[1] * t\n",
    "#print(weight)\n",
    "class_weights = {0: 1.,\n",
    "                1: weight} \n",
    "\n",
    "\n",
    "story2 = model2.fit(X_train, y_train,\n",
    "                    batch_size=batch_size,\n",
    "                    epochs=epochs,\n",
    "                    verbose=1,validation_split=0.3,\n",
    "                  callbacks=[roc_callback(training_data=(X_train, y_train),validation_data=(X_test, y_test)), es])\n"
   ]
  },
  {
   "cell_type": "code",
   "execution_count": 37,
   "metadata": {
    "colab": {
     "base_uri": "https://localhost:8080/",
     "height": 599
    },
    "colab_type": "code",
    "id": "KsFUskKp9vNL",
    "outputId": "86312a5a-2896-4e42-fc3f-e4eb048739f9"
   },
   "outputs": [
    {
     "name": "stdout",
     "output_type": "stream",
     "text": [
      "\n",
      "AUC:\n",
      " 0.744955463319551\n"
     ]
    },
    {
     "data": {
      "image/png": "[encoded data removed]",
      "text/plain": [
       "<Figure size 432x288 with 1 Axes>"
      ]
     },
     "metadata": {
      "tags": []
     },
     "output_type": "display_data"
    },
    {
     "name": "stdout",
     "output_type": "stream",
     "text": [
      "\n",
      "Confusion matrix:\n",
      " [[15554    39]\n",
      " [ 1206   147]]\n",
      "\n",
      "Clasification report:\n",
      "               precision    recall  f1-score   support\n",
      "\n",
      "           0       0.93      1.00      0.96     15593\n",
      "           1       0.79      0.11      0.19      1353\n",
      "\n",
      "   micro avg       0.93      0.93      0.93     16946\n",
      "   macro avg       0.86      0.55      0.58     16946\n",
      "weighted avg       0.92      0.93      0.90     16946\n",
      "\n"
     ]
    }
   ],
   "source": [
    "print('\\nAUC:\\n', roc_auc_score(y_test, model2.predict(X_test))) #74.5 for batch size 64 and drop out 0.3\n",
    "show_history(story2)\n",
    "print ('\\nConfusion matrix:\\n', confusion_matrix(pd.DataFrame(y_test), pd.DataFrame(model2.predict(X_test)).round(0)))\n",
    "print ('\\nClasification report:\\n', classification_report(pd.DataFrame(y_test), pd.DataFrame(model2.predict(X_test)).round(0)))"
   ]
  },
  {
   "cell_type": "markdown",
   "metadata": {
    "colab_type": "text",
    "id": "si3087NIodjl"
   },
   "source": [
    "In this second neural network a drop out of 30% was incorporated into the network to avoid overfitting. Additionally a larger batch size of 64 was chosen to include more obervations of the unbalanced class per batch. The graph shows that overfitting was less of a problem than in the previous neural network. The network also improved in recognizing purchase events which can be seen in an AUC value of 0.75."
   ]
  },
  {
   "cell_type": "markdown",
   "metadata": {
    "colab_type": "text",
    "id": "6xh-gHgypeHz"
   },
   "source": [
    "In this mini challenge two neural networks were built and trained to predict purchase events in an online shop. The first model was imporved by incorporating drop out and enlargening batch size. This led to an increase in AUC and precision. \n",
    "Further improvements might be accomplished be implementing a grid search over parameters like learning rate, drop out, batch size etc. Additionally more layers could be added to the neural network."
   ]
  }
 ],
 "metadata": {
  "accelerator": "GPU",
  "colab": {
   "collapsed_sections": [],
   "name": "ADAMS_MC_1.ipynb",
   "provenance": [],
   "toc_visible": true,
   "version": "0.3.2"
  },
  "kernelspec": {
   "display_name": "Python 3",
   "language": "python",
   "name": "python3"
  },
  "language_info": {
   "codemirror_mode": {
    "name": "ipython",
    "version": 3
   },
   "file_extension": ".py",
   "mimetype": "text/x-python",
   "name": "python",
   "nbconvert_exporter": "python",
   "pygments_lexer": "ipython3",
   "version": "3.7.3"
  }
 },
 "nbformat": 4,
 "nbformat_minor": 2
}
