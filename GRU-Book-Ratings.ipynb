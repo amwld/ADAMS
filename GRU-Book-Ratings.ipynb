{
 "cells": [
  {
   "cell_type": "markdown",
   "metadata": {
    "colab_type": "text",
    "id": "yVbLOR2uECup"
   },
   "source": [
    "Group: MaRä: Amanda Maiwald [*#599665*], Simon Rähles [*#600785*]\n",
    "\n",
    "---\n",
    "\n"
   ]
  },
  {
   "cell_type": "markdown",
   "metadata": {
    "colab_type": "text",
    "id": "CK2I8LMtELRh"
   },
   "source": [
    "# ADAMS Mini Challenge 2"
   ]
  },
  {
   "cell_type": "markdown",
   "metadata": {
    "colab_type": "text",
    "id": "FXT7ZbjNhnmR"
   },
   "source": [
    "## Introduction"
   ]
  },
  {
   "cell_type": "markdown",
   "metadata": {
    "colab_type": "text",
    "id": "OKlyf_rhhy9G"
   },
   "source": [
    "Introduction: \n",
    "In the following work performance, a dataset of textual book reviews from Amazon will be used to predict its rating on a 1 - 5 star scale. Therefore, the textual data will be preprocessed in a first step, cleaning and preparing the whole data set. In a second step, the preprocessed data will be used to set up a model, predicting the star ratings based on the reviews. To do so, several language processing technics, including tokenization andlemmatization, will be used to train a word2vec model. In a last step the embeddings, as a part of the word2vec model, will feed a neural network to predict in the end the star ratings.  To evaluate the overall performance of the model, a benchmark will be introduced throughout the implementation process. "
   ]
  },
  {
   "cell_type": "markdown",
   "metadata": {
    "colab_type": "text",
    "id": "xdCP12TvE0s6"
   },
   "source": [
    "## Import packages and setup"
   ]
  },
  {
   "cell_type": "markdown",
   "metadata": {
    "colab_type": "text",
    "id": "8DA8JWPOS4z7"
   },
   "source": [
    "### Import packages"
   ]
  },
  {
   "cell_type": "code",
   "execution_count": null,
   "metadata": {
    "colab": {
     "base_uri": "https://localhost:8080/",
     "height": 35
    },
    "colab_type": "code",
    "id": "5DhYgeznKIOc",
    "outputId": "7d56a124-bf8e-414e-c0a9-fc217fffcdf7"
   },
   "outputs": [],
   "source": [
    "import pandas as pd\n",
    "import numpy as np\n",
    "import keras as keras\n",
    "from keras.utils import np_utils\n",
    "import re\n",
    "\n",
    "from bs4 import BeautifulSoup\n",
    "\n",
    "import nltk\n",
    "from nltk.tokenize import word_tokenize\n",
    "from nltk.corpus import stopwords\n",
    "from nltk.stem import WordNetLemmatizer\n",
    "\n",
    "from sklearn import model_selection\n",
    "from sklearn.preprocessing import LabelEncoder\n",
    "from sklearn.model_selection import train_test_split\n",
    "from sklearn.metrics import classification_report, confusion_matrix\n",
    "\n",
    "from keras.models import Sequential\n",
    "from keras.layers import Dense, Embedding, LSTM,GRU\n",
    "from keras.layers.embeddings import Embedding\n",
    "from keras.initializers import Constant\n",
    "\n",
    "import matplotlib.pyplot as plt\n",
    "%matplotlib inline"
   ]
  },
  {
   "cell_type": "markdown",
   "metadata": {
    "colab_type": "text",
    "id": "CT4SJjqCS9cS"
   },
   "source": [
    "### Import data"
   ]
  },
  {
   "cell_type": "code",
   "execution_count": 6,
   "metadata": {},
   "outputs": [],
   "source": [
    "MC2 = pd.read_csv('MC2.csv')\n",
    "MC2test = pd.read_csv('MC2test.csv')"
   ]
  },
  {
   "cell_type": "code",
   "execution_count": 7,
   "metadata": {
    "colab": {},
    "colab_type": "code",
    "id": "oBHtTxWhSpPP"
   },
   "outputs": [
    {
     "data": {
      "text/html": [
       "<div>\n",
       "<style scoped>\n",
       "    .dataframe tbody tr th:only-of-type {\n",
       "        vertical-align: middle;\n",
       "    }\n",
       "\n",
       "    .dataframe tbody tr th {\n",
       "        vertical-align: top;\n",
       "    }\n",
       "\n",
       "    .dataframe thead th {\n",
       "        text-align: right;\n",
       "    }\n",
       "</style>\n",
       "<table border=\"1\" class=\"dataframe\">\n",
       "  <thead>\n",
       "    <tr style=\"text-align: right;\">\n",
       "      <th></th>\n",
       "      <th>Unnamed: 0</th>\n",
       "      <th>product_id</th>\n",
       "      <th>product_title</th>\n",
       "      <th>star_rating</th>\n",
       "      <th>helpful_votes</th>\n",
       "      <th>total_votes</th>\n",
       "      <th>verified_purchase</th>\n",
       "      <th>review_headline</th>\n",
       "      <th>review_body</th>\n",
       "    </tr>\n",
       "  </thead>\n",
       "  <tbody>\n",
       "    <tr>\n",
       "      <th>0</th>\n",
       "      <td>1</td>\n",
       "      <td>0983797706</td>\n",
       "      <td>Igniting Your True Purpose and Passion: A Busi...</td>\n",
       "      <td>5</td>\n",
       "      <td>0</td>\n",
       "      <td>0</td>\n",
       "      <td>N</td>\n",
       "      <td>This is an inspirational and insightful book t...</td>\n",
       "      <td>This is an inspirational and insightful book t...</td>\n",
       "    </tr>\n",
       "    <tr>\n",
       "      <th>1</th>\n",
       "      <td>2</td>\n",
       "      <td>1423151283</td>\n",
       "      <td>The Duckling Gets a Cookie!? (Pigeon)</td>\n",
       "      <td>5</td>\n",
       "      <td>0</td>\n",
       "      <td>0</td>\n",
       "      <td>N</td>\n",
       "      <td>Loved it!</td>\n",
       "      <td>My twins are 3 and they love the pigeon books!...</td>\n",
       "    </tr>\n",
       "    <tr>\n",
       "      <th>2</th>\n",
       "      <td>3</td>\n",
       "      <td>1445604752</td>\n",
       "      <td>Spitfire Ace of Aces: The Wartime Story of Joh...</td>\n",
       "      <td>4</td>\n",
       "      <td>2</td>\n",
       "      <td>2</td>\n",
       "      <td>N</td>\n",
       "      <td>Engaging Account of the Combat Career of an RA...</td>\n",
       "      <td>Back in 1964, I was introduced to 'Johnnie' Jo...</td>\n",
       "    </tr>\n",
       "  </tbody>\n",
       "</table>\n",
       "</div>"
      ],
      "text/plain": [
       "   Unnamed: 0  product_id                                      product_title  \\\n",
       "0           1  0983797706  Igniting Your True Purpose and Passion: A Busi...   \n",
       "1           2  1423151283              The Duckling Gets a Cookie!? (Pigeon)   \n",
       "2           3  1445604752  Spitfire Ace of Aces: The Wartime Story of Joh...   \n",
       "\n",
       "   star_rating  helpful_votes  total_votes verified_purchase  \\\n",
       "0            5              0            0                 N   \n",
       "1            5              0            0                 N   \n",
       "2            4              2            2                 N   \n",
       "\n",
       "                                     review_headline  \\\n",
       "0  This is an inspirational and insightful book t...   \n",
       "1                                          Loved it!   \n",
       "2  Engaging Account of the Combat Career of an RA...   \n",
       "\n",
       "                                         review_body  \n",
       "0  This is an inspirational and insightful book t...  \n",
       "1  My twins are 3 and they love the pigeon books!...  \n",
       "2  Back in 1964, I was introduced to 'Johnnie' Jo...  "
      ]
     },
     "execution_count": 7,
     "metadata": {},
     "output_type": "execute_result"
    }
   ],
   "source": [
    "MC2.head(3) # Check that everything worked out\n"
   ]
  },
  {
   "cell_type": "code",
   "execution_count": 8,
   "metadata": {
    "colab": {},
    "colab_type": "code",
    "id": "wX-iisSlTqHI"
   },
   "outputs": [
    {
     "data": {
      "text/html": [
       "<div>\n",
       "<style scoped>\n",
       "    .dataframe tbody tr th:only-of-type {\n",
       "        vertical-align: middle;\n",
       "    }\n",
       "\n",
       "    .dataframe tbody tr th {\n",
       "        vertical-align: top;\n",
       "    }\n",
       "\n",
       "    .dataframe thead th {\n",
       "        text-align: right;\n",
       "    }\n",
       "</style>\n",
       "<table border=\"1\" class=\"dataframe\">\n",
       "  <thead>\n",
       "    <tr style=\"text-align: right;\">\n",
       "      <th></th>\n",
       "      <th>Unnamed: 0</th>\n",
       "      <th>product_id</th>\n",
       "      <th>product_title</th>\n",
       "      <th>helpful_votes</th>\n",
       "      <th>total_votes</th>\n",
       "      <th>verified_purchase</th>\n",
       "      <th>review_headline</th>\n",
       "      <th>review_body</th>\n",
       "    </tr>\n",
       "  </thead>\n",
       "  <tbody>\n",
       "    <tr>\n",
       "      <th>0</th>\n",
       "      <td>1</td>\n",
       "      <td>1445604752</td>\n",
       "      <td>Spitfire Ace of Aces: The Wartime Story of Joh...</td>\n",
       "      <td>2</td>\n",
       "      <td>2</td>\n",
       "      <td>N</td>\n",
       "      <td>Engaging Account of the Combat Career of an RA...</td>\n",
       "      <td>Back in 1964, I was introduced to 'Johnnie' Jo...</td>\n",
       "    </tr>\n",
       "    <tr>\n",
       "      <th>1</th>\n",
       "      <td>2</td>\n",
       "      <td>080244864X</td>\n",
       "      <td>Hush: Moving From Silence to Healing After Chi...</td>\n",
       "      <td>1</td>\n",
       "      <td>1</td>\n",
       "      <td>N</td>\n",
       "      <td>Best Book Ever (Next to the Bible</td>\n",
       "      <td>This book has helped me through a lot this pas...</td>\n",
       "    </tr>\n",
       "    <tr>\n",
       "      <th>2</th>\n",
       "      <td>3</td>\n",
       "      <td>0312536984</td>\n",
       "      <td>Eviction Notice: A Hood Rat Novel (Hood Rat No...</td>\n",
       "      <td>0</td>\n",
       "      <td>0</td>\n",
       "      <td>N</td>\n",
       "      <td>Wild and Crazy</td>\n",
       "      <td>A gripping read!  K'wan is on fire with this n...</td>\n",
       "    </tr>\n",
       "  </tbody>\n",
       "</table>\n",
       "</div>"
      ],
      "text/plain": [
       "   Unnamed: 0  product_id                                      product_title  \\\n",
       "0           1  1445604752  Spitfire Ace of Aces: The Wartime Story of Joh...   \n",
       "1           2  080244864X  Hush: Moving From Silence to Healing After Chi...   \n",
       "2           3  0312536984  Eviction Notice: A Hood Rat Novel (Hood Rat No...   \n",
       "\n",
       "   helpful_votes  total_votes verified_purchase  \\\n",
       "0              2            2                 N   \n",
       "1              1            1                 N   \n",
       "2              0            0                 N   \n",
       "\n",
       "                                     review_headline  \\\n",
       "0  Engaging Account of the Combat Career of an RA...   \n",
       "1                  Best Book Ever (Next to the Bible   \n",
       "2                                     Wild and Crazy   \n",
       "\n",
       "                                         review_body  \n",
       "0  Back in 1964, I was introduced to 'Johnnie' Jo...  \n",
       "1  This book has helped me through a lot this pas...  \n",
       "2  A gripping read!  K'wan is on fire with this n...  "
      ]
     },
     "execution_count": 8,
     "metadata": {},
     "output_type": "execute_result"
    }
   ],
   "source": [
    "MC2test.head(3)"
   ]
  },
  {
   "cell_type": "markdown",
   "metadata": {
    "colab_type": "text",
    "id": "waX7N35UE3mJ"
   },
   "source": [
    "## Data Analysis"
   ]
  },
  {
   "cell_type": "markdown",
   "metadata": {
    "colab_type": "text",
    "id": "OcpSFMAoilyz"
   },
   "source": [
    "The two data sets at hand stem from Amazon reviews of books. The MC data set contains seven independent variables and one dependant variable (star_rating) and 1,099,209 observations. The test set cotains the same variables excluding the dependant variable and consists of 212,849 observations. \n",
    "The predictor variables of the training data will be saved to X and the target variables to y. As this a sentiment analysis based on textual data only the two variables review_headline and review_body will be used for predictions. Since the product_id vaiable identifies each book, the product_title variable is redundant and can be eliminated.\n",
    "As the star rating ranges from 1 to 5 this is a multi class problem with 5 classes. Hence the target variable star_rating needs to be transformed into 5 dummy variables via one hot encoding."
   ]
  },
  {
   "cell_type": "code",
   "execution_count": 9,
   "metadata": {
    "colab": {},
    "colab_type": "code",
    "id": "l1v_pmY-loF1"
   },
   "outputs": [
    {
     "data": {
      "text/plain": [
       "RangeIndex(start=0, stop=212849, step=1)"
      ]
     },
     "execution_count": 9,
     "metadata": {},
     "output_type": "execute_result"
    }
   ],
   "source": [
    "MC2.index # 1,099,209 observations\n",
    "MC2test.index # 212,849 observations"
   ]
  },
  {
   "cell_type": "code",
   "execution_count": 10,
   "metadata": {
    "colab": {
     "base_uri": "https://localhost:8080/",
     "height": 70
    },
    "colab_type": "code",
    "id": "fBZFlV2ewCxa",
    "outputId": "29bddd1b-fe68-4a13-bfef-129c48021931"
   },
   "outputs": [
    {
     "data": {
      "text/plain": [
       "review_headline    False\n",
       "review_body        False\n",
       "dtype: bool"
      ]
     },
     "execution_count": 10,
     "metadata": {},
     "output_type": "execute_result"
    }
   ],
   "source": [
    "MC2.dtypes # product_id appears to be numeric but is not because it can also contain letters\n",
    "pd.isnull(MC2).any() # review_headline and review_body contain NULL 13 and 2 values\n",
    "MC2.isnull().sum()\n",
    "MC2[['review_headline', 'review_body']].isnull().all() # No rows were review_headline AND review_body are NULL\n",
    "#MC2test.isnull().sum() # review_headline contains 3 rows with NULL values"
   ]
  },
  {
   "cell_type": "markdown",
   "metadata": {
    "colab_type": "text",
    "id": "sFa7hOxQ79mh"
   },
   "source": [
    "The two variables review_title and review_body contain a few Null values, but there are no cases where both are NUll. Therefore they should both be used to predict the sentiment."
   ]
  },
  {
   "cell_type": "code",
   "execution_count": 11,
   "metadata": {
    "colab": {
     "base_uri": "https://localhost:8080/",
     "height": 216
    },
    "colab_type": "code",
    "id": "N26qhnZoyz0W",
    "outputId": "2c174365-fbb3-4f33-85e2-986a65589738"
   },
   "outputs": [
    {
     "data": {
      "text/html": [
       "<div>\n",
       "<style scoped>\n",
       "    .dataframe tbody tr th:only-of-type {\n",
       "        vertical-align: middle;\n",
       "    }\n",
       "\n",
       "    .dataframe tbody tr th {\n",
       "        vertical-align: top;\n",
       "    }\n",
       "\n",
       "    .dataframe thead th {\n",
       "        text-align: right;\n",
       "    }\n",
       "</style>\n",
       "<table border=\"1\" class=\"dataframe\">\n",
       "  <thead>\n",
       "    <tr style=\"text-align: right;\">\n",
       "      <th></th>\n",
       "      <th>Unnamed: 0</th>\n",
       "      <th>product_id</th>\n",
       "      <th>product_title</th>\n",
       "      <th>star_rating</th>\n",
       "      <th>helpful_votes</th>\n",
       "      <th>total_votes</th>\n",
       "      <th>verified_purchase</th>\n",
       "      <th>review_headline</th>\n",
       "      <th>review_body</th>\n",
       "    </tr>\n",
       "  </thead>\n",
       "  <tbody>\n",
       "    <tr>\n",
       "      <th>1</th>\n",
       "      <td>2</td>\n",
       "      <td>1423151283</td>\n",
       "      <td>The Duckling Gets a Cookie!? (Pigeon)</td>\n",
       "      <td>5</td>\n",
       "      <td>0</td>\n",
       "      <td>0</td>\n",
       "      <td>N</td>\n",
       "      <td>Loved it!</td>\n",
       "      <td>My twins are 3 and they love the pigeon books!...</td>\n",
       "    </tr>\n",
       "    <tr>\n",
       "      <th>14802</th>\n",
       "      <td>14803</td>\n",
       "      <td>1423151283</td>\n",
       "      <td>The Duckling Gets a Cookie!? (Pigeon)</td>\n",
       "      <td>2</td>\n",
       "      <td>5</td>\n",
       "      <td>12</td>\n",
       "      <td>N</td>\n",
       "      <td>Boring</td>\n",
       "      <td>My family loved all of Mo's books, until now. ...</td>\n",
       "    </tr>\n",
       "  </tbody>\n",
       "</table>\n",
       "</div>"
      ],
      "text/plain": [
       "       Unnamed: 0  product_id                          product_title  \\\n",
       "1               2  1423151283  The Duckling Gets a Cookie!? (Pigeon)   \n",
       "14802       14803  1423151283  The Duckling Gets a Cookie!? (Pigeon)   \n",
       "\n",
       "       star_rating  helpful_votes  total_votes verified_purchase  \\\n",
       "1                5              0            0                 N   \n",
       "14802            2              5           12                 N   \n",
       "\n",
       "      review_headline                                        review_body  \n",
       "1           Loved it!  My twins are 3 and they love the pigeon books!...  \n",
       "14802          Boring  My family loved all of Mo's books, until now. ...  "
      ]
     },
     "execution_count": 11,
     "metadata": {},
     "output_type": "execute_result"
    }
   ],
   "source": [
    "MC2.loc[MC2['product_id'] == '1423151283'] # product_id identifies books"
   ]
  },
  {
   "cell_type": "markdown",
   "metadata": {
    "colab_type": "text",
    "id": "-SKuh07cTPgy"
   },
   "source": [
    "### Global Overview"
   ]
  },
  {
   "cell_type": "markdown",
   "metadata": {
    "colab_type": "text",
    "id": "YSQLe3AJ_PNg"
   },
   "source": [
    "The following graph shows the distribution of the target variable star_rating. It shows that it ranges from 1-5 . By far the most ratings are a 5 star rating and there are comparably few rating of 1 or 2 stars. The mean rating is 4,2 stars."
   ]
  },
  {
   "cell_type": "code",
   "execution_count": 9,
   "metadata": {
    "colab": {
     "base_uri": "https://localhost:8080/",
     "height": 287
    },
    "colab_type": "code",
    "id": "adj3JFi_2ZmG",
    "outputId": "be19c7a3-bae8-4b2b-88d0-452a983112ea"
   },
   "outputs": [
    {
     "data": {
      "text/plain": [
       "<matplotlib.axes._subplots.AxesSubplot at 0x1a3938b8d0>"
      ]
     },
     "execution_count": 9,
     "metadata": {},
     "output_type": "execute_result"
    },
    {
     "data": {
      "image/png": "[encoded data removed]",
      "text/plain": [
       "<Figure size 432x288 with 1 Axes>"
      ]
     },
     "metadata": {
      "needs_background": "light"
     },
     "output_type": "display_data"
    }
   ],
   "source": [
    "MC2['star_rating'].plot(kind=\"hist\")"
   ]
  },
  {
   "cell_type": "code",
   "execution_count": 10,
   "metadata": {
    "colab": {
     "base_uri": "https://localhost:8080/",
     "height": 175
    },
    "colab_type": "code",
    "id": "IAru5-KeTOhf",
    "outputId": "fcb1606a-7698-43c2-c46d-7a2f88ac7724"
   },
   "outputs": [
    {
     "data": {
      "text/plain": [
       "count    1.099209e+06\n",
       "mean     4.243608e+00\n",
       "std      1.184627e+00\n",
       "min      1.000000e+00\n",
       "25%      4.000000e+00\n",
       "50%      5.000000e+00\n",
       "75%      5.000000e+00\n",
       "max      5.000000e+00\n",
       "Name: star_rating, dtype: float64"
      ]
     },
     "execution_count": 10,
     "metadata": {},
     "output_type": "execute_result"
    }
   ],
   "source": [
    "MC2['star_rating'].describe()"
   ]
  },
  {
   "cell_type": "markdown",
   "metadata": {
    "colab_type": "text",
    "id": "Ii632xSGAIxL"
   },
   "source": [
    "There are reviews for 540,434 different books. The most reviewed books are Breaking Dawn (The Twilight Saga, Book 4) (822 reviews), The Shack: Where Tragedy Confronts Eternity (648 reviews) and Twilight (The Twilight Saga, Book 1) (581 reviews). 364,619 (67,5%) books only have one review. Only 7% of books have 5 or more reviews. This seems to suggest that the product_id will not have a major impact on the prediction of star ratings presumably only for the few books with very high numbers o reviews."
   ]
  },
  {
   "cell_type": "code",
   "execution_count": 11,
   "metadata": {
    "colab": {},
    "colab_type": "code",
    "id": "_CtsyH9Z_2ny"
   },
   "outputs": [],
   "source": [
    "review_freq = MC2['product_id'].value_counts().to_frame()"
   ]
  },
  {
   "cell_type": "markdown",
   "metadata": {
    "colab_type": "text",
    "id": "2pn7NdSkE33L"
   },
   "source": [
    "## Model"
   ]
  },
  {
   "cell_type": "markdown",
   "metadata": {
    "colab_type": "text",
    "id": "VZEWaJSGny8g"
   },
   "source": [
    "To set up the model now, we will first of all split the data into a train and test set. In a second step, we will drop redundant and non-textual variables. The outcome is a table, containing the columns product_id, review_headline and review_body."
   ]
  },
  {
   "cell_type": "markdown",
   "metadata": {
    "colab_type": "text",
    "id": "dCqUbu4DTXKs"
   },
   "source": [
    "### Save training and test data set"
   ]
  },
  {
   "cell_type": "code",
   "execution_count": 12,
   "metadata": {
    "colab": {},
    "colab_type": "code",
    "id": "Utov5GdCTWSI"
   },
   "outputs": [],
   "source": [
    "X = MC2\n",
    "X = X.drop(['star_rating', 'Unnamed: 0'], axis = 1) # Drop target 'star_rating' variable and unnecessary variable 'Unnamed'\n",
    "y = MC2['star_rating'] # Save target variable to y\n",
    "test = MC2test.drop(['Unnamed: 0'], axis = 1) # Drop unnecessary variable 'Unnamed' from test data set"
   ]
  },
  {
   "cell_type": "markdown",
   "metadata": {
    "colab_type": "text",
    "id": "8xCJDhJ52NAQ"
   },
   "source": [
    "Drop redundant variables and nontextual variables."
   ]
  },
  {
   "cell_type": "code",
   "execution_count": 13,
   "metadata": {
    "colab": {},
    "colab_type": "code",
    "id": "vRGhhi7vyeGS"
   },
   "outputs": [],
   "source": [
    "X = X.drop(['product_title', 'helpful_votes', 'total_votes', 'verified_purchase'], axis = 1)\n",
    "test = test.drop(['product_title', 'helpful_votes', 'total_votes', 'verified_purchase'], axis = 1)"
   ]
  },
  {
   "cell_type": "markdown",
   "metadata": {
    "colab_type": "text",
    "id": "XrXrBXmGUotY"
   },
   "source": [
    "### Data preprocessing"
   ]
  },
  {
   "cell_type": "markdown",
   "metadata": {
    "colab_type": "text",
    "id": "IuwUtswRn2cy"
   },
   "source": [
    "As the neural network only takes dummy variables, star_rating will be transformed into dummy variables. As the variables review_headline and review_body will be used for the textual analysis, merging them together and replacing NULL values with space is an essential part to simplify the further process. "
   ]
  },
  {
   "cell_type": "markdown",
   "metadata": {
    "colab_type": "text",
    "id": "_DZb-Iwa9uy4"
   },
   "source": [
    "Create dummy variables for target variable star_rating."
   ]
  },
  {
   "cell_type": "code",
   "execution_count": 15,
   "metadata": {
    "colab": {},
    "colab_type": "code",
    "id": "1x7RrNhW94bT"
   },
   "outputs": [
    {
     "data": {
      "text/plain": [
       "array([[0., 0., 0., 0., 1.],\n",
       "       [0., 0., 0., 0., 1.],\n",
       "       [0., 0., 0., 1., 0.],\n",
       "       ...,\n",
       "       [0., 0., 0., 1., 0.],\n",
       "       [0., 0., 0., 0., 1.],\n",
       "       [0., 0., 0., 0., 1.]], dtype=float32)"
      ]
     },
     "execution_count": 15,
     "metadata": {},
     "output_type": "execute_result"
    }
   ],
   "source": [
    "encoder = LabelEncoder()\n",
    "encoder.fit(MC2['star_rating'])\n",
    "encoded_Y = encoder.transform(MC2['star_rating'])\n",
    "dummy_y = np_utils.to_categorical(encoded_Y)\n",
    "dummy_y # 5 columns, 5 levels"
   ]
  },
  {
   "cell_type": "markdown",
   "metadata": {
    "colab_type": "text",
    "id": "Mis0TiYjUYkx"
   },
   "source": [
    "There are two textual variables review_headline and review_body that should be used for the sentiment analysis. Before that the NULL values need to be placed with space. They need to be merged. And the two separate variables dropped."
   ]
  },
  {
   "cell_type": "code",
   "execution_count": 16,
   "metadata": {
    "colab": {},
    "colab_type": "code",
    "id": "BshotVK5UxaZ"
   },
   "outputs": [
    {
     "data": {
      "text/plain": [
       "product_id         False\n",
       "review_headline    False\n",
       "review_body        False\n",
       "dtype: bool"
      ]
     },
     "execution_count": 16,
     "metadata": {},
     "output_type": "execute_result"
    }
   ],
   "source": [
    "X['review_headline'].fillna(' ', inplace = True)\n",
    "X['review_body'].fillna(' ', inplace = True)\n",
    "X.isnull().any()"
   ]
  },
  {
   "cell_type": "code",
   "execution_count": 17,
   "metadata": {
    "colab": {},
    "colab_type": "code",
    "id": "5sbzUkjKip9_"
   },
   "outputs": [
    {
     "data": {
      "text/html": [
       "<div>\n",
       "<style scoped>\n",
       "    .dataframe tbody tr th:only-of-type {\n",
       "        vertical-align: middle;\n",
       "    }\n",
       "\n",
       "    .dataframe tbody tr th {\n",
       "        vertical-align: top;\n",
       "    }\n",
       "\n",
       "    .dataframe thead th {\n",
       "        text-align: right;\n",
       "    }\n",
       "</style>\n",
       "<table border=\"1\" class=\"dataframe\">\n",
       "  <thead>\n",
       "    <tr style=\"text-align: right;\">\n",
       "      <th></th>\n",
       "      <th>product_id</th>\n",
       "      <th>review_headline</th>\n",
       "      <th>review_body</th>\n",
       "      <th>review</th>\n",
       "    </tr>\n",
       "  </thead>\n",
       "  <tbody>\n",
       "    <tr>\n",
       "      <th>0</th>\n",
       "      <td>0983797706</td>\n",
       "      <td>This is an inspirational and insightful book t...</td>\n",
       "      <td>This is an inspirational and insightful book t...</td>\n",
       "      <td>This is an inspirational and insightful book t...</td>\n",
       "    </tr>\n",
       "    <tr>\n",
       "      <th>1</th>\n",
       "      <td>1423151283</td>\n",
       "      <td>Loved it!</td>\n",
       "      <td>My twins are 3 and they love the pigeon books!...</td>\n",
       "      <td>Loved it! My twins are 3 and they love the pig...</td>\n",
       "    </tr>\n",
       "    <tr>\n",
       "      <th>2</th>\n",
       "      <td>1445604752</td>\n",
       "      <td>Engaging Account of the Combat Career of an RA...</td>\n",
       "      <td>Back in 1964, I was introduced to 'Johnnie' Jo...</td>\n",
       "      <td>Engaging Account of the Combat Career of an RA...</td>\n",
       "    </tr>\n",
       "  </tbody>\n",
       "</table>\n",
       "</div>"
      ],
      "text/plain": [
       "   product_id                                    review_headline  \\\n",
       "0  0983797706  This is an inspirational and insightful book t...   \n",
       "1  1423151283                                          Loved it!   \n",
       "2  1445604752  Engaging Account of the Combat Career of an RA...   \n",
       "\n",
       "                                         review_body  \\\n",
       "0  This is an inspirational and insightful book t...   \n",
       "1  My twins are 3 and they love the pigeon books!...   \n",
       "2  Back in 1964, I was introduced to 'Johnnie' Jo...   \n",
       "\n",
       "                                              review  \n",
       "0  This is an inspirational and insightful book t...  \n",
       "1  Loved it! My twins are 3 and they love the pig...  \n",
       "2  Engaging Account of the Combat Career of an RA...  "
      ]
     },
     "execution_count": 17,
     "metadata": {},
     "output_type": "execute_result"
    }
   ],
   "source": [
    "X['review'] = X.review_headline + ' ' + X.review_body\n",
    "#X = X.drop(['review_headline', 'review_body'], axis = 1)\n",
    "X.head(3)"
   ]
  },
  {
   "cell_type": "markdown",
   "metadata": {},
   "source": [
    "Same needs to be applied to the test data."
   ]
  },
  {
   "cell_type": "code",
   "execution_count": 29,
   "metadata": {},
   "outputs": [
    {
     "data": {
      "text/plain": [
       "product_id         False\n",
       "review_headline    False\n",
       "review_body        False\n",
       "review              True\n",
       "dtype: bool"
      ]
     },
     "execution_count": 29,
     "metadata": {},
     "output_type": "execute_result"
    }
   ],
   "source": [
    "test['review_headline'].fillna(' ', inplace = True)\n",
    "test['review_body'].fillna(' ', inplace = True)\n",
    "test.isnull().any()"
   ]
  },
  {
   "cell_type": "code",
   "execution_count": 73,
   "metadata": {
    "colab": {},
    "colab_type": "code",
    "id": "BWEHDyXmivi_"
   },
   "outputs": [
    {
     "data": {
      "text/plain": [
       "product_id         False\n",
       "review_headline    False\n",
       "review_body        False\n",
       "dtype: bool"
      ]
     },
     "execution_count": 73,
     "metadata": {},
     "output_type": "execute_result"
    }
   ],
   "source": [
    "test['review_headline'].fillna(' ', inplace = True)\n",
    "test['review_body'].fillna(' ', inplace = True)\n",
    "test.isnull().any()"
   ]
  },
  {
   "cell_type": "code",
   "execution_count": 31,
   "metadata": {
    "colab": {},
    "colab_type": "code",
    "id": "-2UtwzsFXzw7"
   },
   "outputs": [
    {
     "data": {
      "text/html": [
       "<div>\n",
       "<style scoped>\n",
       "    .dataframe tbody tr th:only-of-type {\n",
       "        vertical-align: middle;\n",
       "    }\n",
       "\n",
       "    .dataframe tbody tr th {\n",
       "        vertical-align: top;\n",
       "    }\n",
       "\n",
       "    .dataframe thead th {\n",
       "        text-align: right;\n",
       "    }\n",
       "</style>\n",
       "<table border=\"1\" class=\"dataframe\">\n",
       "  <thead>\n",
       "    <tr style=\"text-align: right;\">\n",
       "      <th></th>\n",
       "      <th>product_id</th>\n",
       "      <th>review_headline</th>\n",
       "      <th>review_body</th>\n",
       "      <th>review</th>\n",
       "    </tr>\n",
       "  </thead>\n",
       "  <tbody>\n",
       "    <tr>\n",
       "      <th>0</th>\n",
       "      <td>1445604752</td>\n",
       "      <td>Engaging Account of the Combat Career of an RA...</td>\n",
       "      <td>Back in 1964, I was introduced to 'Johnnie' Jo...</td>\n",
       "      <td>Engaging Account of the Combat Career of an RA...</td>\n",
       "    </tr>\n",
       "    <tr>\n",
       "      <th>1</th>\n",
       "      <td>080244864X</td>\n",
       "      <td>Best Book Ever (Next to the Bible</td>\n",
       "      <td>This book has helped me through a lot this pas...</td>\n",
       "      <td>Best Book Ever (Next to the Bible This book ha...</td>\n",
       "    </tr>\n",
       "    <tr>\n",
       "      <th>2</th>\n",
       "      <td>0312536984</td>\n",
       "      <td>Wild and Crazy</td>\n",
       "      <td>A gripping read!  K'wan is on fire with this n...</td>\n",
       "      <td>Wild and Crazy A gripping read!  K'wan is on f...</td>\n",
       "    </tr>\n",
       "  </tbody>\n",
       "</table>\n",
       "</div>"
      ],
      "text/plain": [
       "   product_id                                    review_headline  \\\n",
       "0  1445604752  Engaging Account of the Combat Career of an RA...   \n",
       "1  080244864X                  Best Book Ever (Next to the Bible   \n",
       "2  0312536984                                     Wild and Crazy   \n",
       "\n",
       "                                         review_body  \\\n",
       "0  Back in 1964, I was introduced to 'Johnnie' Jo...   \n",
       "1  This book has helped me through a lot this pas...   \n",
       "2  A gripping read!  K'wan is on fire with this n...   \n",
       "\n",
       "                                              review  \n",
       "0  Engaging Account of the Combat Career of an RA...  \n",
       "1  Best Book Ever (Next to the Bible This book ha...  \n",
       "2  Wild and Crazy A gripping read!  K'wan is on f...  "
      ]
     },
     "execution_count": 31,
     "metadata": {},
     "output_type": "execute_result"
    }
   ],
   "source": [
    "test['review'] = test.review_headline + ' ' + MC2test.review_body\n",
    "#test = test.drop(['review_headline', 'review_body'], axis = 1)\n",
    "test.head(3)"
   ]
  },
  {
   "cell_type": "markdown",
   "metadata": {
    "colab_type": "text",
    "id": "CZBuAQEWseJF"
   },
   "source": [
    "### Benchmark model"
   ]
  },
  {
   "cell_type": "markdown",
   "metadata": {
    "colab_type": "text",
    "id": "atL5T7ECT3lz"
   },
   "source": [
    "First of a simple benchmark model will be created. The score of this model will later be compard the the scre of the more complex model to evaluate its performance.\n",
    "Split data into training and test set:"
   ]
  },
  {
   "cell_type": "code",
   "execution_count": 169,
   "metadata": {
    "colab": {},
    "colab_type": "code",
    "id": "YtTmZSYHsn5a"
   },
   "outputs": [],
   "source": [
    "from sklearn.model_selection import train_test_split\n",
    "\n",
    "X_train_b, X_test_b, y_train_b, y_test_b = train_test_split(X['review'], y, test_size=0.25, random_state=111)"
   ]
  },
  {
   "cell_type": "code",
   "execution_count": 170,
   "metadata": {
    "colab": {},
    "colab_type": "code",
    "id": "1Bw_EdnpsycP"
   },
   "outputs": [],
   "source": [
    "from sklearn.feature_extraction.text import CountVectorizer"
   ]
  },
  {
   "cell_type": "code",
   "execution_count": null,
   "metadata": {
    "colab": {},
    "colab_type": "code",
    "id": "G11iCUkfs2Z9"
   },
   "outputs": [],
   "source": [
    "vectorizer = CountVectorizer() # text data needs to be vectorized\n",
    "vectorizer.fit(X_train_b)\n",
    "\n",
    "X_train_b = vectorizer.transform(X_train_b)\n",
    "X_test_b  = vectorizer.transform(X_test_b)"
   ]
  },
  {
   "cell_type": "code",
   "execution_count": 24,
   "metadata": {
    "colab": {
     "base_uri": "https://localhost:8080/",
     "height": 125
    },
    "colab_type": "code",
    "id": "-Ai9dKEns6fr",
    "outputId": "3a40a25f-885f-4e86-e8f8-9f479812b97b"
   },
   "outputs": [
    {
     "name": "stderr",
     "output_type": "stream",
     "text": [
      "/anaconda3/lib/python3.7/site-packages/sklearn/linear_model/logistic.py:460: FutureWarning: Default multi_class will be changed to 'auto' in 0.22. Specify the multi_class option to silence this warning.\n",
      "  \"this warning.\", FutureWarning)\n",
      "/anaconda3/lib/python3.7/site-packages/sklearn/linear_model/sag.py:334: ConvergenceWarning: The max_iter was reached which means the coef_ did not converge\n",
      "  \"the coef_ did not converge\", ConvergenceWarning)\n"
     ]
    },
    {
     "name": "stdout",
     "output_type": "stream",
     "text": [
      "Accuracy: 0.6836242690218084\n"
     ]
    }
   ],
   "source": [
    "from sklearn.linear_model import LogisticRegression\n",
    "\n",
    "#classifier = LogisticRegression(solver=\"lbfgs\")\n",
    "classifier = LogisticRegression(solver=\"saga\") # saga for large data sets\n",
    "classifier.fit(X_train_b, y_train_b)\n",
    "score_lr = classifier.score(X_test_b, y_test_b)\n",
    "\n",
    "print(\"Accuracy:\", score_lr) # Accuracy with saga: 0,6836"
   ]
  },
  {
   "cell_type": "markdown",
   "metadata": {},
   "source": [
    "The accuracy of the logistic regression model amounts to 0.68. This will be the score that the following models will be compared to."
   ]
  },
  {
   "cell_type": "markdown",
   "metadata": {
    "colab_type": "text",
    "id": "RsokWYR6B-xb"
   },
   "source": [
    "### Word tokenization"
   ]
  },
  {
   "cell_type": "markdown",
   "metadata": {
    "colab_type": "text",
    "id": "19ikOGT1n8Yr"
   },
   "source": [
    "To further prepare the text as an input for the word2vec model, the text will be tokenized. In other words, the text will be segmented into words, punctuations et cetera. To avoid confusion for the further processing algorithms, non-alphabetic characters will be removed, as well as html content will be dropped in a cleaning step of the text. In addition to that, the words will be lemmatized, which means that the words will be grouped together to their lemma (for example “was” --> “be” or “windows” --> “window”). \n",
    "As our neural networks cannot deal with string we will need to transform our review data. For this reason we are building a word2vector model. The resulting embeddings will be used as weights in our model. We then go on and transform strings to integer values according to the vocabulary."
   ]
  },
  {
   "cell_type": "code",
   "execution_count": 19,
   "metadata": {
    "colab": {},
    "colab_type": "code",
    "id": "rkcFEXTf-uSy"
   },
   "outputs": [],
   "source": [
    "data = X\n",
    "data_y = dummy_y\n",
    "data_test = test"
   ]
  },
  {
   "cell_type": "code",
   "execution_count": 21,
   "metadata": {
    "colab": {},
    "colab_type": "code",
    "id": "-HlQj6oP-uZx"
   },
   "outputs": [],
   "source": [
    "# Lemmatize with POS Tag\n",
    "from nltk.corpus import wordnet\n",
    "lemmatizer = WordNetLemmatizer()\n",
    "\n",
    "def get_wordnet_pos(word):\n",
    "    \"\"\"Map POS tag to first character lemmatize() accepts\"\"\"\n",
    "    tag = nltk.pos_tag([word])[0][1][0].upper()\n",
    "    tag_dict = {\"J\": wordnet.ADJ,\n",
    "                \"N\": wordnet.NOUN,\n",
    "                \"V\": wordnet.VERB,\n",
    "                \"R\": wordnet.ADV}\n",
    "\n",
    "    return tag_dict.get(tag, wordnet.NOUN)"
   ]
  },
  {
   "cell_type": "code",
   "execution_count": 22,
   "metadata": {
    "colab": {},
    "colab_type": "code",
    "id": "lO_WH6AA-ueP"
   },
   "outputs": [],
   "source": [
    "def clean_sentences(df):\n",
    "    reviews = []\n",
    "\n",
    "    for sent in df:\n",
    "        review_text = re.sub(\"[^a-zA-Z]\",\" \", review_text) #remove non-alphabetic characters\n",
    "        words = word_tokenize(review_text.lower()) # tokenize\n",
    "        lemma_words =[lemmatizer.lemmatize(i, get_wordnet_pos(i)) for i in words] # lemmatize each word\n",
    "    \n",
    "        reviews.append(lemma_words)\n",
    "\n",
    "    return(reviews)"
   ]
  },
  {
   "cell_type": "markdown",
   "metadata": {
    "colab_type": "text",
    "id": "uTOSO1GOaWSb"
   },
   "source": [
    "Clean the reviews of the data ."
   ]
  },
  {
   "cell_type": "code",
   "execution_count": null,
   "metadata": {
    "colab": {
     "base_uri": "https://localhost:8080/",
     "height": 140
    },
    "colab_type": "code",
    "id": "GQdaF6yd-uxV",
    "outputId": "2a906a4d-44fa-4676-f69c-7dfe413f5e49"
   },
   "outputs": [],
   "source": [
    "import warnings\n",
    "warnings.filterwarnings(\"ignore\", category=UserWarning, module='bs4')\n",
    "nltk.download('punkt')\n",
    "nltk.download('averaged_perceptron_tagger')\n",
    "nltk.download('wordnet')\n",
    "\n",
    "clean_review = clean_sentences(data['review'])\n",
    "clean_review_test = clean_sentences(data_test['review'])"
   ]
  },
  {
   "cell_type": "markdown",
   "metadata": {
    "colab_type": "text",
    "id": "myo4hGZuabjb"
   },
   "source": [
    "Throughout the assignment pickle will be used to safe large objects."
   ]
  },
  {
   "cell_type": "code",
   "execution_count": 215,
   "metadata": {
    "colab": {},
    "colab_type": "code",
    "id": "3Z_PccGp_sGC"
   },
   "outputs": [],
   "source": [
    "import pickle\n",
    "\n",
    "with open('clean_review.pkl','wb') as path_name:\n",
    "    pickle.dump(clean_review, path_name)\n",
    "\n",
    "with open('clean_review_test.pkl','wb') as path_name:\n",
    "    pickle.dump(clean_review_test, path_name)\n"
   ]
  },
  {
   "cell_type": "code",
   "execution_count": 24,
   "metadata": {},
   "outputs": [
    {
     "name": "stdout",
     "output_type": "stream",
     "text": [
      "['one', 'of', 'my', 'favorite', 'sci', 'fi', 'book', 'a', 'one', 'of', 'the', 'best', 'science', 'fiction', 'novel', 'today', 'the', 'commission', 'qi', 'saga', 'book', 'delivers', 'a', 'well', 'thought', 'of', 'storyline', 'and', 'concept', 'it', 'background', 'be', 'interestingly', 'set', 'billion', 'of', 'light', 'year', 'into', 'the', 'future', 'so', 'one', 'can', 'imagine', 'how', 'advanced', 'the', 'technology', 'be', 'a', 'well', 'a', 'the', 'new', 'attitude', 'of', 'humanity', 'br', 'br', 'no', 'matter', 'how', 'advanced', 'the', 'new', 'world', 'order', 'be', 'however', 'the', 'problem', 'face', 'by', 'the', 'people', 'of', 'the', 'new', 'time', 'be', 'still', 'the', 'same', 'thing', 'that', 'affect', 'today', 's', 'mankind', 'the', 'dark', 'energy', 'that', 'surround', 'the', 'qi', 'universe', 'threatens', 'to', 'wreck', 'havoc', 'to', 'the', 'system', 'and', 'this', 'result', 'in', 'massive', 'poverty', 'and', 'war', 'just', 'like', 'in', 'the', 'real', 'world', 'br', 'br', 'the', 'novel', 'mainly', 'revolves', 'around', 'a', 'set', 'of', 'ancient', 'equation', 'which', 'somehow', 'predicts', 'the', 'possible', 'destination', 'of', 'mankind', 'and', 'their', 'method', 'of', 'existence', 'while', 'the', 'so', 'call', 'commission', 'aim', 'to', 'destroy', 'the', 'peace', 'and', 'order', 'of', 'the', 'new', 'dimension', 'the', 'brotherhood', 'have', 'be', 'tasked', 'to', 'fight', 'and', 'protect', 'the', 'right', 'of', 'the', 'people', 'and', 'through', 'all', 'of', 'these', 'the', 'team', 'of', 'pandora', 'merely', 'hope', 'to', 'profit', 'from', 'the', 'war', 'and', 'dilemma', 'that', 'engulfs', 'the', 'system', 'br', 'br', 'a', 'a', 'reader', 'i', 'be', 'affected', 'that', 'the', 'fate', 'of', 'the', 'qi', 'universe', 'seem', 'uncertain', 'the', 'author', 'be', 'able', 'to', 'give', 'a', 'vivid', 'description', 'of', 'how', 'thing', 'be', 'go', 'on', 'in', 'this', 'universe', 'and', 'the', 'way', 'it', 'impend', 'destruction', 'be', 'described', 'can', 'really', 'be', 'quite', 'disturb', 'and', 'alarm', 'it', 's', 'almost', 'a', 'if', 'my', 'own', 'personal', 'safety', 'be', 'also', 'on', 'the', 'line', 'a', 'with', 'the', 'people', 'of', 'those', 'time', 'br', 'br', 'fortunately', 'there', 's', 'hope', 'in', 'all', 'these', 'chaos', 'a', 'there', 'exists', 'a', 'black', 'mysterious', 'pearl', 'that', 'can', 'turn', 'the', 'dark', 'fate', 'of', 'the', 'universe', 'into', 'something', 'more', 'encourage', 'and', 'worth', 'look', 'forward', 'to', 'and', 'personally', 'in', 'spite', 'of', 'all', 'the', 'negative', 'force', 'that', 'prevail', 'in', 'this', 'future', 'world', 'i', 'still', 'want', 'it', 'save', 'and', 'reconstruct', 'to', 'fit', 'the', 'existence', 'of', 'human', 'life', 'br', 'br', 'overall', 'the', 'book', 'be', 'a', 'space', 'adventure', 'saga', 'a', 'it', 'deal', 'with', 'modern', 'technology', 'and', 'existence', 'of', 'futuristic', 'method', 'there', 'be', 'suspense', 'thriller', 'and', 'horror', 'aspectstoo', 'a', 'the', 'battle', 'of', 'good', 'versus', 'evil', 'happens', 'in', 'this', 'universe', 'too', 'in', 'spite', 'of', 'the', 'twist', 'and', 'mystery', 'however', 'there', 'be', 'also', 'romantic', 'moment', 'to', 'keep', 'the', 'heart', 'in', 'focus', 'amidst', 'all', 'the', 'war', 'and', 'confusion', 'br', 'br', 'the', 'situation', 'in', 'the', 'qi', 'universe', 'can', 'be', 'compare', 'to', 'the', 'present', 'situation', 'of', 'mankind', 'and', 'the', 'problem', 'that', 'we', 'be', 'face', 'today', 'a', 'such', 'it', 'raise', 'the', 'question', 'of', 'man', 's', 'duty', 'and', 'purpose', 'of', 'existence', 'moreover', 'it', 'make', 'u', 'look', 'into', 'the', 'future', 'with', 'anticipation', 'and', 'caution', 'a', 'our', 'action', 'will', 'definitely', 'have', 'an', 'impact', 'to', 'future', 'generation', 'br', 'br', 'the', 'character', 'in', 'the', 'book', 'be', 'all', 'realistic', 'and', 'reader', 'will', 'find', 'it', 'easy', 'to', 'relate', 'and', 'identify', 'with', 'them', 'ara', 'who', 'posse', 'the', 'black', 'pearl', 'be', 'the', 'heroine', 'and', 'she', 'serf', 'a', 'a', 'great', 'inspiration', 'a', 'the', 'pearl', 'be', 'capable', 'of', 'save', 'or', 'destroy', 'the', 'universe', 'it', 'give', 'reader', 'the', 'opportunity', 'to', 'dwell', 'on', 'the', 'idea', 'on', 'whether', 'it', 'be', 'indeed', 'worth', 'save', 'or', 'not', 'br', 'br', 'el', 'the', 'other', 'main', 'character', 'of', 'the', 'story', 'have', 'somewhat', 'lose', 'his', 'faith', 'in', 'the', 'futuristic', 'universe', 'and', 'we', 'can', 'also', 'relate', 'to', 'his', 'sentiment', 'a', 'we', 'be', 'also', 'see', 'the', 'same', 'dishearten', 'problem', 'in', 'our', 'present', 'world', 'br', 'br', 'this', 'book', 'be', 'truly', 'a', 'great', 'sci', 'fi', 'novel', 'and', 'it', 'be', 'both', 'entertain', 'and', 'thought', 'provoke', 'just', 'when', 'you', 'think', 'you', 'get', 'it', 'all', 'figure', 'out', 'the', 'character', 'behave', 'differently', 'to', 'add', 'more', 'twist', 'and', 'turn', 'to', 'the', 'story', 'and', 'for', 'that', 'i', 'commend', 'the', 'author', 's', 'dawn', 'nelson', 'i', 'be', 'a', 'fan', 'of', 'science', 'fiction', 'and', 'this', 'be', 'one', 'of', 'my', 'favorite', 'book', 'to', 'date']\n",
      "['solid', 'fact', 'about', 'milk', 'dr', 'patton', 'have', 'have', 'a', 'lifetime', 'of', 'experience', 'in', 'research', 'and', 'education', 'work', 'with', 'milk', 'and', 'it', 'various', 'derivative', 'his', 'book', 'deal', 'with', 'fact', 'back', 'by', 'science', 'rather', 'than', 'hyperbole', 'so', 'everything', 'he', 'writes', 'can', 'be', 'trust', 'despite', 'his', 'academic', 'background', 'it', 'be', 'an', 'easy', 'read', 'that', 'be', 'also', 'intersperse', 'with', 'personal', 'anecdote', 'i', 'would', 'buy', 'it', 'again']\n"
     ]
    }
   ],
   "source": [
    "with open('clean_review.pkl','rb') as path_name:\n",
    "    clean_review = pickle.load(path_name)\n",
    "    print(clean_review[10])\n",
    "    \n",
    "with open('clean_review_test.pkl','rb') as path_name:\n",
    "    clean_review_test = pickle.load(path_name)\n",
    "    print(clean_review_test[10])\n",
    "    "
   ]
  },
  {
   "cell_type": "markdown",
   "metadata": {
    "colab_type": "text",
    "id": "1qZPfl54AVDq"
   },
   "source": [
    "### Word2vec"
   ]
  },
  {
   "cell_type": "markdown",
   "metadata": {
    "colab_type": "text",
    "id": "FooHP5BKbYQI"
   },
   "source": [
    "Train Word2Vec model for training data."
   ]
  },
  {
   "cell_type": "code",
   "execution_count": 247,
   "metadata": {
    "colab": {
     "base_uri": "https://localhost:8080/",
     "height": 34
    },
    "colab_type": "code",
    "id": "wMsTNIfm_sZt",
    "outputId": "2011fb8f-1b8d-42b7-a4dc-df5eb3dafd77"
   },
   "outputs": [
    {
     "name": "stdout",
     "output_type": "stream",
     "text": [
      "Word2Vec(vocab=517322, size=100, alpha=0.025)\n"
     ]
    }
   ],
   "source": [
    "from gensim.models import Word2Vec    \n",
    "\n",
    "emb=100 # size of embedding dimension\n",
    "\n",
    "\n",
    "model = Word2Vec(clean_review, \n",
    "                 min_count=1, #frequency benchmark: we want to keep all words\n",
    "                 window=5, #the size of context\n",
    "                 iter =100, \n",
    "                 size=emb, #size of embedding\n",
    "                 workers=3 \n",
    "\n",
    "print(model)\n",
    "words=list(model.wv.vocab)"
   ]
  },
  {
   "cell_type": "code",
   "execution_count": null,
   "metadata": {
    "colab": {
     "base_uri": "https://localhost:8080/",
     "height": 72
    },
    "colab_type": "code",
    "id": "xhVP3Vlt_ssY",
    "outputId": "da11c04b-a05a-47dd-a4b5-2920a491c8aa"
   },
   "outputs": [],
   "source": [
    "embs=\"review_embeddings.txt\"\n",
    "model.wv.save_word2vec_format(embs, binary=False)"
   ]
  },
  {
   "cell_type": "markdown",
   "metadata": {},
   "source": [
    "As our model cannot deal with strings, we transform them to sequences of numbers."
   ]
  },
  {
   "cell_type": "code",
   "execution_count": 25,
   "metadata": {
    "colab": {},
    "colab_type": "code",
    "id": "mpj-BtV0_soE"
   },
   "outputs": [
    {
     "data": {
      "text/plain": [
       "[58,\n",
       " 9,\n",
       " 31,\n",
       " 2069,\n",
       " 2,\n",
       " 4,\n",
       " 43,\n",
       " 58,\n",
       " 1,\n",
       " 7788,\n",
       " 10,\n",
       " 11,\n",
       " 27,\n",
       " 4,\n",
       " 121,\n",
       " 26,\n",
       " 298,\n",
       " 1,\n",
       " 7788,\n",
       " 943,\n",
       " 1,\n",
       " 3460,\n",
       " 2,\n",
       " 62,\n",
       " 333,\n",
       " 1,\n",
       " 616,\n",
       " 4,\n",
       " 644,\n",
       " 5,\n",
       " 11,\n",
       " 70,\n",
       " 2,\n",
       " 37,\n",
       " 51,\n",
       " 7,\n",
       " 5441,\n",
       " 3,\n",
       " 82,\n",
       " 3,\n",
       " 43,\n",
       " 25,\n",
       " 4,\n",
       " 7,\n",
       " 121,\n",
       " 26,\n",
       " 87,\n",
       " 243,\n",
       " 89,\n",
       " 9,\n",
       " 132,\n",
       " 4,\n",
       " 132,\n",
       " 7,\n",
       " 59,\n",
       " 367,\n",
       " 83,\n",
       " 103,\n",
       " 3,\n",
       " 361,\n",
       " 126]"
      ]
     },
     "execution_count": 25,
     "metadata": {},
     "output_type": "execute_result"
    }
   ],
   "source": [
    "from keras.preprocessing.text import Tokenizer\n",
    "\n",
    "tokenizer_obj=Tokenizer()\n",
    "tokenizer_obj.fit_on_texts(clean_review)\n",
    "seq = tokenizer_obj.texts_to_sequences(clean_review)\n",
    "seq[1]"
   ]
  },
  {
   "cell_type": "markdown",
   "metadata": {},
   "source": [
    "The same procedure will be applied to the test data set."
   ]
  },
  {
   "cell_type": "code",
   "execution_count": null,
   "metadata": {
    "colab": {},
    "colab_type": "code",
    "id": "550sr05NgGei"
   },
   "outputs": [],
   "source": [
    "tokenizer_obj_test = Tokenizer()\n",
    "tokenizer_obj_test.fit_on_texts(clean_review_test)\n",
    "seq_test = tokenizer_obj_test.texts_to_sequences(clean_review_test)\n",
    "seq_test[1]"
   ]
  },
  {
   "cell_type": "markdown",
   "metadata": {},
   "source": [
    "Find out how long the reviews are in order to decide on a uniform length for all sequences."
   ]
  },
  {
   "cell_type": "code",
   "execution_count": 27,
   "metadata": {
    "colab": {
     "base_uri": "https://localhost:8080/",
     "height": 34
    },
    "colab_type": "code",
    "id": "lBEwbKp-_sku",
    "outputId": "dc1ed8f5-e0c9-444d-f95b-dd700e9efb9a"
   },
   "outputs": [
    {
     "name": "stdout",
     "output_type": "stream",
     "text": [
      "9150\n"
     ]
    }
   ],
   "source": [
    "longestsentence=max([len(s.split()) for s in data[\"review\"]])\n",
    "print(longestsentence)"
   ]
  },
  {
   "cell_type": "code",
   "execution_count": 33,
   "metadata": {
    "colab": {
     "base_uri": "https://localhost:8080/",
     "height": 34
    },
    "colab_type": "code",
    "id": "jNw3nxsTheW1",
    "outputId": "3255f211-8cea-45fc-b023-d3cef022902d"
   },
   "outputs": [
    {
     "name": "stdout",
     "output_type": "stream",
     "text": [
      "7799\n"
     ]
    }
   ],
   "source": [
    "longestsentence_test =max([len(s.split()) for s in data_test[\"review\"]])\n",
    "print(longestsentence_test)"
   ]
  },
  {
   "cell_type": "code",
   "execution_count": 34,
   "metadata": {},
   "outputs": [
    {
     "name": "stdout",
     "output_type": "stream",
     "text": [
      "550\n"
     ]
    }
   ],
   "source": [
    "major_sen = np.percentile([len(s.split()) for s in data[\"review\"]], 95)\n",
    "major_sen = int(major_sen)\n",
    "major_sen = 550\n",
    "print(major_sen) "
   ]
  },
  {
   "cell_type": "code",
   "execution_count": 35,
   "metadata": {},
   "outputs": [
    {
     "name": "stdout",
     "output_type": "stream",
     "text": [
      "535\n"
     ]
    }
   ],
   "source": [
    "major_sen_test = np.percentile([len(s.split()) for s in data_test[\"review\"]], 95)\n",
    "major_sen_test = int(major_sen_test)\n",
    "print(major_sen_test) "
   ]
  },
  {
   "cell_type": "markdown",
   "metadata": {},
   "source": [
    "The longest sentence in our data is 9150 words long. However 95% of reviews is not more than 557 words long. It therefore does not make sense to pad the sequences to the length of the longest sentece. We will cut off all sequences after 550 words. Even though there are a few extremely long reviews, it does not make sense to pad all sequences up to that length as it will fill most vectors with unnecessary numbers of zeros and will slow down computations.\n"
   ]
  },
  {
   "cell_type": "code",
   "execution_count": 36,
   "metadata": {
    "colab": {
     "base_uri": "https://localhost:8080/",
     "height": 34
    },
    "colab_type": "code",
    "id": "8Ytdj1I9_shd",
    "outputId": "ea2d2aa9-2a20-4e33-abe8-22dd38eb352a"
   },
   "outputs": [
    {
     "name": "stdout",
     "output_type": "stream",
     "text": [
      "(1099209, 550)\n"
     ]
    }
   ],
   "source": [
    "from keras.preprocessing.sequence import pad_sequences\n",
    "\n",
    "padded = pad_sequences(seq, major_sen)\n",
    "print(padded.shape) # 1,099,209 reviews with length 550"
   ]
  },
  {
   "cell_type": "code",
   "execution_count": 37,
   "metadata": {
    "colab": {
     "base_uri": "https://localhost:8080/",
     "height": 34
    },
    "colab_type": "code",
    "id": "uXK7poushp6I",
    "outputId": "9e210416-4e08-45be-d0be-555552916523"
   },
   "outputs": [
    {
     "name": "stdout",
     "output_type": "stream",
     "text": [
      "(212849, 550)\n"
     ]
    }
   ],
   "source": [
    "padded_test = pad_sequences(seq_test, major_sen)\n",
    "\n",
    "print(padded_test.shape) # 212,849 reviews with length 550"
   ]
  },
  {
   "cell_type": "markdown",
   "metadata": {},
   "source": [
    "For training and testing purposed we split our data."
   ]
  },
  {
   "cell_type": "code",
   "execution_count": 38,
   "metadata": {},
   "outputs": [],
   "source": [
    "X_train, X_test, y_train, y_test = train_test_split(padded, data_y, test_size=0.25, random_state=111)"
   ]
  },
  {
   "cell_type": "markdown",
   "metadata": {},
   "source": [
    "We are dealing with an extremely large, imbalanced data set (> 1m observations) for our training data. The whole data set will be used to build a word2vec model. However the data is to large to use all of it for training a Neural Network on it. We will therefore use only 10k observations of the data to train and test the model."
   ]
  },
  {
   "cell_type": "code",
   "execution_count": 40,
   "metadata": {
    "colab": {},
    "colab_type": "code",
    "id": "W1Fzd2rnEGAW"
   },
   "outputs": [],
   "source": [
    "X_train = X_train[0:7500]\n",
    "y_train = y_train[0:7500]\n",
    "\n",
    "X_test = X_test[7500:10000]\n",
    "y_test = y_test[7500:10000]"
   ]
  },
  {
   "cell_type": "code",
   "execution_count": 41,
   "metadata": {
    "colab": {},
    "colab_type": "code",
    "id": "tTgISmxwEGPf"
   },
   "outputs": [],
   "source": [
    "embeddings_index={}\n",
    "with open(\"review_embeddings.txt\") as loaded_embs:\n",
    "    for line in loaded_embs:\n",
    "        values=line.split()\n",
    "        word=values[0]\n",
    "        coefs=np.asarray(values[1:])\n",
    "        embeddings_index[word]=coefs"
   ]
  },
  {
   "cell_type": "code",
   "execution_count": 42,
   "metadata": {
    "colab": {},
    "colab_type": "code",
    "id": "zSloAJv9EGUB"
   },
   "outputs": [
    {
     "data": {
      "text/plain": [
       "array(['-4.7077694', '2.545806', '2.3801594', '-0.7703529', '4.1298585',\n",
       "       '1.9108533', '4.6080737', '1.5502145', '-1.259456', '5.013283',\n",
       "       '4.312873', '4.780065', '1.4861152', '-0.7023201', '5.85377',\n",
       "       '0.8746527', '0.7703183', '1.4074601', '2.9869661', '-4.4509454',\n",
       "       '2.0454273', '6.634194', '-3.51113', '5.937139', '0.68921554',\n",
       "       '4.4759293', '-2.7606711', '5.2337713', '4.8797803', '-4.7777658',\n",
       "       '3.512565', '2.396592', '-1.7216015', '-1.7062151', '-2.5339084',\n",
       "       '-4.9228444', '0.5948223', '-0.5283065', '-1.9803723',\n",
       "       '-1.5160193', '-2.89277', '1.2613177', '-5.1518407', '5.5040298',\n",
       "       '-0.55865055', '2.2082243', '2.0821166', '-3.727558', '-2.7567456',\n",
       "       '2.8929608', '-1.3321478', '-6.5565877', '4.307954', '-1.1635205',\n",
       "       '-0.23576212', '-0.39269993', '2.6890645', '2.754968', '0.7476198',\n",
       "       '5.1306963', '2.2319639', '0.11582934', '-1.0654523', '-4.2455406',\n",
       "       '4.961341', '-5.175074', '-1.0661544', '-4.794503', '-2.012948',\n",
       "       '3.7271671', '1.7316451', '-1.7352384', '-2.044028', '-2.1752417',\n",
       "       '0.57038504', '4.4871182', '2.3444872', '-3.7980561', '1.8117434',\n",
       "       '3.1277704', '-3.8873565', '-1.5995525', '-4.2423873', '5.634279',\n",
       "       '-0.5661801', '1.1183045', '-2.4413853', '4.7269053', '-1.0539899',\n",
       "       '2.6816416', '2.887367', '-3.509512', '4.057571', '-1.3170571',\n",
       "       '-1.1980435', '-4.335885', '1.3877319', '-2.1306224', '0.93002653',\n",
       "       '6.4281588'], dtype='<U11')"
      ]
     },
     "execution_count": 42,
     "metadata": {},
     "output_type": "execute_result"
    }
   ],
   "source": [
    "embeddings_index[\"book\"]"
   ]
  },
  {
   "cell_type": "code",
   "execution_count": 43,
   "metadata": {
    "colab": {},
    "colab_type": "code",
    "id": "q8x0FIajEGL-"
   },
   "outputs": [
    {
     "data": {
      "text/plain": [
       "517322"
      ]
     },
     "execution_count": 43,
     "metadata": {},
     "output_type": "execute_result"
    }
   ],
   "source": [
    "word_index=tokenizer_obj.word_index\n",
    "len(word_index) #size of vocab 517322"
   ]
  },
  {
   "cell_type": "markdown",
   "metadata": {},
   "source": [
    "Our vocabulary has asize of 517,322. That is the number of different words that our model will get to know."
   ]
  },
  {
   "cell_type": "code",
   "execution_count": 45,
   "metadata": {
    "colab": {},
    "colab_type": "code",
    "id": "pI5iC174EGJH"
   },
   "outputs": [],
   "source": [
    "num_words=len(word_index)+1\n",
    "embedding_matrix=np.zeros((num_words, emb))"
   ]
  },
  {
   "cell_type": "code",
   "execution_count": null,
   "metadata": {
    "colab": {
     "base_uri": "https://localhost:8080/",
     "height": 52
    },
    "colab_type": "code",
    "id": "Tm9BF7DhEGEf",
    "outputId": "626b8b3a-5afc-414d-a130-851dd9ca7415"
   },
   "outputs": [],
   "source": [
    "for word, i in word_index.items():\n",
    "    if i > num_words:\n",
    "        continue\n",
    "    embedding_vector=embeddings_index[word]\n",
    "\n",
    "    if embedding_vector is not None:\n",
    "        embedding_matrix[i]=embedding_vector\n"
   ]
  },
  {
   "cell_type": "code",
   "execution_count": 320,
   "metadata": {},
   "outputs": [
    {
     "name": "stdout",
     "output_type": "stream",
     "text": [
      "(517323, 100)\n",
      "517323\n"
     ]
    }
   ],
   "source": [
    "print(embedding_matrix.shape)\n",
    "print(num_words)"
   ]
  },
  {
   "cell_type": "code",
   "execution_count": 48,
   "metadata": {},
   "outputs": [],
   "source": [
    "#save the embedding matrix \n",
    "with open('embedding_matrix.pkl','wb') as path_name:\n",
    "    pickle.dump(embedding_matrix, path_name)\n"
   ]
  },
  {
   "cell_type": "markdown",
   "metadata": {
    "colab_type": "text",
    "id": "8Xx8b7GXLQFV"
   },
   "source": [
    "## Setting up and training the classifier network"
   ]
  },
  {
   "cell_type": "markdown",
   "metadata": {},
   "source": [
    "We will first set up a basic network with a GRU layer. We are choosing 8 neurons in the GRU layer in order to keep computations fast in this first model. As this is a multiclass problem we choose the softmax function in our output layer and categorical crossentropy as our loss function."
   ]
  },
  {
   "cell_type": "code",
   "execution_count": 54,
   "metadata": {},
   "outputs": [],
   "source": [
    "from keras.applications import Xception\n",
    "from keras.utils import multi_gpu_model"
   ]
  },
  {
   "cell_type": "code",
   "execution_count": 49,
   "metadata": {
    "colab": {},
    "colab_type": "code",
    "id": "fZY9LBDL-uVk"
   },
   "outputs": [],
   "source": [
    "epochs=25"
   ]
  },
  {
   "cell_type": "code",
   "execution_count": 56,
   "metadata": {},
   "outputs": [
    {
     "name": "stdout",
     "output_type": "stream",
     "text": [
      "_________________________________________________________________\n",
      "Layer (type)                 Output Shape              Param #   \n",
      "=================================================================\n",
      "embedding_6 (Embedding)      (None, 550, 100)          51732300  \n",
      "_________________________________________________________________\n",
      "gru_6 (GRU)                  (None, 8)                 2616      \n",
      "_________________________________________________________________\n",
      "dense_2 (Dense)              (None, 5)                 45        \n",
      "=================================================================\n",
      "Total params: 51,734,961\n",
      "Trainable params: 2,661\n",
      "Non-trainable params: 51,732,300\n",
      "_________________________________________________________________\n"
     ]
    }
   ],
   "source": [
    "embedding_layer_1=Embedding(num_words, #size of vocab\n",
    "                            emb, #embedding size\n",
    "                            embeddings_initializer=Constant(embedding_matrix), #weights\n",
    "                            input_length=major_sen, \n",
    "                            trainable=False \n",
    "                            )\n",
    "\n",
    "model_1=Sequential()                        \n",
    "model_1.add(embedding_layer_1)\n",
    "model_1.add(GRU(8))\n",
    "model_1.add(Dense(5, activation=\"softmax\"))\n",
    "model_1.compile(loss = \"categorical_crossentropy\", optimizer=\"adam\", metrics=[\"accuracy\"])\n",
    "model_1.summary()"
   ]
  },
  {
   "cell_type": "code",
   "execution_count": 57,
   "metadata": {},
   "outputs": [],
   "source": [
    "import h5py\n",
    "model_1.save('model_1')"
   ]
  },
  {
   "cell_type": "code",
   "execution_count": 59,
   "metadata": {},
   "outputs": [
    {
     "name": "stdout",
     "output_type": "stream",
     "text": [
      "WARNING:tensorflow:From /anaconda3/lib/python3.7/site-packages/tensorflow/python/ops/math_ops.py:3066: to_int32 (from tensorflow.python.ops.math_ops) is deprecated and will be removed in a future version.\n",
      "Instructions for updating:\n",
      "Use tf.cast instead.\n",
      "Train on 7500 samples, validate on 2500 samples\n",
      "Epoch 1/25\n",
      "7500/7500 [==============================] - 37s 5ms/step - loss: 1.7777 - acc: 0.2708 - val_loss: 1.6758 - val_acc: 0.3324\n",
      "Epoch 2/25\n",
      "7500/7500 [==============================] - 16s 2ms/step - loss: 1.4947 - acc: 0.4100 - val_loss: 1.5012 - val_acc: 0.4124\n",
      "Epoch 3/25\n",
      "7500/7500 [==============================] - 15s 2ms/step - loss: 1.3492 - acc: 0.4865 - val_loss: 1.3876 - val_acc: 0.4828\n",
      "Epoch 4/25\n",
      "7500/7500 [==============================] - 17s 2ms/step - loss: 1.2574 - acc: 0.5407 - val_loss: 1.3175 - val_acc: 0.5348\n",
      "Epoch 5/25\n",
      "7500/7500 [==============================] - 19s 2ms/step - loss: 1.2012 - acc: 0.5753 - val_loss: 1.2780 - val_acc: 0.5580\n",
      "Epoch 6/25\n",
      "7500/7500 [==============================] - 18s 2ms/step - loss: 1.1660 - acc: 0.5919 - val_loss: 1.2504 - val_acc: 0.5652\n",
      "Epoch 7/25\n",
      "7500/7500 [==============================] - 18s 2ms/step - loss: 1.1421 - acc: 0.6009 - val_loss: 1.2329 - val_acc: 0.5740\n",
      "Epoch 8/25\n",
      "7500/7500 [==============================] - 20s 3ms/step - loss: 1.1246 - acc: 0.6072 - val_loss: 1.2194 - val_acc: 0.5784\n",
      "Epoch 9/25\n",
      "7500/7500 [==============================] - 19s 2ms/step - loss: 1.1108 - acc: 0.6121 - val_loss: 1.2087 - val_acc: 0.5832\n",
      "Epoch 10/25\n",
      "7500/7500 [==============================] - 18s 2ms/step - loss: 1.0994 - acc: 0.6148 - val_loss: 1.2022 - val_acc: 0.5880\n",
      "Epoch 11/25\n",
      "7500/7500 [==============================] - 21s 3ms/step - loss: 1.0895 - acc: 0.6173 - val_loss: 1.1959 - val_acc: 0.5904\n",
      "Epoch 12/25\n",
      "7500/7500 [==============================] - 19s 3ms/step - loss: 1.0810 - acc: 0.6183 - val_loss: 1.1896 - val_acc: 0.5888\n",
      "Epoch 13/25\n",
      "7500/7500 [==============================] - 18s 2ms/step - loss: 1.0725 - acc: 0.6189 - val_loss: 1.1850 - val_acc: 0.5892\n",
      "Epoch 14/25\n",
      "7500/7500 [==============================] - 18s 2ms/step - loss: 1.0657 - acc: 0.6204 - val_loss: 1.1797 - val_acc: 0.5916\n",
      "Epoch 15/25\n",
      "7500/7500 [==============================] - 18s 2ms/step - loss: 1.0597 - acc: 0.6223 - val_loss: 1.1751 - val_acc: 0.5960\n",
      "Epoch 16/25\n",
      "7500/7500 [==============================] - 17s 2ms/step - loss: 1.0532 - acc: 0.6253 - val_loss: 1.1713 - val_acc: 0.5956\n",
      "Epoch 17/25\n",
      "7500/7500 [==============================] - 18s 2ms/step - loss: 1.0475 - acc: 0.6248 - val_loss: 1.1683 - val_acc: 0.5952\n",
      "Epoch 18/25\n",
      "7500/7500 [==============================] - 18s 2ms/step - loss: 1.0426 - acc: 0.6269 - val_loss: 1.1672 - val_acc: 0.5964\n",
      "Epoch 19/25\n",
      "7500/7500 [==============================] - 20s 3ms/step - loss: 1.0368 - acc: 0.6276 - val_loss: 1.1623 - val_acc: 0.5984\n",
      "Epoch 20/25\n",
      "7500/7500 [==============================] - 20s 3ms/step - loss: 1.0321 - acc: 0.6297 - val_loss: 1.1633 - val_acc: 0.5944\n",
      "Epoch 21/25\n",
      "7500/7500 [==============================] - 21s 3ms/step - loss: 1.0280 - acc: 0.6311 - val_loss: 1.1602 - val_acc: 0.5944\n",
      "Epoch 22/25\n",
      "7500/7500 [==============================] - 22s 3ms/step - loss: 1.0235 - acc: 0.6304 - val_loss: 1.1584 - val_acc: 0.5952\n",
      "Epoch 23/25\n",
      "7500/7500 [==============================] - 22s 3ms/step - loss: 1.0182 - acc: 0.6323 - val_loss: 1.1589 - val_acc: 0.5964\n",
      "Epoch 24/25\n",
      "7500/7500 [==============================] - 23s 3ms/step - loss: 1.0136 - acc: 0.6328 - val_loss: 1.1560 - val_acc: 0.5952\n",
      "Epoch 25/25\n",
      "7500/7500 [==============================] - 20s 3ms/step - loss: 1.0099 - acc: 0.6333 - val_loss: 1.1532 - val_acc: 0.5960\n"
     ]
    }
   ],
   "source": [
    "history_1 = model_1.fit(X_train,y_train, batch_size=256, epochs=epochs, validation_data = (X_test, y_test), shuffle=True, verbose=1,)\n"
   ]
  },
  {
   "cell_type": "code",
   "execution_count": null,
   "metadata": {},
   "outputs": [],
   "source": [
    "history_1.save('history_1')\n",
    "history_1.save_weights('history_w_1')"
   ]
  },
  {
   "cell_type": "code",
   "execution_count": 61,
   "metadata": {},
   "outputs": [
    {
     "data": {
      "image/png": "[encoded data removed]",
      "text/plain": [
       "<Figure size 432x288 with 1 Axes>"
      ]
     },
     "metadata": {
      "needs_background": "light"
     },
     "output_type": "display_data"
    }
   ],
   "source": [
    "plt.plot(history_1.history['acc'])\n",
    "plt.plot(history_1.history['val_acc'])\n",
    "plt.title('model_1 accuracy')\n",
    "plt.ylabel('accuracy')\n",
    "plt.xlabel('epoch')\n",
    "plt.legend(['train', 'validation'], loc='upper left')\n",
    "plt.show()"
   ]
  },
  {
   "cell_type": "markdown",
   "metadata": {},
   "source": [
    "The plot of the model accuracy shows that it does not perform better than the benchmark model (less than 0.596 validation accuracy). It moreover reveals significant overfitting, as the training accuracy keeps rising above the validation accuracy from the 4th epoch on."
   ]
  },
  {
   "cell_type": "code",
   "execution_count": 62,
   "metadata": {},
   "outputs": [
    {
     "name": "stdout",
     "output_type": "stream",
     "text": [
      "Saved model to disk\n",
      "Test loss: 1.1532263286590576\n",
      "Test accuracy: 0.596\n"
     ]
    }
   ],
   "source": [
    "model_1.save_weights(\"mc2_model_1.h5\")\n",
    "print(\"Saved model to disk\")\n",
    "\n",
    "scores_1={}\n",
    "score_emb_1 = model_1.evaluate(X_test, y_test, verbose=0)\n",
    "scores_1[\"GRU_word2vec_reviews\"] = score_emb_1\n",
    "print('Test loss:', score_emb_1[0])\n",
    "print('Test accuracy:', score_emb_1[1])"
   ]
  },
  {
   "cell_type": "markdown",
   "metadata": {},
   "source": [
    "### Second Model (Bidirectional)\n",
    "To further improve the results we will implement a bidirectional version of the network. In addition to that, we will define early stopping and callbacks. Moreover we increase the number of neurons in the GRU layer to 16 in order to further improve performace. "
   ]
  },
  {
   "cell_type": "code",
   "execution_count": 63,
   "metadata": {},
   "outputs": [],
   "source": [
    "import tensorflow as tf\n",
    "from keras.applications import Xception\n",
    "from keras.utils import multi_gpu_model"
   ]
  },
  {
   "cell_type": "code",
   "execution_count": 64,
   "metadata": {},
   "outputs": [],
   "source": [
    "from keras.callbacks import ModelCheckpoint\n",
    "from keras.callbacks import EarlyStopping\n",
    "\n",
    "epochs=25\n",
    "# Define early stopping with callbacks\n",
    "es = EarlyStopping(monitor='val_acc', mode='max', min_delta=1, patience=15,\n",
    "                   restore_best_weights=True,\n",
    "                   verbose = 1) # Stop training when loss decreases less than 1%\n",
    "mc = ModelCheckpoint('best_model_2.h5', monitor='val_acc', mode='max', verbose=1)"
   ]
  },
  {
   "cell_type": "code",
   "execution_count": 65,
   "metadata": {},
   "outputs": [
    {
     "data": {
      "text/plain": [
       "<keras.callbacks.EarlyStopping at 0x1a3cf010f0>"
      ]
     },
     "execution_count": 65,
     "metadata": {},
     "output_type": "execute_result"
    }
   ],
   "source": [
    "es"
   ]
  },
  {
   "cell_type": "code",
   "execution_count": 66,
   "metadata": {},
   "outputs": [],
   "source": [
    "from keras.optimizers import SGD\n",
    "learning_rate = 0.1\n",
    "decay_rate = learning_rate / epochs\n",
    "momentum = 0.8\n",
    "sgd = SGD(lr=learning_rate, momentum=momentum, decay=decay_rate, nesterov=True)"
   ]
  },
  {
   "cell_type": "code",
   "execution_count": 75,
   "metadata": {},
   "outputs": [
    {
     "name": "stdout",
     "output_type": "stream",
     "text": [
      "_________________________________________________________________\n",
      "Layer (type)                 Output Shape              Param #   \n",
      "=================================================================\n",
      "embedding_14 (Embedding)     (None, 550, 100)          51732300  \n",
      "_________________________________________________________________\n",
      "bidirectional_6 (Bidirection (None, 32)                11232     \n",
      "_________________________________________________________________\n",
      "dense_4 (Dense)              (None, 5)                 165       \n",
      "=================================================================\n",
      "Total params: 51,743,697\n",
      "Trainable params: 11,397\n",
      "Non-trainable params: 51,732,300\n",
      "_________________________________________________________________\n",
      "None\n"
     ]
    }
   ],
   "source": [
    "from keras.layers import Bidirectional\n",
    "embedding_layer_2=Embedding(num_words, #size of vocab\n",
    "                          emb, #size of embedding \n",
    "                          embeddings_initializer=Constant(embedding_matrix), #weights to start with, and not touch during training\n",
    "                          input_length=major_sen, \n",
    "                          trainable=False  # do no update these weights\n",
    "                         )\n",
    "\n",
    "model_2 = Sequential()\n",
    "model_2.add(embedding_layer_2)\n",
    "model_2.add(Bidirectional(GRU(16), merge_mode=\"concat\"))\n",
    "model_2.add(Dense(5, activation='softmax'))\n",
    "model_2.compile(loss=\"binary_crossentropy\", optimizer=sgd, metrics=[\"accuracy\"])\n",
    "\n",
    "print(model_2.summary())"
   ]
  },
  {
   "cell_type": "code",
   "execution_count": 76,
   "metadata": {
    "colab": {
     "base_uri": "https://localhost:8080/",
     "height": 923
    },
    "colab_type": "code",
    "id": "zQHNLDrNBsJA",
    "outputId": "b9134171-7914-41ae-d35c-479dce973254"
   },
   "outputs": [
    {
     "name": "stdout",
     "output_type": "stream",
     "text": [
      "Train on 7500 samples, validate on 2500 samples\n",
      "Epoch 1/25\n",
      "7500/7500 [==============================] - 275s 37ms/step - loss: 0.4340 - acc: 0.8242 - val_loss: 0.3937 - val_acc: 0.8379\n",
      "\n",
      "Epoch 00001: saving model to best_model_2.h5\n",
      "Epoch 2/25\n",
      "7500/7500 [==============================] - 37s 5ms/step - loss: 0.3740 - acc: 0.8486 - val_loss: 0.3826 - val_acc: 0.8415\n",
      "\n",
      "Epoch 00002: saving model to best_model_2.h5\n",
      "Epoch 3/25\n",
      "7500/7500 [==============================] - 32s 4ms/step - loss: 0.3646 - acc: 0.8517 - val_loss: 0.3785 - val_acc: 0.8430\n",
      "\n",
      "Epoch 00003: saving model to best_model_2.h5\n",
      "Epoch 4/25\n",
      "7500/7500 [==============================] - 37s 5ms/step - loss: 0.3595 - acc: 0.8537 - val_loss: 0.3768 - val_acc: 0.8422\n",
      "\n",
      "Epoch 00004: saving model to best_model_2.h5\n",
      "Epoch 5/25\n",
      "7500/7500 [==============================] - 31s 4ms/step - loss: 0.3557 - acc: 0.8549 - val_loss: 0.3762 - val_acc: 0.8426\n",
      "\n",
      "Epoch 00005: saving model to best_model_2.h5\n",
      "Epoch 6/25\n",
      "7500/7500 [==============================] - 46s 6ms/step - loss: 0.3529 - acc: 0.8558 - val_loss: 0.3753 - val_acc: 0.8431\n",
      "\n",
      "Epoch 00006: saving model to best_model_2.h5\n",
      "Epoch 7/25\n",
      "7500/7500 [==============================] - 44s 6ms/step - loss: 0.3505 - acc: 0.8566 - val_loss: 0.3744 - val_acc: 0.8438\n",
      "\n",
      "Epoch 00007: saving model to best_model_2.h5\n",
      "Epoch 8/25\n",
      "7500/7500 [==============================] - 41s 5ms/step - loss: 0.3486 - acc: 0.8574 - val_loss: 0.3744 - val_acc: 0.8430\n",
      "\n",
      "Epoch 00008: saving model to best_model_2.h5\n",
      "Epoch 9/25\n",
      "7500/7500 [==============================] - 31s 4ms/step - loss: 0.3465 - acc: 0.8588 - val_loss: 0.3745 - val_acc: 0.8435\n",
      "\n",
      "Epoch 00009: saving model to best_model_2.h5\n",
      "Epoch 10/25\n",
      "7500/7500 [==============================] - 37s 5ms/step - loss: 0.3448 - acc: 0.8595 - val_loss: 0.3746 - val_acc: 0.8442\n",
      "\n",
      "Epoch 00010: saving model to best_model_2.h5\n",
      "Epoch 11/25\n",
      "7500/7500 [==============================] - 30s 4ms/step - loss: 0.3434 - acc: 0.8603 - val_loss: 0.3743 - val_acc: 0.8442\n",
      "\n",
      "Epoch 00011: saving model to best_model_2.h5\n",
      "Epoch 12/25\n",
      "7500/7500 [==============================] - 36s 5ms/step - loss: 0.3419 - acc: 0.8609 - val_loss: 0.3742 - val_acc: 0.8450\n",
      "\n",
      "Epoch 00012: saving model to best_model_2.h5\n",
      "Epoch 13/25\n",
      "7500/7500 [==============================] - 56s 7ms/step - loss: 0.3406 - acc: 0.8613 - val_loss: 0.3743 - val_acc: 0.8454\n",
      "\n",
      "Epoch 00013: saving model to best_model_2.h5\n",
      "Epoch 14/25\n",
      "7500/7500 [==============================] - 38s 5ms/step - loss: 0.3394 - acc: 0.8619 - val_loss: 0.3746 - val_acc: 0.8452\n",
      "\n",
      "Epoch 00014: saving model to best_model_2.h5\n",
      "Epoch 15/25\n",
      "7500/7500 [==============================] - 37s 5ms/step - loss: 0.3382 - acc: 0.8624 - val_loss: 0.3747 - val_acc: 0.8456\n",
      "\n",
      "Epoch 00015: saving model to best_model_2.h5\n",
      "Epoch 16/25\n",
      "7500/7500 [==============================] - 37s 5ms/step - loss: 0.3370 - acc: 0.8628 - val_loss: 0.3748 - val_acc: 0.8454\n",
      "\n",
      "Epoch 00016: saving model to best_model_2.h5\n",
      "Epoch 17/25\n",
      "7500/7500 [==============================] - 37s 5ms/step - loss: 0.3359 - acc: 0.8639 - val_loss: 0.3751 - val_acc: 0.8451\n",
      "\n",
      "Epoch 00017: saving model to best_model_2.h5\n",
      "Epoch 18/25\n",
      "7500/7500 [==============================] - 37s 5ms/step - loss: 0.3349 - acc: 0.8640 - val_loss: 0.3755 - val_acc: 0.8458\n",
      "\n",
      "Epoch 00018: saving model to best_model_2.h5\n",
      "Epoch 19/25\n",
      "7500/7500 [==============================] - 27s 4ms/step - loss: 0.3339 - acc: 0.8643 - val_loss: 0.3761 - val_acc: 0.8457\n",
      "\n",
      "Epoch 00019: saving model to best_model_2.h5\n",
      "Epoch 20/25\n",
      "7500/7500 [==============================] - 48s 6ms/step - loss: 0.3330 - acc: 0.8650 - val_loss: 0.3763 - val_acc: 0.8453\n",
      "\n",
      "Epoch 00020: saving model to best_model_2.h5\n",
      "Epoch 21/25\n",
      "7500/7500 [==============================] - 28s 4ms/step - loss: 0.3321 - acc: 0.8651 - val_loss: 0.3765 - val_acc: 0.8454\n",
      "\n",
      "Epoch 00021: saving model to best_model_2.h5\n",
      "Epoch 22/25\n",
      "7500/7500 [==============================] - 30s 4ms/step - loss: 0.3312 - acc: 0.8655 - val_loss: 0.3771 - val_acc: 0.8452\n",
      "\n",
      "Epoch 00022: saving model to best_model_2.h5\n",
      "Epoch 23/25\n",
      "7500/7500 [==============================] - 33s 4ms/step - loss: 0.3304 - acc: 0.8663 - val_loss: 0.3774 - val_acc: 0.8449\n",
      "\n",
      "Epoch 00023: saving model to best_model_2.h5\n",
      "Epoch 24/25\n",
      "7500/7500 [==============================] - 29s 4ms/step - loss: 0.3297 - acc: 0.8661 - val_loss: 0.3778 - val_acc: 0.8449\n",
      "\n",
      "Epoch 00024: saving model to best_model_2.h5\n",
      "Epoch 25/25\n",
      "7500/7500 [==============================] - 28s 4ms/step - loss: 0.3289 - acc: 0.8664 - val_loss: 0.3781 - val_acc: 0.8454\n",
      "\n",
      "Epoch 00025: saving model to best_model_2.h5\n"
     ]
    }
   ],
   "source": [
    "history_2 = model_2.fit(X_train,y_train, batch_size=256, epochs=epochs, validation_data=(X_test,y_test), shuffle=True, verbose=1, \n",
    "                        callbacks = [mc])"
   ]
  },
  {
   "cell_type": "markdown",
   "metadata": {},
   "source": [
    "The following graph illustrates training and test accuracy of the bidirectional model. It shows a significant increase in accuracy (test accuracy now at 0.845) compared to the previous GRU model as well as to the benchmark. However it also shows a strong tendency to overfit as the training accuracy is much higher than the test accuracy and keeps rising. However as the validation accuracy does not worsen, overfitting does not appear to have a negative impact on it."
   ]
  },
  {
   "cell_type": "code",
   "execution_count": 77,
   "metadata": {},
   "outputs": [
    {
     "data": {
      "image/png": "[encoded data removed]",
      "text/plain": [
       "<Figure size 432x288 with 1 Axes>"
      ]
     },
     "metadata": {
      "needs_background": "light"
     },
     "output_type": "display_data"
    }
   ],
   "source": [
    "plt.plot(history_2.history['acc'])\n",
    "plt.plot(history_2.history['val_acc'])\n",
    "plt.title('model accuracy')\n",
    "plt.ylabel('accuracy')\n",
    "plt.xlabel('epoch')\n",
    "plt.legend(['train', 'validation'], loc='upper left')\n",
    "plt.show()"
   ]
  },
  {
   "cell_type": "markdown",
   "metadata": {},
   "source": [
    "The following chart shows the results without Callbacks and \"adam\" as an optimizer."
   ]
  },
  {
   "cell_type": "code",
   "execution_count": 317,
   "metadata": {
    "colab": {
     "base_uri": "https://localhost:8080/",
     "height": 295
    },
    "colab_type": "code",
    "id": "IjUAzgWOwTEY",
    "outputId": "2d86ce58-c185-44bd-8e0c-59f30bdfc6b5"
   },
   "outputs": [
    {
     "data": {
      "image/png": "[encoded data removed]",
      "text/plain": [
       "<Figure size 432x288 with 1 Axes>"
      ]
     },
     "metadata": {
      "needs_background": "light"
     },
     "output_type": "display_data"
    }
   ],
   "source": [
    "plt.plot(history_2.history['acc'])\n",
    "plt.plot(history_2.history['val_acc'])\n",
    "plt.title('model accuracy')\n",
    "plt.ylabel('accuracy')\n",
    "plt.xlabel('epoch')\n",
    "plt.legend(['train', 'validation'], loc='upper left')\n",
    "plt.show()"
   ]
  },
  {
   "cell_type": "code",
   "execution_count": 78,
   "metadata": {
    "colab": {
     "base_uri": "https://localhost:8080/",
     "height": 69
    },
    "colab_type": "code",
    "id": "UXgbZs8qJipr",
    "outputId": "b5610ea2-9d89-4b74-8251-8053432d7d46"
   },
   "outputs": [
    {
     "name": "stdout",
     "output_type": "stream",
     "text": [
      "Saved model to disk\n",
      "Test loss: 0.3781320651531219\n",
      "Test accuracy: 0.8454400001525879\n"
     ]
    }
   ],
   "source": [
    "model_2.save_weights(\"mc2_model_2.h5\")\n",
    "print(\"Saved model to disk\")\n",
    "\n",
    "scores_2={}\n",
    "score_emb_2 = model_2.evaluate(X_test, y_test, verbose=0)\n",
    "scores_2[\"GRU_word2vec_reviews\"] = score_emb_2\n",
    "print('Test loss:', score_emb_2[0])\n",
    "print('Test accuracy:', score_emb_2[1])"
   ]
  },
  {
   "cell_type": "code",
   "execution_count": 79,
   "metadata": {
    "colab": {
     "base_uri": "https://localhost:8080/",
     "height": 34
    },
    "colab_type": "code",
    "id": "n8Qk_p8GsGgU",
    "outputId": "0a3ee13c-2d32-4440-d87d-9f53b490089d"
   },
   "outputs": [
    {
     "data": {
      "text/plain": [
       "<keras.callbacks.History at 0x1a3cee4828>"
      ]
     },
     "execution_count": 79,
     "metadata": {},
     "output_type": "execute_result"
    }
   ],
   "source": [
    "history_2"
   ]
  },
  {
   "cell_type": "markdown",
   "metadata": {},
   "source": [
    "### Prediction"
   ]
  },
  {
   "cell_type": "markdown",
   "metadata": {},
   "source": [
    "Based on the best model a prediction for the test data will be made."
   ]
  },
  {
   "cell_type": "code",
   "execution_count": 80,
   "metadata": {},
   "outputs": [
    {
     "data": {
      "text/plain": [
       "212253"
      ]
     },
     "execution_count": 80,
     "metadata": {},
     "output_type": "execute_result"
    }
   ],
   "source": [
    "np.amax(padded_test)"
   ]
  },
  {
   "cell_type": "markdown",
   "metadata": {},
   "source": [
    "Words that have not appeared in the training data will need to be substituted by zeros."
   ]
  },
  {
   "cell_type": "code",
   "execution_count": 81,
   "metadata": {
    "colab": {
     "base_uri": "https://localhost:8080/",
     "height": 34
    },
    "colab_type": "code",
    "id": "hEIbr0sWBsWs",
    "outputId": "ca3b5770-ea8e-4570-cf61-5fb5af5c5dab"
   },
   "outputs": [
    {
     "name": "stdout",
     "output_type": "stream",
     "text": [
      "(212849, 550)\n",
      "212253.0\n"
     ]
    }
   ],
   "source": [
    "padded_test_clean = np.zeros((212849, 550))\n",
    "for index, value in enumerate(padded_test):\n",
    "    vector = value\n",
    "    for i in range(0,550):\n",
    "              if vector[i] >= num_words:\n",
    "                  vector[i] = 0\n",
    "    if vector is not None:\n",
    "        padded_test_clean[index] = vector\n",
    "        \n",
    "print(padded_test_clean.shape)\n",
    "print(np.amax(padded_test_clean))"
   ]
  },
  {
   "cell_type": "code",
   "execution_count": 82,
   "metadata": {},
   "outputs": [],
   "source": [
    "padded_test_clean_int = padded_test_clean.astype(int)"
   ]
  },
  {
   "cell_type": "code",
   "execution_count": 83,
   "metadata": {},
   "outputs": [],
   "source": [
    "#save the padded test clean data \n",
    "with open('padded_test_clean_test_int.pkl','wb') as path_name:\n",
    "    pickle.dump(padded_test_clean_int, path_name)"
   ]
  },
  {
   "cell_type": "code",
   "execution_count": 84,
   "metadata": {},
   "outputs": [
    {
     "name": "stdout",
     "output_type": "stream",
     "text": [
      "212849/212849 [==============================] - 690s 3ms/step\n"
     ]
    }
   ],
   "source": [
    "pred = model_2.predict(padded_test_clean_int, verbose = 1)"
   ]
  },
  {
   "cell_type": "markdown",
   "metadata": {},
   "source": [
    "Save prediction in correct format. "
   ]
  },
  {
   "cell_type": "code",
   "execution_count": 89,
   "metadata": {},
   "outputs": [],
   "source": [
    "import csv"
   ]
  },
  {
   "cell_type": "code",
   "execution_count": 85,
   "metadata": {},
   "outputs": [],
   "source": [
    "pred_rating = np.argmax(pred, axis=1)"
   ]
  },
  {
   "cell_type": "code",
   "execution_count": 87,
   "metadata": {},
   "outputs": [],
   "source": [
    "sub = pd.DataFrame(data = list(zip(test['product_id'], (pred_rating+1))),\n",
    "                       columns = [\"product_id\", \"star_rating\"])"
   ]
  },
  {
   "cell_type": "code",
   "execution_count": 1,
   "metadata": {},
   "outputs": [
    {
     "ename": "NameError",
     "evalue": "name 'sub' is not defined",
     "output_type": "error",
     "traceback": [
      "\u001b[0;31m---------------------------------------------------------------------------\u001b[0m",
      "\u001b[0;31mNameError\u001b[0m                                 Traceback (most recent call last)",
      "\u001b[0;32m<ipython-input-1-ff845d0389b9>\u001b[0m in \u001b[0;36m<module>\u001b[0;34m\u001b[0m\n\u001b[0;32m----> 1\u001b[0;31m \u001b[0msub\u001b[0m\u001b[0;34m.\u001b[0m\u001b[0mto_csv\u001b[0m\u001b[0;34m(\u001b[0m\u001b[0;34m'MC02_MaRä.csv'\u001b[0m\u001b[0;34m,\u001b[0m \u001b[0mencoding\u001b[0m\u001b[0;34m=\u001b[0m\u001b[0;34m'utf-8'\u001b[0m\u001b[0;34m,\u001b[0m \u001b[0mindex\u001b[0m\u001b[0;34m=\u001b[0m\u001b[0;32mFalse\u001b[0m\u001b[0;34m,\u001b[0m \u001b[0mquoting\u001b[0m \u001b[0;34m=\u001b[0m \u001b[0mcsv\u001b[0m\u001b[0;34m.\u001b[0m\u001b[0mQUOTE_NONNUMERIC\u001b[0m\u001b[0;34m)\u001b[0m\u001b[0;34m\u001b[0m\u001b[0;34m\u001b[0m\u001b[0m\n\u001b[0m",
      "\u001b[0;31mNameError\u001b[0m: name 'sub' is not defined"
     ]
    }
   ],
   "source": [
    "sub.to_csv('MC02_MaRä.csv', encoding='utf-8', index=False, quoting = csv.QUOTE_NONNUMERIC)"
   ]
  },
  {
   "cell_type": "markdown",
   "metadata": {},
   "source": [
    "## Evaluation"
   ]
  },
  {
   "cell_type": "markdown",
   "metadata": {},
   "source": [
    "In the course of this work several different models were built to predict from textual data. The first model was a simple model built on 20k observations. We chose a gated recurrent unit model (GRU) because it addresses the vanishing gradient problem that recurrent neural networks (RNN) suffer from. As long short-term memory (LSTM) model would have been possible as well. As scientific research does not prove that one of the two models is profoundly more suitable for the task at hand we chose the GRU model (1). \n",
    "When comparing the validation accuracy of the GRU model to the benchmark logit model it appears that it performs comparably low.\n",
    "In order to improve performance we incorporated a bidirectional architecture into our GRU model. We chose a bidirectional architecture because it enables the model to learn not only from past data as conventional recurrent neural networks do, but also consider future context (2). As we are working on a natural language processing task this makes sense because the meaning of a word does not only depend on the words that came before it in a sentence but also on the ones that come after.\n",
    "As shown in the above plots the bidirectional model improved performance significantly. \n"
   ]
  },
  {
   "cell_type": "markdown",
   "metadata": {},
   "source": [
    "## Discussion"
   ]
  },
  {
   "cell_type": "markdown",
   "metadata": {},
   "source": [
    "The validation accuracy of the bidirectional GRU model is comparably high. However, when looking at the resulting predictions it seems that the model has a bias towards predicting the majority class of five star ratings. This can be explained by the fact, that the training and test data is highly unbalanced. To tackle this problem a model built on a balanced subsample was built in a separate notebook. However it resulted in an extremely low validation accuracy of around 40% after 25 epochs and was therefore not further pursued."
   ]
  },
  {
   "cell_type": "markdown",
   "metadata": {},
   "source": [
    "## Outlook"
   ]
  },
  {
   "cell_type": "markdown",
   "metadata": {},
   "source": [
    "Further improvements in validation accuracy and better generalization abilities might have been accomplished by including drop out, building a model with more layers or with different numbers of neurons. We would gladly have experimented with these parameters however as training a word2vector model on 1m observations was very time consuming and we originally tried to train our model on the full data set we were forced to focus on building a working model in the time that was left.\n",
    "It should be mentioned that this predictions task could have been tackled in a slightly different way. We used the combination of review titles and review bodies to predict ratings. However most people already summarise their opinion in the review title. It might have have been sufficient to train the model on review titles and ignore the time consuming training on the review texts."
   ]
  },
  {
   "cell_type": "markdown",
   "metadata": {},
   "source": [
    "## Bibliography"
   ]
  },
  {
   "cell_type": "markdown",
   "metadata": {},
   "source": [
    "(1)  J. Chung, C. Gulcehre, K. Cho, and Y. Bengio, “Empirical evaluation of gated recurrent neural networks on sequence modeling,” arXiv preprint arXiv:1412.3555, 2014.\n",
    "\n",
    "(2) H. Salehinejad, S. Sankar, J. Barfett, E.Colak, and S. Valaee, “Recent Advances in Recurrent Neural Networks”, arXiv: 1801.01078v3, 2018\n"
   ]
  }
 ],
 "metadata": {
  "accelerator": "GPU",
  "colab": {
   "collapsed_sections": [
    "CT4SJjqCS9cS",
    "-SKuh07cTPgy"
   ],
   "name": "ADAMS_MC_2.ipynb",
   "provenance": [],
   "toc_visible": true,
   "version": "0.3.2"
  },
  "kernelspec": {
   "display_name": "Python 3",
   "language": "python",
   "name": "python3"
  },
  "language_info": {
   "codemirror_mode": {
    "name": "ipython",
    "version": 3
   },
   "file_extension": ".py",
   "mimetype": "text/x-python",
   "name": "python",
   "nbconvert_exporter": "python",
   "pygments_lexer": "ipython3",
   "version": "3.7.3"
  }
 },
 "nbformat": 4,
 "nbformat_minor": 2
}
